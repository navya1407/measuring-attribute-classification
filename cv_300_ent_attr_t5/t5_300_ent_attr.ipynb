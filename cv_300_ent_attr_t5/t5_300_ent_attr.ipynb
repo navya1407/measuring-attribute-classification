{
  "nbformat": 4,
  "nbformat_minor": 0,
  "metadata": {
    "colab": {
      "provenance": [],
      "gpuType": "T4"
    },
    "kernelspec": {
      "name": "python3",
      "display_name": "Python 3"
    },
    "language_info": {
      "name": "python"
    },
    "accelerator": "GPU",
    "gpuClass": "standard",
    "widgets": {
      "application/vnd.jupyter.widget-state+json": {
        "b16997d5035f4ebab2ef5dce6b0ace1f": {
          "model_module": "@jupyter-widgets/controls",
          "model_name": "HBoxModel",
          "model_module_version": "1.5.0",
          "state": {
            "_dom_classes": [],
            "_model_module": "@jupyter-widgets/controls",
            "_model_module_version": "1.5.0",
            "_model_name": "HBoxModel",
            "_view_count": null,
            "_view_module": "@jupyter-widgets/controls",
            "_view_module_version": "1.5.0",
            "_view_name": "HBoxView",
            "box_style": "",
            "children": [
              "IPY_MODEL_46313854e6544bd9a5de9b4d9d614073",
              "IPY_MODEL_96a4bd54214c42b6916b70ee28cca32b",
              "IPY_MODEL_cca92a0bf182453ab79ff4b687fd7112"
            ],
            "layout": "IPY_MODEL_78d65d4471664788bb6b33c6bd98c7ef"
          }
        },
        "46313854e6544bd9a5de9b4d9d614073": {
          "model_module": "@jupyter-widgets/controls",
          "model_name": "HTMLModel",
          "model_module_version": "1.5.0",
          "state": {
            "_dom_classes": [],
            "_model_module": "@jupyter-widgets/controls",
            "_model_module_version": "1.5.0",
            "_model_name": "HTMLModel",
            "_view_count": null,
            "_view_module": "@jupyter-widgets/controls",
            "_view_module_version": "1.5.0",
            "_view_name": "HTMLView",
            "description": "",
            "description_tooltip": null,
            "layout": "IPY_MODEL_dcc50f529a3d47df8311fc2415b52549",
            "placeholder": "​",
            "style": "IPY_MODEL_bd9901028f31419ba6d0fde2e0ded618",
            "value": "Downloading (…)lve/main/config.json: 100%"
          }
        },
        "96a4bd54214c42b6916b70ee28cca32b": {
          "model_module": "@jupyter-widgets/controls",
          "model_name": "FloatProgressModel",
          "model_module_version": "1.5.0",
          "state": {
            "_dom_classes": [],
            "_model_module": "@jupyter-widgets/controls",
            "_model_module_version": "1.5.0",
            "_model_name": "FloatProgressModel",
            "_view_count": null,
            "_view_module": "@jupyter-widgets/controls",
            "_view_module_version": "1.5.0",
            "_view_name": "ProgressView",
            "bar_style": "success",
            "description": "",
            "description_tooltip": null,
            "layout": "IPY_MODEL_7f04077f99a94408a81b42a50c85b4b8",
            "max": 1208,
            "min": 0,
            "orientation": "horizontal",
            "style": "IPY_MODEL_f017a9ee82874bdc80aaa85e3a4c268e",
            "value": 1208
          }
        },
        "cca92a0bf182453ab79ff4b687fd7112": {
          "model_module": "@jupyter-widgets/controls",
          "model_name": "HTMLModel",
          "model_module_version": "1.5.0",
          "state": {
            "_dom_classes": [],
            "_model_module": "@jupyter-widgets/controls",
            "_model_module_version": "1.5.0",
            "_model_name": "HTMLModel",
            "_view_count": null,
            "_view_module": "@jupyter-widgets/controls",
            "_view_module_version": "1.5.0",
            "_view_name": "HTMLView",
            "description": "",
            "description_tooltip": null,
            "layout": "IPY_MODEL_c94bb773b4564b4fbb3a389a1fc43f6b",
            "placeholder": "​",
            "style": "IPY_MODEL_1596dd7624864edabd5277d6b3ec91c7",
            "value": " 1.21k/1.21k [00:00&lt;00:00, 34.0kB/s]"
          }
        },
        "78d65d4471664788bb6b33c6bd98c7ef": {
          "model_module": "@jupyter-widgets/base",
          "model_name": "LayoutModel",
          "model_module_version": "1.2.0",
          "state": {
            "_model_module": "@jupyter-widgets/base",
            "_model_module_version": "1.2.0",
            "_model_name": "LayoutModel",
            "_view_count": null,
            "_view_module": "@jupyter-widgets/base",
            "_view_module_version": "1.2.0",
            "_view_name": "LayoutView",
            "align_content": null,
            "align_items": null,
            "align_self": null,
            "border": null,
            "bottom": null,
            "display": null,
            "flex": null,
            "flex_flow": null,
            "grid_area": null,
            "grid_auto_columns": null,
            "grid_auto_flow": null,
            "grid_auto_rows": null,
            "grid_column": null,
            "grid_gap": null,
            "grid_row": null,
            "grid_template_areas": null,
            "grid_template_columns": null,
            "grid_template_rows": null,
            "height": null,
            "justify_content": null,
            "justify_items": null,
            "left": null,
            "margin": null,
            "max_height": null,
            "max_width": null,
            "min_height": null,
            "min_width": null,
            "object_fit": null,
            "object_position": null,
            "order": null,
            "overflow": null,
            "overflow_x": null,
            "overflow_y": null,
            "padding": null,
            "right": null,
            "top": null,
            "visibility": null,
            "width": null
          }
        },
        "dcc50f529a3d47df8311fc2415b52549": {
          "model_module": "@jupyter-widgets/base",
          "model_name": "LayoutModel",
          "model_module_version": "1.2.0",
          "state": {
            "_model_module": "@jupyter-widgets/base",
            "_model_module_version": "1.2.0",
            "_model_name": "LayoutModel",
            "_view_count": null,
            "_view_module": "@jupyter-widgets/base",
            "_view_module_version": "1.2.0",
            "_view_name": "LayoutView",
            "align_content": null,
            "align_items": null,
            "align_self": null,
            "border": null,
            "bottom": null,
            "display": null,
            "flex": null,
            "flex_flow": null,
            "grid_area": null,
            "grid_auto_columns": null,
            "grid_auto_flow": null,
            "grid_auto_rows": null,
            "grid_column": null,
            "grid_gap": null,
            "grid_row": null,
            "grid_template_areas": null,
            "grid_template_columns": null,
            "grid_template_rows": null,
            "height": null,
            "justify_content": null,
            "justify_items": null,
            "left": null,
            "margin": null,
            "max_height": null,
            "max_width": null,
            "min_height": null,
            "min_width": null,
            "object_fit": null,
            "object_position": null,
            "order": null,
            "overflow": null,
            "overflow_x": null,
            "overflow_y": null,
            "padding": null,
            "right": null,
            "top": null,
            "visibility": null,
            "width": null
          }
        },
        "bd9901028f31419ba6d0fde2e0ded618": {
          "model_module": "@jupyter-widgets/controls",
          "model_name": "DescriptionStyleModel",
          "model_module_version": "1.5.0",
          "state": {
            "_model_module": "@jupyter-widgets/controls",
            "_model_module_version": "1.5.0",
            "_model_name": "DescriptionStyleModel",
            "_view_count": null,
            "_view_module": "@jupyter-widgets/base",
            "_view_module_version": "1.2.0",
            "_view_name": "StyleView",
            "description_width": ""
          }
        },
        "7f04077f99a94408a81b42a50c85b4b8": {
          "model_module": "@jupyter-widgets/base",
          "model_name": "LayoutModel",
          "model_module_version": "1.2.0",
          "state": {
            "_model_module": "@jupyter-widgets/base",
            "_model_module_version": "1.2.0",
            "_model_name": "LayoutModel",
            "_view_count": null,
            "_view_module": "@jupyter-widgets/base",
            "_view_module_version": "1.2.0",
            "_view_name": "LayoutView",
            "align_content": null,
            "align_items": null,
            "align_self": null,
            "border": null,
            "bottom": null,
            "display": null,
            "flex": null,
            "flex_flow": null,
            "grid_area": null,
            "grid_auto_columns": null,
            "grid_auto_flow": null,
            "grid_auto_rows": null,
            "grid_column": null,
            "grid_gap": null,
            "grid_row": null,
            "grid_template_areas": null,
            "grid_template_columns": null,
            "grid_template_rows": null,
            "height": null,
            "justify_content": null,
            "justify_items": null,
            "left": null,
            "margin": null,
            "max_height": null,
            "max_width": null,
            "min_height": null,
            "min_width": null,
            "object_fit": null,
            "object_position": null,
            "order": null,
            "overflow": null,
            "overflow_x": null,
            "overflow_y": null,
            "padding": null,
            "right": null,
            "top": null,
            "visibility": null,
            "width": null
          }
        },
        "f017a9ee82874bdc80aaa85e3a4c268e": {
          "model_module": "@jupyter-widgets/controls",
          "model_name": "ProgressStyleModel",
          "model_module_version": "1.5.0",
          "state": {
            "_model_module": "@jupyter-widgets/controls",
            "_model_module_version": "1.5.0",
            "_model_name": "ProgressStyleModel",
            "_view_count": null,
            "_view_module": "@jupyter-widgets/base",
            "_view_module_version": "1.2.0",
            "_view_name": "StyleView",
            "bar_color": null,
            "description_width": ""
          }
        },
        "c94bb773b4564b4fbb3a389a1fc43f6b": {
          "model_module": "@jupyter-widgets/base",
          "model_name": "LayoutModel",
          "model_module_version": "1.2.0",
          "state": {
            "_model_module": "@jupyter-widgets/base",
            "_model_module_version": "1.2.0",
            "_model_name": "LayoutModel",
            "_view_count": null,
            "_view_module": "@jupyter-widgets/base",
            "_view_module_version": "1.2.0",
            "_view_name": "LayoutView",
            "align_content": null,
            "align_items": null,
            "align_self": null,
            "border": null,
            "bottom": null,
            "display": null,
            "flex": null,
            "flex_flow": null,
            "grid_area": null,
            "grid_auto_columns": null,
            "grid_auto_flow": null,
            "grid_auto_rows": null,
            "grid_column": null,
            "grid_gap": null,
            "grid_row": null,
            "grid_template_areas": null,
            "grid_template_columns": null,
            "grid_template_rows": null,
            "height": null,
            "justify_content": null,
            "justify_items": null,
            "left": null,
            "margin": null,
            "max_height": null,
            "max_width": null,
            "min_height": null,
            "min_width": null,
            "object_fit": null,
            "object_position": null,
            "order": null,
            "overflow": null,
            "overflow_x": null,
            "overflow_y": null,
            "padding": null,
            "right": null,
            "top": null,
            "visibility": null,
            "width": null
          }
        },
        "1596dd7624864edabd5277d6b3ec91c7": {
          "model_module": "@jupyter-widgets/controls",
          "model_name": "DescriptionStyleModel",
          "model_module_version": "1.5.0",
          "state": {
            "_model_module": "@jupyter-widgets/controls",
            "_model_module_version": "1.5.0",
            "_model_name": "DescriptionStyleModel",
            "_view_count": null,
            "_view_module": "@jupyter-widgets/base",
            "_view_module_version": "1.2.0",
            "_view_name": "StyleView",
            "description_width": ""
          }
        },
        "69e8d4fdbea74218b709eb195de6013f": {
          "model_module": "@jupyter-widgets/controls",
          "model_name": "HBoxModel",
          "model_module_version": "1.5.0",
          "state": {
            "_dom_classes": [],
            "_model_module": "@jupyter-widgets/controls",
            "_model_module_version": "1.5.0",
            "_model_name": "HBoxModel",
            "_view_count": null,
            "_view_module": "@jupyter-widgets/controls",
            "_view_module_version": "1.5.0",
            "_view_name": "HBoxView",
            "box_style": "",
            "children": [
              "IPY_MODEL_652101a76b8a4b8f9a8f7b996fdafb87",
              "IPY_MODEL_5efa9ff1e02840df813aee4dc499d5b1",
              "IPY_MODEL_26e0f4c5d664463a87e755425adf2ae3"
            ],
            "layout": "IPY_MODEL_7bc001db835245cda85fe4d3e549d3d6"
          }
        },
        "652101a76b8a4b8f9a8f7b996fdafb87": {
          "model_module": "@jupyter-widgets/controls",
          "model_name": "HTMLModel",
          "model_module_version": "1.5.0",
          "state": {
            "_dom_classes": [],
            "_model_module": "@jupyter-widgets/controls",
            "_model_module_version": "1.5.0",
            "_model_name": "HTMLModel",
            "_view_count": null,
            "_view_module": "@jupyter-widgets/controls",
            "_view_module_version": "1.5.0",
            "_view_name": "HTMLView",
            "description": "",
            "description_tooltip": null,
            "layout": "IPY_MODEL_63f059adb8a34d01ac686256ea4807cf",
            "placeholder": "​",
            "style": "IPY_MODEL_60e6d0bead1644fd88ed9f8af44c22d6",
            "value": "Downloading pytorch_model.bin: 100%"
          }
        },
        "5efa9ff1e02840df813aee4dc499d5b1": {
          "model_module": "@jupyter-widgets/controls",
          "model_name": "FloatProgressModel",
          "model_module_version": "1.5.0",
          "state": {
            "_dom_classes": [],
            "_model_module": "@jupyter-widgets/controls",
            "_model_module_version": "1.5.0",
            "_model_name": "FloatProgressModel",
            "_view_count": null,
            "_view_module": "@jupyter-widgets/controls",
            "_view_module_version": "1.5.0",
            "_view_name": "ProgressView",
            "bar_style": "success",
            "description": "",
            "description_tooltip": null,
            "layout": "IPY_MODEL_4b6236c041f344e3a948a2a965aa296e",
            "max": 891691430,
            "min": 0,
            "orientation": "horizontal",
            "style": "IPY_MODEL_e7fa352fa782432d816ebbb8f4fb70b9",
            "value": 891691430
          }
        },
        "26e0f4c5d664463a87e755425adf2ae3": {
          "model_module": "@jupyter-widgets/controls",
          "model_name": "HTMLModel",
          "model_module_version": "1.5.0",
          "state": {
            "_dom_classes": [],
            "_model_module": "@jupyter-widgets/controls",
            "_model_module_version": "1.5.0",
            "_model_name": "HTMLModel",
            "_view_count": null,
            "_view_module": "@jupyter-widgets/controls",
            "_view_module_version": "1.5.0",
            "_view_name": "HTMLView",
            "description": "",
            "description_tooltip": null,
            "layout": "IPY_MODEL_dbd7d97ef0dd4a07bf16d662d78aa518",
            "placeholder": "​",
            "style": "IPY_MODEL_6142f4a478d04508b5ae621ce8e7afd9",
            "value": " 892M/892M [00:24&lt;00:00, 37.4MB/s]"
          }
        },
        "7bc001db835245cda85fe4d3e549d3d6": {
          "model_module": "@jupyter-widgets/base",
          "model_name": "LayoutModel",
          "model_module_version": "1.2.0",
          "state": {
            "_model_module": "@jupyter-widgets/base",
            "_model_module_version": "1.2.0",
            "_model_name": "LayoutModel",
            "_view_count": null,
            "_view_module": "@jupyter-widgets/base",
            "_view_module_version": "1.2.0",
            "_view_name": "LayoutView",
            "align_content": null,
            "align_items": null,
            "align_self": null,
            "border": null,
            "bottom": null,
            "display": null,
            "flex": null,
            "flex_flow": null,
            "grid_area": null,
            "grid_auto_columns": null,
            "grid_auto_flow": null,
            "grid_auto_rows": null,
            "grid_column": null,
            "grid_gap": null,
            "grid_row": null,
            "grid_template_areas": null,
            "grid_template_columns": null,
            "grid_template_rows": null,
            "height": null,
            "justify_content": null,
            "justify_items": null,
            "left": null,
            "margin": null,
            "max_height": null,
            "max_width": null,
            "min_height": null,
            "min_width": null,
            "object_fit": null,
            "object_position": null,
            "order": null,
            "overflow": null,
            "overflow_x": null,
            "overflow_y": null,
            "padding": null,
            "right": null,
            "top": null,
            "visibility": null,
            "width": null
          }
        },
        "63f059adb8a34d01ac686256ea4807cf": {
          "model_module": "@jupyter-widgets/base",
          "model_name": "LayoutModel",
          "model_module_version": "1.2.0",
          "state": {
            "_model_module": "@jupyter-widgets/base",
            "_model_module_version": "1.2.0",
            "_model_name": "LayoutModel",
            "_view_count": null,
            "_view_module": "@jupyter-widgets/base",
            "_view_module_version": "1.2.0",
            "_view_name": "LayoutView",
            "align_content": null,
            "align_items": null,
            "align_self": null,
            "border": null,
            "bottom": null,
            "display": null,
            "flex": null,
            "flex_flow": null,
            "grid_area": null,
            "grid_auto_columns": null,
            "grid_auto_flow": null,
            "grid_auto_rows": null,
            "grid_column": null,
            "grid_gap": null,
            "grid_row": null,
            "grid_template_areas": null,
            "grid_template_columns": null,
            "grid_template_rows": null,
            "height": null,
            "justify_content": null,
            "justify_items": null,
            "left": null,
            "margin": null,
            "max_height": null,
            "max_width": null,
            "min_height": null,
            "min_width": null,
            "object_fit": null,
            "object_position": null,
            "order": null,
            "overflow": null,
            "overflow_x": null,
            "overflow_y": null,
            "padding": null,
            "right": null,
            "top": null,
            "visibility": null,
            "width": null
          }
        },
        "60e6d0bead1644fd88ed9f8af44c22d6": {
          "model_module": "@jupyter-widgets/controls",
          "model_name": "DescriptionStyleModel",
          "model_module_version": "1.5.0",
          "state": {
            "_model_module": "@jupyter-widgets/controls",
            "_model_module_version": "1.5.0",
            "_model_name": "DescriptionStyleModel",
            "_view_count": null,
            "_view_module": "@jupyter-widgets/base",
            "_view_module_version": "1.2.0",
            "_view_name": "StyleView",
            "description_width": ""
          }
        },
        "4b6236c041f344e3a948a2a965aa296e": {
          "model_module": "@jupyter-widgets/base",
          "model_name": "LayoutModel",
          "model_module_version": "1.2.0",
          "state": {
            "_model_module": "@jupyter-widgets/base",
            "_model_module_version": "1.2.0",
            "_model_name": "LayoutModel",
            "_view_count": null,
            "_view_module": "@jupyter-widgets/base",
            "_view_module_version": "1.2.0",
            "_view_name": "LayoutView",
            "align_content": null,
            "align_items": null,
            "align_self": null,
            "border": null,
            "bottom": null,
            "display": null,
            "flex": null,
            "flex_flow": null,
            "grid_area": null,
            "grid_auto_columns": null,
            "grid_auto_flow": null,
            "grid_auto_rows": null,
            "grid_column": null,
            "grid_gap": null,
            "grid_row": null,
            "grid_template_areas": null,
            "grid_template_columns": null,
            "grid_template_rows": null,
            "height": null,
            "justify_content": null,
            "justify_items": null,
            "left": null,
            "margin": null,
            "max_height": null,
            "max_width": null,
            "min_height": null,
            "min_width": null,
            "object_fit": null,
            "object_position": null,
            "order": null,
            "overflow": null,
            "overflow_x": null,
            "overflow_y": null,
            "padding": null,
            "right": null,
            "top": null,
            "visibility": null,
            "width": null
          }
        },
        "e7fa352fa782432d816ebbb8f4fb70b9": {
          "model_module": "@jupyter-widgets/controls",
          "model_name": "ProgressStyleModel",
          "model_module_version": "1.5.0",
          "state": {
            "_model_module": "@jupyter-widgets/controls",
            "_model_module_version": "1.5.0",
            "_model_name": "ProgressStyleModel",
            "_view_count": null,
            "_view_module": "@jupyter-widgets/base",
            "_view_module_version": "1.2.0",
            "_view_name": "StyleView",
            "bar_color": null,
            "description_width": ""
          }
        },
        "dbd7d97ef0dd4a07bf16d662d78aa518": {
          "model_module": "@jupyter-widgets/base",
          "model_name": "LayoutModel",
          "model_module_version": "1.2.0",
          "state": {
            "_model_module": "@jupyter-widgets/base",
            "_model_module_version": "1.2.0",
            "_model_name": "LayoutModel",
            "_view_count": null,
            "_view_module": "@jupyter-widgets/base",
            "_view_module_version": "1.2.0",
            "_view_name": "LayoutView",
            "align_content": null,
            "align_items": null,
            "align_self": null,
            "border": null,
            "bottom": null,
            "display": null,
            "flex": null,
            "flex_flow": null,
            "grid_area": null,
            "grid_auto_columns": null,
            "grid_auto_flow": null,
            "grid_auto_rows": null,
            "grid_column": null,
            "grid_gap": null,
            "grid_row": null,
            "grid_template_areas": null,
            "grid_template_columns": null,
            "grid_template_rows": null,
            "height": null,
            "justify_content": null,
            "justify_items": null,
            "left": null,
            "margin": null,
            "max_height": null,
            "max_width": null,
            "min_height": null,
            "min_width": null,
            "object_fit": null,
            "object_position": null,
            "order": null,
            "overflow": null,
            "overflow_x": null,
            "overflow_y": null,
            "padding": null,
            "right": null,
            "top": null,
            "visibility": null,
            "width": null
          }
        },
        "6142f4a478d04508b5ae621ce8e7afd9": {
          "model_module": "@jupyter-widgets/controls",
          "model_name": "DescriptionStyleModel",
          "model_module_version": "1.5.0",
          "state": {
            "_model_module": "@jupyter-widgets/controls",
            "_model_module_version": "1.5.0",
            "_model_name": "DescriptionStyleModel",
            "_view_count": null,
            "_view_module": "@jupyter-widgets/base",
            "_view_module_version": "1.2.0",
            "_view_name": "StyleView",
            "description_width": ""
          }
        },
        "00ae33a2b7874242bc70f0ee5dc6fee0": {
          "model_module": "@jupyter-widgets/controls",
          "model_name": "HBoxModel",
          "model_module_version": "1.5.0",
          "state": {
            "_dom_classes": [],
            "_model_module": "@jupyter-widgets/controls",
            "_model_module_version": "1.5.0",
            "_model_name": "HBoxModel",
            "_view_count": null,
            "_view_module": "@jupyter-widgets/controls",
            "_view_module_version": "1.5.0",
            "_view_name": "HBoxView",
            "box_style": "",
            "children": [
              "IPY_MODEL_3f217d04ca5547cdaf07b3d336aef2d6",
              "IPY_MODEL_903d830d441b4f7fa7f2f53bcbebfd73",
              "IPY_MODEL_4322bd62c0764fcaa91a1db0fdb57ed4"
            ],
            "layout": "IPY_MODEL_cbab8a3d6375468da0ab3d079cd02422"
          }
        },
        "3f217d04ca5547cdaf07b3d336aef2d6": {
          "model_module": "@jupyter-widgets/controls",
          "model_name": "HTMLModel",
          "model_module_version": "1.5.0",
          "state": {
            "_dom_classes": [],
            "_model_module": "@jupyter-widgets/controls",
            "_model_module_version": "1.5.0",
            "_model_name": "HTMLModel",
            "_view_count": null,
            "_view_module": "@jupyter-widgets/controls",
            "_view_module_version": "1.5.0",
            "_view_name": "HTMLView",
            "description": "",
            "description_tooltip": null,
            "layout": "IPY_MODEL_c178bc2b557b4b38b48d1cb01620df22",
            "placeholder": "​",
            "style": "IPY_MODEL_2855f26fbe544d04ab620f40677528e1",
            "value": "Downloading (…)neration_config.json: 100%"
          }
        },
        "903d830d441b4f7fa7f2f53bcbebfd73": {
          "model_module": "@jupyter-widgets/controls",
          "model_name": "FloatProgressModel",
          "model_module_version": "1.5.0",
          "state": {
            "_dom_classes": [],
            "_model_module": "@jupyter-widgets/controls",
            "_model_module_version": "1.5.0",
            "_model_name": "FloatProgressModel",
            "_view_count": null,
            "_view_module": "@jupyter-widgets/controls",
            "_view_module_version": "1.5.0",
            "_view_name": "ProgressView",
            "bar_style": "success",
            "description": "",
            "description_tooltip": null,
            "layout": "IPY_MODEL_4ef09cacce3148d0bef5d4366a9c99bf",
            "max": 147,
            "min": 0,
            "orientation": "horizontal",
            "style": "IPY_MODEL_b8a5c459d23c4fc9a6dc44a92039acbc",
            "value": 147
          }
        },
        "4322bd62c0764fcaa91a1db0fdb57ed4": {
          "model_module": "@jupyter-widgets/controls",
          "model_name": "HTMLModel",
          "model_module_version": "1.5.0",
          "state": {
            "_dom_classes": [],
            "_model_module": "@jupyter-widgets/controls",
            "_model_module_version": "1.5.0",
            "_model_name": "HTMLModel",
            "_view_count": null,
            "_view_module": "@jupyter-widgets/controls",
            "_view_module_version": "1.5.0",
            "_view_name": "HTMLView",
            "description": "",
            "description_tooltip": null,
            "layout": "IPY_MODEL_8376ab1178034d53a8c2c4c145223345",
            "placeholder": "​",
            "style": "IPY_MODEL_4b35d6562d3b40eca34a6dfce444ddfe",
            "value": " 147/147 [00:00&lt;00:00, 11.6kB/s]"
          }
        },
        "cbab8a3d6375468da0ab3d079cd02422": {
          "model_module": "@jupyter-widgets/base",
          "model_name": "LayoutModel",
          "model_module_version": "1.2.0",
          "state": {
            "_model_module": "@jupyter-widgets/base",
            "_model_module_version": "1.2.0",
            "_model_name": "LayoutModel",
            "_view_count": null,
            "_view_module": "@jupyter-widgets/base",
            "_view_module_version": "1.2.0",
            "_view_name": "LayoutView",
            "align_content": null,
            "align_items": null,
            "align_self": null,
            "border": null,
            "bottom": null,
            "display": null,
            "flex": null,
            "flex_flow": null,
            "grid_area": null,
            "grid_auto_columns": null,
            "grid_auto_flow": null,
            "grid_auto_rows": null,
            "grid_column": null,
            "grid_gap": null,
            "grid_row": null,
            "grid_template_areas": null,
            "grid_template_columns": null,
            "grid_template_rows": null,
            "height": null,
            "justify_content": null,
            "justify_items": null,
            "left": null,
            "margin": null,
            "max_height": null,
            "max_width": null,
            "min_height": null,
            "min_width": null,
            "object_fit": null,
            "object_position": null,
            "order": null,
            "overflow": null,
            "overflow_x": null,
            "overflow_y": null,
            "padding": null,
            "right": null,
            "top": null,
            "visibility": null,
            "width": null
          }
        },
        "c178bc2b557b4b38b48d1cb01620df22": {
          "model_module": "@jupyter-widgets/base",
          "model_name": "LayoutModel",
          "model_module_version": "1.2.0",
          "state": {
            "_model_module": "@jupyter-widgets/base",
            "_model_module_version": "1.2.0",
            "_model_name": "LayoutModel",
            "_view_count": null,
            "_view_module": "@jupyter-widgets/base",
            "_view_module_version": "1.2.0",
            "_view_name": "LayoutView",
            "align_content": null,
            "align_items": null,
            "align_self": null,
            "border": null,
            "bottom": null,
            "display": null,
            "flex": null,
            "flex_flow": null,
            "grid_area": null,
            "grid_auto_columns": null,
            "grid_auto_flow": null,
            "grid_auto_rows": null,
            "grid_column": null,
            "grid_gap": null,
            "grid_row": null,
            "grid_template_areas": null,
            "grid_template_columns": null,
            "grid_template_rows": null,
            "height": null,
            "justify_content": null,
            "justify_items": null,
            "left": null,
            "margin": null,
            "max_height": null,
            "max_width": null,
            "min_height": null,
            "min_width": null,
            "object_fit": null,
            "object_position": null,
            "order": null,
            "overflow": null,
            "overflow_x": null,
            "overflow_y": null,
            "padding": null,
            "right": null,
            "top": null,
            "visibility": null,
            "width": null
          }
        },
        "2855f26fbe544d04ab620f40677528e1": {
          "model_module": "@jupyter-widgets/controls",
          "model_name": "DescriptionStyleModel",
          "model_module_version": "1.5.0",
          "state": {
            "_model_module": "@jupyter-widgets/controls",
            "_model_module_version": "1.5.0",
            "_model_name": "DescriptionStyleModel",
            "_view_count": null,
            "_view_module": "@jupyter-widgets/base",
            "_view_module_version": "1.2.0",
            "_view_name": "StyleView",
            "description_width": ""
          }
        },
        "4ef09cacce3148d0bef5d4366a9c99bf": {
          "model_module": "@jupyter-widgets/base",
          "model_name": "LayoutModel",
          "model_module_version": "1.2.0",
          "state": {
            "_model_module": "@jupyter-widgets/base",
            "_model_module_version": "1.2.0",
            "_model_name": "LayoutModel",
            "_view_count": null,
            "_view_module": "@jupyter-widgets/base",
            "_view_module_version": "1.2.0",
            "_view_name": "LayoutView",
            "align_content": null,
            "align_items": null,
            "align_self": null,
            "border": null,
            "bottom": null,
            "display": null,
            "flex": null,
            "flex_flow": null,
            "grid_area": null,
            "grid_auto_columns": null,
            "grid_auto_flow": null,
            "grid_auto_rows": null,
            "grid_column": null,
            "grid_gap": null,
            "grid_row": null,
            "grid_template_areas": null,
            "grid_template_columns": null,
            "grid_template_rows": null,
            "height": null,
            "justify_content": null,
            "justify_items": null,
            "left": null,
            "margin": null,
            "max_height": null,
            "max_width": null,
            "min_height": null,
            "min_width": null,
            "object_fit": null,
            "object_position": null,
            "order": null,
            "overflow": null,
            "overflow_x": null,
            "overflow_y": null,
            "padding": null,
            "right": null,
            "top": null,
            "visibility": null,
            "width": null
          }
        },
        "b8a5c459d23c4fc9a6dc44a92039acbc": {
          "model_module": "@jupyter-widgets/controls",
          "model_name": "ProgressStyleModel",
          "model_module_version": "1.5.0",
          "state": {
            "_model_module": "@jupyter-widgets/controls",
            "_model_module_version": "1.5.0",
            "_model_name": "ProgressStyleModel",
            "_view_count": null,
            "_view_module": "@jupyter-widgets/base",
            "_view_module_version": "1.2.0",
            "_view_name": "StyleView",
            "bar_color": null,
            "description_width": ""
          }
        },
        "8376ab1178034d53a8c2c4c145223345": {
          "model_module": "@jupyter-widgets/base",
          "model_name": "LayoutModel",
          "model_module_version": "1.2.0",
          "state": {
            "_model_module": "@jupyter-widgets/base",
            "_model_module_version": "1.2.0",
            "_model_name": "LayoutModel",
            "_view_count": null,
            "_view_module": "@jupyter-widgets/base",
            "_view_module_version": "1.2.0",
            "_view_name": "LayoutView",
            "align_content": null,
            "align_items": null,
            "align_self": null,
            "border": null,
            "bottom": null,
            "display": null,
            "flex": null,
            "flex_flow": null,
            "grid_area": null,
            "grid_auto_columns": null,
            "grid_auto_flow": null,
            "grid_auto_rows": null,
            "grid_column": null,
            "grid_gap": null,
            "grid_row": null,
            "grid_template_areas": null,
            "grid_template_columns": null,
            "grid_template_rows": null,
            "height": null,
            "justify_content": null,
            "justify_items": null,
            "left": null,
            "margin": null,
            "max_height": null,
            "max_width": null,
            "min_height": null,
            "min_width": null,
            "object_fit": null,
            "object_position": null,
            "order": null,
            "overflow": null,
            "overflow_x": null,
            "overflow_y": null,
            "padding": null,
            "right": null,
            "top": null,
            "visibility": null,
            "width": null
          }
        },
        "4b35d6562d3b40eca34a6dfce444ddfe": {
          "model_module": "@jupyter-widgets/controls",
          "model_name": "DescriptionStyleModel",
          "model_module_version": "1.5.0",
          "state": {
            "_model_module": "@jupyter-widgets/controls",
            "_model_module_version": "1.5.0",
            "_model_name": "DescriptionStyleModel",
            "_view_count": null,
            "_view_module": "@jupyter-widgets/base",
            "_view_module_version": "1.2.0",
            "_view_name": "StyleView",
            "description_width": ""
          }
        },
        "f3938fb0676b4f668e110906cfeaf524": {
          "model_module": "@jupyter-widgets/controls",
          "model_name": "HBoxModel",
          "model_module_version": "1.5.0",
          "state": {
            "_dom_classes": [],
            "_model_module": "@jupyter-widgets/controls",
            "_model_module_version": "1.5.0",
            "_model_name": "HBoxModel",
            "_view_count": null,
            "_view_module": "@jupyter-widgets/controls",
            "_view_module_version": "1.5.0",
            "_view_name": "HBoxView",
            "box_style": "",
            "children": [
              "IPY_MODEL_ef98919dd9814387819ad4d7d5dd5aa0",
              "IPY_MODEL_4380c06ac87a4cc4836359ac08ac59ef",
              "IPY_MODEL_755ffa3b7d264025868c6b2aedaed883"
            ],
            "layout": "IPY_MODEL_80699b68b29745b2946dc74172fc1418"
          }
        },
        "ef98919dd9814387819ad4d7d5dd5aa0": {
          "model_module": "@jupyter-widgets/controls",
          "model_name": "HTMLModel",
          "model_module_version": "1.5.0",
          "state": {
            "_dom_classes": [],
            "_model_module": "@jupyter-widgets/controls",
            "_model_module_version": "1.5.0",
            "_model_name": "HTMLModel",
            "_view_count": null,
            "_view_module": "@jupyter-widgets/controls",
            "_view_module_version": "1.5.0",
            "_view_name": "HTMLView",
            "description": "",
            "description_tooltip": null,
            "layout": "IPY_MODEL_18e99a0368ea412d8bde20975ee6eced",
            "placeholder": "​",
            "style": "IPY_MODEL_dd27381722094a8e84342a68e83b77b8",
            "value": "Downloading (…)ve/main/spiece.model: 100%"
          }
        },
        "4380c06ac87a4cc4836359ac08ac59ef": {
          "model_module": "@jupyter-widgets/controls",
          "model_name": "FloatProgressModel",
          "model_module_version": "1.5.0",
          "state": {
            "_dom_classes": [],
            "_model_module": "@jupyter-widgets/controls",
            "_model_module_version": "1.5.0",
            "_model_name": "FloatProgressModel",
            "_view_count": null,
            "_view_module": "@jupyter-widgets/controls",
            "_view_module_version": "1.5.0",
            "_view_name": "ProgressView",
            "bar_style": "success",
            "description": "",
            "description_tooltip": null,
            "layout": "IPY_MODEL_597f2e88461c45d48fee640ccfc88793",
            "max": 791656,
            "min": 0,
            "orientation": "horizontal",
            "style": "IPY_MODEL_385dadf13ed64f4c82fe9426d75dfdb7",
            "value": 791656
          }
        },
        "755ffa3b7d264025868c6b2aedaed883": {
          "model_module": "@jupyter-widgets/controls",
          "model_name": "HTMLModel",
          "model_module_version": "1.5.0",
          "state": {
            "_dom_classes": [],
            "_model_module": "@jupyter-widgets/controls",
            "_model_module_version": "1.5.0",
            "_model_name": "HTMLModel",
            "_view_count": null,
            "_view_module": "@jupyter-widgets/controls",
            "_view_module_version": "1.5.0",
            "_view_name": "HTMLView",
            "description": "",
            "description_tooltip": null,
            "layout": "IPY_MODEL_68443427e89f411ca475e9414a8abe23",
            "placeholder": "​",
            "style": "IPY_MODEL_a14036fc878c41d49ad0f0c7861725ec",
            "value": " 792k/792k [00:00&lt;00:00, 8.57MB/s]"
          }
        },
        "80699b68b29745b2946dc74172fc1418": {
          "model_module": "@jupyter-widgets/base",
          "model_name": "LayoutModel",
          "model_module_version": "1.2.0",
          "state": {
            "_model_module": "@jupyter-widgets/base",
            "_model_module_version": "1.2.0",
            "_model_name": "LayoutModel",
            "_view_count": null,
            "_view_module": "@jupyter-widgets/base",
            "_view_module_version": "1.2.0",
            "_view_name": "LayoutView",
            "align_content": null,
            "align_items": null,
            "align_self": null,
            "border": null,
            "bottom": null,
            "display": null,
            "flex": null,
            "flex_flow": null,
            "grid_area": null,
            "grid_auto_columns": null,
            "grid_auto_flow": null,
            "grid_auto_rows": null,
            "grid_column": null,
            "grid_gap": null,
            "grid_row": null,
            "grid_template_areas": null,
            "grid_template_columns": null,
            "grid_template_rows": null,
            "height": null,
            "justify_content": null,
            "justify_items": null,
            "left": null,
            "margin": null,
            "max_height": null,
            "max_width": null,
            "min_height": null,
            "min_width": null,
            "object_fit": null,
            "object_position": null,
            "order": null,
            "overflow": null,
            "overflow_x": null,
            "overflow_y": null,
            "padding": null,
            "right": null,
            "top": null,
            "visibility": null,
            "width": null
          }
        },
        "18e99a0368ea412d8bde20975ee6eced": {
          "model_module": "@jupyter-widgets/base",
          "model_name": "LayoutModel",
          "model_module_version": "1.2.0",
          "state": {
            "_model_module": "@jupyter-widgets/base",
            "_model_module_version": "1.2.0",
            "_model_name": "LayoutModel",
            "_view_count": null,
            "_view_module": "@jupyter-widgets/base",
            "_view_module_version": "1.2.0",
            "_view_name": "LayoutView",
            "align_content": null,
            "align_items": null,
            "align_self": null,
            "border": null,
            "bottom": null,
            "display": null,
            "flex": null,
            "flex_flow": null,
            "grid_area": null,
            "grid_auto_columns": null,
            "grid_auto_flow": null,
            "grid_auto_rows": null,
            "grid_column": null,
            "grid_gap": null,
            "grid_row": null,
            "grid_template_areas": null,
            "grid_template_columns": null,
            "grid_template_rows": null,
            "height": null,
            "justify_content": null,
            "justify_items": null,
            "left": null,
            "margin": null,
            "max_height": null,
            "max_width": null,
            "min_height": null,
            "min_width": null,
            "object_fit": null,
            "object_position": null,
            "order": null,
            "overflow": null,
            "overflow_x": null,
            "overflow_y": null,
            "padding": null,
            "right": null,
            "top": null,
            "visibility": null,
            "width": null
          }
        },
        "dd27381722094a8e84342a68e83b77b8": {
          "model_module": "@jupyter-widgets/controls",
          "model_name": "DescriptionStyleModel",
          "model_module_version": "1.5.0",
          "state": {
            "_model_module": "@jupyter-widgets/controls",
            "_model_module_version": "1.5.0",
            "_model_name": "DescriptionStyleModel",
            "_view_count": null,
            "_view_module": "@jupyter-widgets/base",
            "_view_module_version": "1.2.0",
            "_view_name": "StyleView",
            "description_width": ""
          }
        },
        "597f2e88461c45d48fee640ccfc88793": {
          "model_module": "@jupyter-widgets/base",
          "model_name": "LayoutModel",
          "model_module_version": "1.2.0",
          "state": {
            "_model_module": "@jupyter-widgets/base",
            "_model_module_version": "1.2.0",
            "_model_name": "LayoutModel",
            "_view_count": null,
            "_view_module": "@jupyter-widgets/base",
            "_view_module_version": "1.2.0",
            "_view_name": "LayoutView",
            "align_content": null,
            "align_items": null,
            "align_self": null,
            "border": null,
            "bottom": null,
            "display": null,
            "flex": null,
            "flex_flow": null,
            "grid_area": null,
            "grid_auto_columns": null,
            "grid_auto_flow": null,
            "grid_auto_rows": null,
            "grid_column": null,
            "grid_gap": null,
            "grid_row": null,
            "grid_template_areas": null,
            "grid_template_columns": null,
            "grid_template_rows": null,
            "height": null,
            "justify_content": null,
            "justify_items": null,
            "left": null,
            "margin": null,
            "max_height": null,
            "max_width": null,
            "min_height": null,
            "min_width": null,
            "object_fit": null,
            "object_position": null,
            "order": null,
            "overflow": null,
            "overflow_x": null,
            "overflow_y": null,
            "padding": null,
            "right": null,
            "top": null,
            "visibility": null,
            "width": null
          }
        },
        "385dadf13ed64f4c82fe9426d75dfdb7": {
          "model_module": "@jupyter-widgets/controls",
          "model_name": "ProgressStyleModel",
          "model_module_version": "1.5.0",
          "state": {
            "_model_module": "@jupyter-widgets/controls",
            "_model_module_version": "1.5.0",
            "_model_name": "ProgressStyleModel",
            "_view_count": null,
            "_view_module": "@jupyter-widgets/base",
            "_view_module_version": "1.2.0",
            "_view_name": "StyleView",
            "bar_color": null,
            "description_width": ""
          }
        },
        "68443427e89f411ca475e9414a8abe23": {
          "model_module": "@jupyter-widgets/base",
          "model_name": "LayoutModel",
          "model_module_version": "1.2.0",
          "state": {
            "_model_module": "@jupyter-widgets/base",
            "_model_module_version": "1.2.0",
            "_model_name": "LayoutModel",
            "_view_count": null,
            "_view_module": "@jupyter-widgets/base",
            "_view_module_version": "1.2.0",
            "_view_name": "LayoutView",
            "align_content": null,
            "align_items": null,
            "align_self": null,
            "border": null,
            "bottom": null,
            "display": null,
            "flex": null,
            "flex_flow": null,
            "grid_area": null,
            "grid_auto_columns": null,
            "grid_auto_flow": null,
            "grid_auto_rows": null,
            "grid_column": null,
            "grid_gap": null,
            "grid_row": null,
            "grid_template_areas": null,
            "grid_template_columns": null,
            "grid_template_rows": null,
            "height": null,
            "justify_content": null,
            "justify_items": null,
            "left": null,
            "margin": null,
            "max_height": null,
            "max_width": null,
            "min_height": null,
            "min_width": null,
            "object_fit": null,
            "object_position": null,
            "order": null,
            "overflow": null,
            "overflow_x": null,
            "overflow_y": null,
            "padding": null,
            "right": null,
            "top": null,
            "visibility": null,
            "width": null
          }
        },
        "a14036fc878c41d49ad0f0c7861725ec": {
          "model_module": "@jupyter-widgets/controls",
          "model_name": "DescriptionStyleModel",
          "model_module_version": "1.5.0",
          "state": {
            "_model_module": "@jupyter-widgets/controls",
            "_model_module_version": "1.5.0",
            "_model_name": "DescriptionStyleModel",
            "_view_count": null,
            "_view_module": "@jupyter-widgets/base",
            "_view_module_version": "1.2.0",
            "_view_name": "StyleView",
            "description_width": ""
          }
        },
        "a088fa76fddb4711a49541403ed0fb34": {
          "model_module": "@jupyter-widgets/controls",
          "model_name": "HBoxModel",
          "model_module_version": "1.5.0",
          "state": {
            "_dom_classes": [],
            "_model_module": "@jupyter-widgets/controls",
            "_model_module_version": "1.5.0",
            "_model_name": "HBoxModel",
            "_view_count": null,
            "_view_module": "@jupyter-widgets/controls",
            "_view_module_version": "1.5.0",
            "_view_name": "HBoxView",
            "box_style": "",
            "children": [
              "IPY_MODEL_ceff1551c0fb4d1ead8f5ef491fca2fb",
              "IPY_MODEL_cd8929b2e911435a86a7720f4f6cd8a9",
              "IPY_MODEL_cf8bb2e9ad86405f8df98143ecca5bd7"
            ],
            "layout": "IPY_MODEL_6dd64dde741b4583a8bff8778cbd3611"
          }
        },
        "ceff1551c0fb4d1ead8f5ef491fca2fb": {
          "model_module": "@jupyter-widgets/controls",
          "model_name": "HTMLModel",
          "model_module_version": "1.5.0",
          "state": {
            "_dom_classes": [],
            "_model_module": "@jupyter-widgets/controls",
            "_model_module_version": "1.5.0",
            "_model_name": "HTMLModel",
            "_view_count": null,
            "_view_module": "@jupyter-widgets/controls",
            "_view_module_version": "1.5.0",
            "_view_name": "HTMLView",
            "description": "",
            "description_tooltip": null,
            "layout": "IPY_MODEL_fbe2119a9ca943409128e833eddba3c8",
            "placeholder": "​",
            "style": "IPY_MODEL_029d71890950477daa5c5fd7efc09f4f",
            "value": "Downloading (…)/main/tokenizer.json: 100%"
          }
        },
        "cd8929b2e911435a86a7720f4f6cd8a9": {
          "model_module": "@jupyter-widgets/controls",
          "model_name": "FloatProgressModel",
          "model_module_version": "1.5.0",
          "state": {
            "_dom_classes": [],
            "_model_module": "@jupyter-widgets/controls",
            "_model_module_version": "1.5.0",
            "_model_name": "FloatProgressModel",
            "_view_count": null,
            "_view_module": "@jupyter-widgets/controls",
            "_view_module_version": "1.5.0",
            "_view_name": "ProgressView",
            "bar_style": "success",
            "description": "",
            "description_tooltip": null,
            "layout": "IPY_MODEL_a7f35bf040634f0b9f4b39feeb50c0c6",
            "max": 1389353,
            "min": 0,
            "orientation": "horizontal",
            "style": "IPY_MODEL_fd081bf8a9004916be93a8d069f8f531",
            "value": 1389353
          }
        },
        "cf8bb2e9ad86405f8df98143ecca5bd7": {
          "model_module": "@jupyter-widgets/controls",
          "model_name": "HTMLModel",
          "model_module_version": "1.5.0",
          "state": {
            "_dom_classes": [],
            "_model_module": "@jupyter-widgets/controls",
            "_model_module_version": "1.5.0",
            "_model_name": "HTMLModel",
            "_view_count": null,
            "_view_module": "@jupyter-widgets/controls",
            "_view_module_version": "1.5.0",
            "_view_name": "HTMLView",
            "description": "",
            "description_tooltip": null,
            "layout": "IPY_MODEL_e523c815e3ea4e74baaa74b4919d479b",
            "placeholder": "​",
            "style": "IPY_MODEL_7480f04c83994cd383a4812fb51c2e9f",
            "value": " 1.39M/1.39M [00:00&lt;00:00, 49.7MB/s]"
          }
        },
        "6dd64dde741b4583a8bff8778cbd3611": {
          "model_module": "@jupyter-widgets/base",
          "model_name": "LayoutModel",
          "model_module_version": "1.2.0",
          "state": {
            "_model_module": "@jupyter-widgets/base",
            "_model_module_version": "1.2.0",
            "_model_name": "LayoutModel",
            "_view_count": null,
            "_view_module": "@jupyter-widgets/base",
            "_view_module_version": "1.2.0",
            "_view_name": "LayoutView",
            "align_content": null,
            "align_items": null,
            "align_self": null,
            "border": null,
            "bottom": null,
            "display": null,
            "flex": null,
            "flex_flow": null,
            "grid_area": null,
            "grid_auto_columns": null,
            "grid_auto_flow": null,
            "grid_auto_rows": null,
            "grid_column": null,
            "grid_gap": null,
            "grid_row": null,
            "grid_template_areas": null,
            "grid_template_columns": null,
            "grid_template_rows": null,
            "height": null,
            "justify_content": null,
            "justify_items": null,
            "left": null,
            "margin": null,
            "max_height": null,
            "max_width": null,
            "min_height": null,
            "min_width": null,
            "object_fit": null,
            "object_position": null,
            "order": null,
            "overflow": null,
            "overflow_x": null,
            "overflow_y": null,
            "padding": null,
            "right": null,
            "top": null,
            "visibility": null,
            "width": null
          }
        },
        "fbe2119a9ca943409128e833eddba3c8": {
          "model_module": "@jupyter-widgets/base",
          "model_name": "LayoutModel",
          "model_module_version": "1.2.0",
          "state": {
            "_model_module": "@jupyter-widgets/base",
            "_model_module_version": "1.2.0",
            "_model_name": "LayoutModel",
            "_view_count": null,
            "_view_module": "@jupyter-widgets/base",
            "_view_module_version": "1.2.0",
            "_view_name": "LayoutView",
            "align_content": null,
            "align_items": null,
            "align_self": null,
            "border": null,
            "bottom": null,
            "display": null,
            "flex": null,
            "flex_flow": null,
            "grid_area": null,
            "grid_auto_columns": null,
            "grid_auto_flow": null,
            "grid_auto_rows": null,
            "grid_column": null,
            "grid_gap": null,
            "grid_row": null,
            "grid_template_areas": null,
            "grid_template_columns": null,
            "grid_template_rows": null,
            "height": null,
            "justify_content": null,
            "justify_items": null,
            "left": null,
            "margin": null,
            "max_height": null,
            "max_width": null,
            "min_height": null,
            "min_width": null,
            "object_fit": null,
            "object_position": null,
            "order": null,
            "overflow": null,
            "overflow_x": null,
            "overflow_y": null,
            "padding": null,
            "right": null,
            "top": null,
            "visibility": null,
            "width": null
          }
        },
        "029d71890950477daa5c5fd7efc09f4f": {
          "model_module": "@jupyter-widgets/controls",
          "model_name": "DescriptionStyleModel",
          "model_module_version": "1.5.0",
          "state": {
            "_model_module": "@jupyter-widgets/controls",
            "_model_module_version": "1.5.0",
            "_model_name": "DescriptionStyleModel",
            "_view_count": null,
            "_view_module": "@jupyter-widgets/base",
            "_view_module_version": "1.2.0",
            "_view_name": "StyleView",
            "description_width": ""
          }
        },
        "a7f35bf040634f0b9f4b39feeb50c0c6": {
          "model_module": "@jupyter-widgets/base",
          "model_name": "LayoutModel",
          "model_module_version": "1.2.0",
          "state": {
            "_model_module": "@jupyter-widgets/base",
            "_model_module_version": "1.2.0",
            "_model_name": "LayoutModel",
            "_view_count": null,
            "_view_module": "@jupyter-widgets/base",
            "_view_module_version": "1.2.0",
            "_view_name": "LayoutView",
            "align_content": null,
            "align_items": null,
            "align_self": null,
            "border": null,
            "bottom": null,
            "display": null,
            "flex": null,
            "flex_flow": null,
            "grid_area": null,
            "grid_auto_columns": null,
            "grid_auto_flow": null,
            "grid_auto_rows": null,
            "grid_column": null,
            "grid_gap": null,
            "grid_row": null,
            "grid_template_areas": null,
            "grid_template_columns": null,
            "grid_template_rows": null,
            "height": null,
            "justify_content": null,
            "justify_items": null,
            "left": null,
            "margin": null,
            "max_height": null,
            "max_width": null,
            "min_height": null,
            "min_width": null,
            "object_fit": null,
            "object_position": null,
            "order": null,
            "overflow": null,
            "overflow_x": null,
            "overflow_y": null,
            "padding": null,
            "right": null,
            "top": null,
            "visibility": null,
            "width": null
          }
        },
        "fd081bf8a9004916be93a8d069f8f531": {
          "model_module": "@jupyter-widgets/controls",
          "model_name": "ProgressStyleModel",
          "model_module_version": "1.5.0",
          "state": {
            "_model_module": "@jupyter-widgets/controls",
            "_model_module_version": "1.5.0",
            "_model_name": "ProgressStyleModel",
            "_view_count": null,
            "_view_module": "@jupyter-widgets/base",
            "_view_module_version": "1.2.0",
            "_view_name": "StyleView",
            "bar_color": null,
            "description_width": ""
          }
        },
        "e523c815e3ea4e74baaa74b4919d479b": {
          "model_module": "@jupyter-widgets/base",
          "model_name": "LayoutModel",
          "model_module_version": "1.2.0",
          "state": {
            "_model_module": "@jupyter-widgets/base",
            "_model_module_version": "1.2.0",
            "_model_name": "LayoutModel",
            "_view_count": null,
            "_view_module": "@jupyter-widgets/base",
            "_view_module_version": "1.2.0",
            "_view_name": "LayoutView",
            "align_content": null,
            "align_items": null,
            "align_self": null,
            "border": null,
            "bottom": null,
            "display": null,
            "flex": null,
            "flex_flow": null,
            "grid_area": null,
            "grid_auto_columns": null,
            "grid_auto_flow": null,
            "grid_auto_rows": null,
            "grid_column": null,
            "grid_gap": null,
            "grid_row": null,
            "grid_template_areas": null,
            "grid_template_columns": null,
            "grid_template_rows": null,
            "height": null,
            "justify_content": null,
            "justify_items": null,
            "left": null,
            "margin": null,
            "max_height": null,
            "max_width": null,
            "min_height": null,
            "min_width": null,
            "object_fit": null,
            "object_position": null,
            "order": null,
            "overflow": null,
            "overflow_x": null,
            "overflow_y": null,
            "padding": null,
            "right": null,
            "top": null,
            "visibility": null,
            "width": null
          }
        },
        "7480f04c83994cd383a4812fb51c2e9f": {
          "model_module": "@jupyter-widgets/controls",
          "model_name": "DescriptionStyleModel",
          "model_module_version": "1.5.0",
          "state": {
            "_model_module": "@jupyter-widgets/controls",
            "_model_module_version": "1.5.0",
            "_model_name": "DescriptionStyleModel",
            "_view_count": null,
            "_view_module": "@jupyter-widgets/base",
            "_view_module_version": "1.2.0",
            "_view_name": "StyleView",
            "description_width": ""
          }
        }
      }
    }
  },
  "cells": [
    {
      "cell_type": "code",
      "execution_count": null,
      "metadata": {
        "colab": {
          "base_uri": "https://localhost:8080/"
        },
        "id": "iLJJ1I99rwNg",
        "outputId": "f79c34ad-25a9-47aa-8a26-5c38450fd44d"
      },
      "outputs": [
        {
          "output_type": "stream",
          "name": "stdout",
          "text": [
            "Mounted at /content/drive\n"
          ]
        }
      ],
      "source": [
        "from google.colab import drive\n",
        "drive.mount('/content/drive')"
      ]
    },
    {
      "cell_type": "code",
      "source": [
        "!pip install transformers[torch]"
      ],
      "metadata": {
        "colab": {
          "base_uri": "https://localhost:8080/"
        },
        "id": "G3Tmt0V_ARxB",
        "outputId": "a568828c-cd6d-497f-f90a-16f73583f75f"
      },
      "execution_count": null,
      "outputs": [
        {
          "output_type": "stream",
          "name": "stdout",
          "text": [
            "Looking in indexes: https://pypi.org/simple, https://us-python.pkg.dev/colab-wheels/public/simple/\n",
            "Collecting transformers[torch]\n",
            "  Downloading transformers-4.29.1-py3-none-any.whl (7.1 MB)\n",
            "\u001b[2K     \u001b[90m━━━━━━━━━━━━━━━━━━━━━━━━━━━━━━━━━━━━━━━━\u001b[0m \u001b[32m7.1/7.1 MB\u001b[0m \u001b[31m50.4 MB/s\u001b[0m eta \u001b[36m0:00:00\u001b[0m\n",
            "\u001b[?25hRequirement already satisfied: filelock in /usr/local/lib/python3.10/dist-packages (from transformers[torch]) (3.12.0)\n",
            "Collecting huggingface-hub<1.0,>=0.14.1 (from transformers[torch])\n",
            "  Downloading huggingface_hub-0.14.1-py3-none-any.whl (224 kB)\n",
            "\u001b[2K     \u001b[90m━━━━━━━━━━━━━━━━━━━━━━━━━━━━━━━━━━━━━━\u001b[0m \u001b[32m224.5/224.5 kB\u001b[0m \u001b[31m27.4 MB/s\u001b[0m eta \u001b[36m0:00:00\u001b[0m\n",
            "\u001b[?25hRequirement already satisfied: numpy>=1.17 in /usr/local/lib/python3.10/dist-packages (from transformers[torch]) (1.22.4)\n",
            "Requirement already satisfied: packaging>=20.0 in /usr/local/lib/python3.10/dist-packages (from transformers[torch]) (23.1)\n",
            "Requirement already satisfied: pyyaml>=5.1 in /usr/local/lib/python3.10/dist-packages (from transformers[torch]) (6.0)\n",
            "Requirement already satisfied: regex!=2019.12.17 in /usr/local/lib/python3.10/dist-packages (from transformers[torch]) (2022.10.31)\n",
            "Requirement already satisfied: requests in /usr/local/lib/python3.10/dist-packages (from transformers[torch]) (2.27.1)\n",
            "Collecting tokenizers!=0.11.3,<0.14,>=0.11.1 (from transformers[torch])\n",
            "  Downloading tokenizers-0.13.3-cp310-cp310-manylinux_2_17_x86_64.manylinux2014_x86_64.whl (7.8 MB)\n",
            "\u001b[2K     \u001b[90m━━━━━━━━━━━━━━━━━━━━━━━━━━━━━━━━━━━━━━━━\u001b[0m \u001b[32m7.8/7.8 MB\u001b[0m \u001b[31m68.8 MB/s\u001b[0m eta \u001b[36m0:00:00\u001b[0m\n",
            "\u001b[?25hRequirement already satisfied: tqdm>=4.27 in /usr/local/lib/python3.10/dist-packages (from transformers[torch]) (4.65.0)\n",
            "Requirement already satisfied: torch!=1.12.0,>=1.9 in /usr/local/lib/python3.10/dist-packages (from transformers[torch]) (2.0.0+cu118)\n",
            "Collecting accelerate>=0.19.0 (from transformers[torch])\n",
            "  Downloading accelerate-0.19.0-py3-none-any.whl (219 kB)\n",
            "\u001b[2K     \u001b[90m━━━━━━━━━━━━━━━━━━━━━━━━━━━━━━━━━━━━━━\u001b[0m \u001b[32m219.1/219.1 kB\u001b[0m \u001b[31m14.5 MB/s\u001b[0m eta \u001b[36m0:00:00\u001b[0m\n",
            "\u001b[?25hRequirement already satisfied: psutil in /usr/local/lib/python3.10/dist-packages (from accelerate>=0.19.0->transformers[torch]) (5.9.5)\n",
            "Requirement already satisfied: fsspec in /usr/local/lib/python3.10/dist-packages (from huggingface-hub<1.0,>=0.14.1->transformers[torch]) (2023.4.0)\n",
            "Requirement already satisfied: typing-extensions>=3.7.4.3 in /usr/local/lib/python3.10/dist-packages (from huggingface-hub<1.0,>=0.14.1->transformers[torch]) (4.5.0)\n",
            "Requirement already satisfied: sympy in /usr/local/lib/python3.10/dist-packages (from torch!=1.12.0,>=1.9->transformers[torch]) (1.11.1)\n",
            "Requirement already satisfied: networkx in /usr/local/lib/python3.10/dist-packages (from torch!=1.12.0,>=1.9->transformers[torch]) (3.1)\n",
            "Requirement already satisfied: jinja2 in /usr/local/lib/python3.10/dist-packages (from torch!=1.12.0,>=1.9->transformers[torch]) (3.1.2)\n",
            "Requirement already satisfied: triton==2.0.0 in /usr/local/lib/python3.10/dist-packages (from torch!=1.12.0,>=1.9->transformers[torch]) (2.0.0)\n",
            "Requirement already satisfied: cmake in /usr/local/lib/python3.10/dist-packages (from triton==2.0.0->torch!=1.12.0,>=1.9->transformers[torch]) (3.25.2)\n",
            "Requirement already satisfied: lit in /usr/local/lib/python3.10/dist-packages (from triton==2.0.0->torch!=1.12.0,>=1.9->transformers[torch]) (16.0.3)\n",
            "Requirement already satisfied: urllib3<1.27,>=1.21.1 in /usr/local/lib/python3.10/dist-packages (from requests->transformers[torch]) (1.26.15)\n",
            "Requirement already satisfied: certifi>=2017.4.17 in /usr/local/lib/python3.10/dist-packages (from requests->transformers[torch]) (2022.12.7)\n",
            "Requirement already satisfied: charset-normalizer~=2.0.0 in /usr/local/lib/python3.10/dist-packages (from requests->transformers[torch]) (2.0.12)\n",
            "Requirement already satisfied: idna<4,>=2.5 in /usr/local/lib/python3.10/dist-packages (from requests->transformers[torch]) (3.4)\n",
            "Requirement already satisfied: MarkupSafe>=2.0 in /usr/local/lib/python3.10/dist-packages (from jinja2->torch!=1.12.0,>=1.9->transformers[torch]) (2.1.2)\n",
            "Requirement already satisfied: mpmath>=0.19 in /usr/local/lib/python3.10/dist-packages (from sympy->torch!=1.12.0,>=1.9->transformers[torch]) (1.3.0)\n",
            "Installing collected packages: tokenizers, huggingface-hub, transformers, accelerate\n",
            "Successfully installed accelerate-0.19.0 huggingface-hub-0.14.1 tokenizers-0.13.3 transformers-4.29.1\n"
          ]
        }
      ]
    },
    {
      "cell_type": "code",
      "source": [
        " !pip install datasets sentencepiece optuna"
      ],
      "metadata": {
        "id": "9mHVwBdWr3JP"
      },
      "execution_count": null,
      "outputs": []
    },
    {
      "cell_type": "code",
      "source": [
        "pip install -U kaleido"
      ],
      "metadata": {
        "colab": {
          "base_uri": "https://localhost:8080/"
        },
        "id": "HlVrxU_PsA9N",
        "outputId": "391e046f-b10a-4a4c-ed4a-6ec6dbc42a8c"
      },
      "execution_count": null,
      "outputs": [
        {
          "output_type": "stream",
          "name": "stdout",
          "text": [
            "Looking in indexes: https://pypi.org/simple, https://us-python.pkg.dev/colab-wheels/public/simple/\n",
            "Collecting kaleido\n",
            "  Downloading kaleido-0.2.1-py2.py3-none-manylinux1_x86_64.whl (79.9 MB)\n",
            "\u001b[2K     \u001b[90m━━━━━━━━━━━━━━━━━━━━━━━━━━━━━━━━━━━━━━━━\u001b[0m \u001b[32m79.9/79.9 MB\u001b[0m \u001b[31m9.4 MB/s\u001b[0m eta \u001b[36m0:00:00\u001b[0m\n",
            "\u001b[?25hInstalling collected packages: kaleido\n",
            "Successfully installed kaleido-0.2.1\n"
          ]
        }
      ]
    },
    {
      "cell_type": "code",
      "source": [
        "import json\n",
        "import pandas as pd\n",
        "from transformers import AutoModelForSeq2SeqLM, AutoTokenizer\n",
        "from transformers import DataCollatorForSeq2Seq\n",
        "from transformers import Seq2SeqTrainingArguments,EarlyStoppingCallback\n",
        "import torch\n",
        "from transformers import Seq2SeqTrainer\n",
        "from torch.utils.data import Dataset, DataLoader\n",
        "from itertools import product\n",
        "import optuna\n",
        "import numpy as np\n",
        "import warnings\n",
        "warnings.filterwarnings(\"ignore\")\n",
        "import random\n",
        "import nltk\n",
        "from nltk.corpus import stopwords\n",
        "from nltk.stem import WordNetLemmatizer\n",
        "import spacy\n",
        "\n",
        "nlp = spacy.load(\"en_core_web_sm\")\n",
        "# download necessary resources\n",
        "nltk.download('stopwords')\n",
        "nltk.download('punkt')\n",
        "nltk.download('wordnet')\n",
        "import re"
      ],
      "metadata": {
        "colab": {
          "base_uri": "https://localhost:8080/"
        },
        "id": "nVEZ_BBSsJzA",
        "outputId": "c753fedb-6e6d-40aa-9aae-a9b6351fd99b"
      },
      "execution_count": null,
      "outputs": [
        {
          "output_type": "stream",
          "name": "stderr",
          "text": [
            "[nltk_data] Downloading package stopwords to /root/nltk_data...\n",
            "[nltk_data]   Unzipping corpora/stopwords.zip.\n",
            "[nltk_data] Downloading package punkt to /root/nltk_data...\n",
            "[nltk_data]   Unzipping tokenizers/punkt.zip.\n",
            "[nltk_data] Downloading package wordnet to /root/nltk_data...\n"
          ]
        }
      ]
    },
    {
      "cell_type": "code",
      "source": [
        "\n",
        "with open('/content/drive/MyDrive/MTP Project/t5_data/true_300_ent_attr.json') as jsonfile:\n",
        "    train_data = json.load(jsonfile)\n",
        "from sklearn.model_selection import train_test_split\n",
        "\n",
        "# Assuming 'data' is your list of dictionaries\n",
        "train_data, val_data = train_test_split(train_data, test_size=0.1, random_state=42, stratify=None)\n",
        "\n",
        "# train_data contains the training samples\n",
        "# val_data contains the validation samples\n",
        "\n",
        "print(f\"Total Training dataset samples : {len(train_data)}\")\n",
        "print(f\"Total validation set samples : {len(val_data)}\")\n",
        "\n",
        "\n",
        "df_train = pd.DataFrame(train_data)\n",
        "df_val=pd.DataFrame(val_data)"
      ],
      "metadata": {
        "colab": {
          "base_uri": "https://localhost:8080/"
        },
        "id": "p-XT-X1vsNjv",
        "outputId": "4d0d1abf-c7d7-4234-aa7f-6e4189cd9996"
      },
      "execution_count": null,
      "outputs": [
        {
          "output_type": "stream",
          "name": "stdout",
          "text": [
            "Total Training dataset samples : 270\n",
            "Total validation set samples : 30\n"
          ]
        }
      ]
    },
    {
      "cell_type": "code",
      "source": [
        "train_data[0]\n",
        "#from annotated 300 samples, prepare the input and output dataset\n",
        "#for input , append sentence +What are the entity and attribute related with quantity  {quantity value}'\n",
        "#for output , take the {entity_value} <sep> { attribute value }"
      ],
      "metadata": {
        "colab": {
          "base_uri": "https://localhost:8080/"
        },
        "id": "boYSwTzbPruI",
        "outputId": "fff53b8d-e066-4620-ed09-d97553d86ceb"
      },
      "execution_count": null,
      "outputs": [
        {
          "output_type": "execute_result",
          "data": {
            "text/plain": [
              "{'input': 'The road distance from Mörön to Ulaanbaatar is 690 km . What are the entity and attribute related with quantity 690 km?',\n",
              " 'output': 'Mörön to Ulaanbaatar <sep> road distance'}"
            ]
          },
          "metadata": {},
          "execution_count": 9
        }
      ]
    },
    {
      "cell_type": "code",
      "source": [
        "def preprocess(row,max_input_len,max_target_len,tok):\n",
        "    tok=tok\n",
        "    input_str = row['input']\n",
        "    target_str = row['output']\n",
        "    tokenized_inputs = tok(input_str, max_length=max_input_len, truncation=True)\n",
        "    tokenized_targets = tok(text_target=target_str, max_length=max_target_len, truncation=True)\n",
        "    tokenized_inputs['labels'] = tokenized_targets['input_ids']\n",
        "    return tokenized_inputs\n",
        "class MyDataset(Dataset):\n",
        "    def __init__(self, data):\n",
        "        self.data = data\n",
        "\n",
        "    def __len__(self):\n",
        "        return len(self.data)\n",
        "\n",
        "    def __getitem__(self, idx):\n",
        "        return {\n",
        "            'input_ids': self.data[idx]['input_ids'],\n",
        "            'attention_mask': self.data[idx]['attention_mask'],\n",
        "            'labels': self.data[idx]['labels'],\n",
        "\n",
        "        }"
      ],
      "metadata": {
        "id": "O1qT0w74zn5T"
      },
      "execution_count": null,
      "outputs": []
    },
    {
      "cell_type": "code",
      "source": [
        "#load model parameters\n",
        "with open(\"/content/drive/MyDrive/MTP Project/out_ent_attr/cv_300_ent_attr/final_params.json\") as f:\n",
        "  params=json.load(f)\n",
        "print(params)"
      ],
      "metadata": {
        "colab": {
          "base_uri": "https://localhost:8080/"
        },
        "id": "PecRYcsDzqqB",
        "outputId": "936cc37a-80db-40f5-9152-9d8bdd44baeb"
      },
      "execution_count": null,
      "outputs": [
        {
          "output_type": "stream",
          "name": "stdout",
          "text": [
            "{'dropout_rate': 0.02154867810249722, 'input_seq_length': 256, 'learning_rate': 0.00022763326997820923, 'num_train_epochs': 24, 'output_seq_length': 14, 'per_device_eval_batch_size': 16, 'per_device_train_batch_size': 16, 'weight_decay': 0.0013437781293502878}\n"
          ]
        }
      ]
    },
    {
      "cell_type": "code",
      "source": [
        "model_name = \"t5-base\"\n",
        "\n",
        "model = AutoModelForSeq2SeqLM.from_pretrained(model_name,dropout_rate=params['dropout_rate'])\n",
        "tokenizer = AutoTokenizer.from_pretrained(model_name)\n",
        "tokenizer.add_tokens([\"<sep>\"])\n",
        "model.resize_token_embeddings(len(tokenizer))\n",
        "data_collator = DataCollatorForSeq2Seq(tokenizer, model=model)"
      ],
      "metadata": {
        "id": "Rm6BfHy7ji3J",
        "colab": {
          "base_uri": "https://localhost:8080/",
          "height": 177,
          "referenced_widgets": [
            "b16997d5035f4ebab2ef5dce6b0ace1f",
            "46313854e6544bd9a5de9b4d9d614073",
            "96a4bd54214c42b6916b70ee28cca32b",
            "cca92a0bf182453ab79ff4b687fd7112",
            "78d65d4471664788bb6b33c6bd98c7ef",
            "dcc50f529a3d47df8311fc2415b52549",
            "bd9901028f31419ba6d0fde2e0ded618",
            "7f04077f99a94408a81b42a50c85b4b8",
            "f017a9ee82874bdc80aaa85e3a4c268e",
            "c94bb773b4564b4fbb3a389a1fc43f6b",
            "1596dd7624864edabd5277d6b3ec91c7",
            "69e8d4fdbea74218b709eb195de6013f",
            "652101a76b8a4b8f9a8f7b996fdafb87",
            "5efa9ff1e02840df813aee4dc499d5b1",
            "26e0f4c5d664463a87e755425adf2ae3",
            "7bc001db835245cda85fe4d3e549d3d6",
            "63f059adb8a34d01ac686256ea4807cf",
            "60e6d0bead1644fd88ed9f8af44c22d6",
            "4b6236c041f344e3a948a2a965aa296e",
            "e7fa352fa782432d816ebbb8f4fb70b9",
            "dbd7d97ef0dd4a07bf16d662d78aa518",
            "6142f4a478d04508b5ae621ce8e7afd9",
            "00ae33a2b7874242bc70f0ee5dc6fee0",
            "3f217d04ca5547cdaf07b3d336aef2d6",
            "903d830d441b4f7fa7f2f53bcbebfd73",
            "4322bd62c0764fcaa91a1db0fdb57ed4",
            "cbab8a3d6375468da0ab3d079cd02422",
            "c178bc2b557b4b38b48d1cb01620df22",
            "2855f26fbe544d04ab620f40677528e1",
            "4ef09cacce3148d0bef5d4366a9c99bf",
            "b8a5c459d23c4fc9a6dc44a92039acbc",
            "8376ab1178034d53a8c2c4c145223345",
            "4b35d6562d3b40eca34a6dfce444ddfe",
            "f3938fb0676b4f668e110906cfeaf524",
            "ef98919dd9814387819ad4d7d5dd5aa0",
            "4380c06ac87a4cc4836359ac08ac59ef",
            "755ffa3b7d264025868c6b2aedaed883",
            "80699b68b29745b2946dc74172fc1418",
            "18e99a0368ea412d8bde20975ee6eced",
            "dd27381722094a8e84342a68e83b77b8",
            "597f2e88461c45d48fee640ccfc88793",
            "385dadf13ed64f4c82fe9426d75dfdb7",
            "68443427e89f411ca475e9414a8abe23",
            "a14036fc878c41d49ad0f0c7861725ec",
            "a088fa76fddb4711a49541403ed0fb34",
            "ceff1551c0fb4d1ead8f5ef491fca2fb",
            "cd8929b2e911435a86a7720f4f6cd8a9",
            "cf8bb2e9ad86405f8df98143ecca5bd7",
            "6dd64dde741b4583a8bff8778cbd3611",
            "fbe2119a9ca943409128e833eddba3c8",
            "029d71890950477daa5c5fd7efc09f4f",
            "a7f35bf040634f0b9f4b39feeb50c0c6",
            "fd081bf8a9004916be93a8d069f8f531",
            "e523c815e3ea4e74baaa74b4919d479b",
            "7480f04c83994cd383a4812fb51c2e9f"
          ]
        },
        "outputId": "fa851a02-aa1e-4b19-9b6a-b1721264d2dc"
      },
      "execution_count": null,
      "outputs": [
        {
          "output_type": "display_data",
          "data": {
            "text/plain": [
              "Downloading (…)lve/main/config.json:   0%|          | 0.00/1.21k [00:00<?, ?B/s]"
            ],
            "application/vnd.jupyter.widget-view+json": {
              "version_major": 2,
              "version_minor": 0,
              "model_id": "b16997d5035f4ebab2ef5dce6b0ace1f"
            }
          },
          "metadata": {}
        },
        {
          "output_type": "display_data",
          "data": {
            "text/plain": [
              "Downloading pytorch_model.bin:   0%|          | 0.00/892M [00:00<?, ?B/s]"
            ],
            "application/vnd.jupyter.widget-view+json": {
              "version_major": 2,
              "version_minor": 0,
              "model_id": "69e8d4fdbea74218b709eb195de6013f"
            }
          },
          "metadata": {}
        },
        {
          "output_type": "display_data",
          "data": {
            "text/plain": [
              "Downloading (…)neration_config.json:   0%|          | 0.00/147 [00:00<?, ?B/s]"
            ],
            "application/vnd.jupyter.widget-view+json": {
              "version_major": 2,
              "version_minor": 0,
              "model_id": "00ae33a2b7874242bc70f0ee5dc6fee0"
            }
          },
          "metadata": {}
        },
        {
          "output_type": "display_data",
          "data": {
            "text/plain": [
              "Downloading (…)ve/main/spiece.model:   0%|          | 0.00/792k [00:00<?, ?B/s]"
            ],
            "application/vnd.jupyter.widget-view+json": {
              "version_major": 2,
              "version_minor": 0,
              "model_id": "f3938fb0676b4f668e110906cfeaf524"
            }
          },
          "metadata": {}
        },
        {
          "output_type": "display_data",
          "data": {
            "text/plain": [
              "Downloading (…)/main/tokenizer.json:   0%|          | 0.00/1.39M [00:00<?, ?B/s]"
            ],
            "application/vnd.jupyter.widget-view+json": {
              "version_major": 2,
              "version_minor": 0,
              "model_id": "a088fa76fddb4711a49541403ed0fb34"
            }
          },
          "metadata": {}
        }
      ]
    },
    {
      "cell_type": "code",
      "source": [
        "train_dataset = df_train.apply(lambda row: preprocess(row,params['input_seq_length'],params['output_seq_length'],tokenizer), axis=1)\n",
        "val_dataset = df_val.apply(lambda row: preprocess(row, params['input_seq_length'],params['output_seq_length'],tokenizer), axis=1)\n",
        "train_dataset=train_dataset.to_list()\n",
        "val_dataset=val_dataset.to_list()\n",
        "train_dataset = MyDataset(train_dataset)\n",
        "val_dataset = MyDataset(val_dataset)"
      ],
      "metadata": {
        "id": "TH_sPVZCji9j"
      },
      "execution_count": null,
      "outputs": []
    },
    {
      "cell_type": "code",
      "source": [
        "dir='/content/drive/MyDrive/MTP Project/out_attr/cv_300_ent_attr/checkpoints/'\n",
        "training_args = Seq2SeqTrainingArguments(\n",
        "\n",
        "  output_dir=dir,\n",
        "  evaluation_strategy=\"epoch\",\n",
        "  save_strategy=\"epoch\",\n",
        "   logging_strategy='epoch',\n",
        "  learning_rate=params['learning_rate'],\n",
        "  per_device_train_batch_size=params['per_device_train_batch_size'],\n",
        "  per_device_eval_batch_size=params['per_device_eval_batch_size'],\n",
        "  weight_decay=params['weight_decay'],\n",
        "  save_total_limit=1,\n",
        "  num_train_epochs=params['num_train_epochs'],\n",
        "  predict_with_generate=True,\n",
        "  load_best_model_at_end=True,\n",
        "    metric_for_best_model='eval_loss',\n",
        "    greater_is_better=False\n",
        "\n",
        "\n",
        "\n",
        "\n",
        ")"
      ],
      "metadata": {
        "id": "EFzpDKEYjjAY"
      },
      "execution_count": null,
      "outputs": []
    },
    {
      "cell_type": "code",
      "source": [
        "def post_process(text):\n",
        "  text = text.lower()\n",
        "  tokens = nltk.word_tokenize(text)\n",
        "  for i in range(len(tokens)):\n",
        "     w=tokens[i]\n",
        "     w=w.replace(\" \",\"\")\n",
        "     tokens[i]=w\n",
        "  stop_words = set(stopwords.words('english'))\n",
        "  filtered_tokens = [word for word in tokens if word not in stop_words]\n",
        "  preprocessed_text = ' '.join(tokens)\n",
        "  doc = nlp(preprocessed_text)\n",
        "  lemmatized_text = \" \".join([token.lemma_ for token in doc])\n",
        "  text = re.sub('[^a-zA-Z0-9\\s]', '',  lemmatized_text)\n",
        "  tokens = nltk.word_tokenize(text)\n",
        "  return tokens\n",
        "#post processing for entity\n",
        "def preprocess_ent(text):\n",
        "  # lowercase the text\n",
        "   text = text.lower()\n",
        "   text=re.sub(r'\\b(a|an|the)\\b', '', text)\n",
        "   text=text.replace(\"'s\",\"\")\n",
        "   text=text.replace(\" 's\",\"\")\n",
        "\n",
        "\n",
        "# tokenize the text\n",
        "   tokens = nltk.word_tokenize(text)\n",
        "   for i in range(len(tokens)):\n",
        "     w=tokens[i]\n",
        "\n",
        "     w=w.replace(\" \",\"\")\n",
        "     tokens[i]=w\n",
        "\n",
        "   return tokens"
      ],
      "metadata": {
        "id": "5hs1XtNIRKg2"
      },
      "execution_count": null,
      "outputs": []
    },
    {
      "cell_type": "code",
      "source": [
        "def compute_metrics(eval_pred):\n",
        "  tokenizer = AutoTokenizer.from_pretrained(\"t5-base\")\n",
        "  tokenizer.add_tokens([\"<sep>\"])\n",
        "  preds, labels = eval_pred\n",
        "  prec,recall,ent_p,ent_r=[],[],[],[]\n",
        "  if isinstance(preds, tuple):\n",
        "       preds = preds[0]\n",
        "  decoded_preds = tokenizer.batch_decode(preds, skip_special_tokens=True)\n",
        "   # Replace -100 in the labels as we can't decode them.\n",
        "  labels = np.where(labels != -100, labels, tokenizer.pad_token_id)\n",
        "  decoded_labels = tokenizer.batch_decode(labels, skip_special_tokens=True)\n",
        "  for i in range(len(decoded_preds)):\n",
        "        pred_text=decoded_preds[i]\n",
        "        label_text=decoded_labels[i]\n",
        "        #seperate entity and attribute for predicted text\n",
        "        if('<sep>' in pred_text ):\n",
        "          pred_ent=pred_text.split('<sep>')[0].strip()\n",
        "          pred_attr=pred_text.split('<sep>')[1].strip()\n",
        "\n",
        "        else:\n",
        "\n",
        "          pred_ent= pred_text.strip()\n",
        "          pred_attr=''\n",
        "        #seperate entity and attribute for labelled text\n",
        "        if('<sep>' in label_text ):\n",
        "           label_ent=label_text.split('<sep>')[0].strip()\n",
        "           label_attr=label_text.split('<sep>')[1].strip()\n",
        "        else:\n",
        "          label_ent= label_text.strip()\n",
        "          label_attr=''\n",
        "        #find the predicted and labelled entity\n",
        "        pred_ent=preprocess_ent( pred_ent)\n",
        "        label_ent=preprocess_ent( label_ent)\n",
        "        #find the predicted and labelled attribute\n",
        "        pred_tokens= post_process(pred_attr)\n",
        "        label_tokens= post_process(label_attr)\n",
        "\n",
        "\n",
        "   # for attribute\n",
        "\n",
        "         # calculate overlap\n",
        "        overlap = len(set(pred_tokens).intersection(set(label_tokens)))\n",
        "        # calculate relaxed precision\n",
        "        if(len(pred_tokens)!=0):\n",
        "           rp = overlap / len(pred_tokens)\n",
        "        else:\n",
        "           rp=0\n",
        "        prec.append(rp)\n",
        "        if(len(label_tokens)!=0):\n",
        "    # calculate relaxed recall\n",
        "           rr = overlap / len(label_tokens)\n",
        "        else:\n",
        "             rr=0\n",
        "        recall.append(rr)\n",
        "\n",
        "    #for entity\n",
        "        # calculate overlap\n",
        "        overlap = len(set(pred_ent).intersection(set(label_ent)))\n",
        "          # calculate relaxed precision\n",
        "        if(len(pred_ent)!=0):\n",
        "           rp = overlap / len(pred_ent)\n",
        "        else:\n",
        "           rp=0\n",
        "        ent_p.append(rp)\n",
        "        if(len(label_ent)!=0):\n",
        "    # calculate relaxed recall\n",
        "           rr = overlap / len(label_ent)\n",
        "        else:\n",
        "             rr=0\n",
        "        ent_r.append(rr)\n",
        "\n",
        "\n",
        "  precision,recall=np.mean(prec),np.mean(recall)\n",
        "  f1=(2*precision*recall )/ (precision+recall)\n",
        "\n",
        "  ent_precision,ent_recall=np.mean(ent_p),np.mean(ent_r)\n",
        "  f1_ent= (2*ent_precision* ent_recall) / (ent_precision+ent_recall)\n",
        "\n",
        "\n",
        "\n",
        "\n",
        "  res={'Attribute Relaxed Precision':precision,'Attribute Relaxed Recall':recall,'Attribute F1-score':f1 , 'Entity Relaxed Precision':ent_precision,'Entity Relaxed Recall':ent_recall,'Entity F1-score':f1_ent}\n",
        "\n",
        "  return res\n",
        "\n",
        "\n"
      ],
      "metadata": {
        "id": "HEQSfTvnRQER"
      },
      "execution_count": null,
      "outputs": []
    },
    {
      "cell_type": "code",
      "source": [
        "trainer = Seq2SeqTrainer(\n",
        "    model,\n",
        "    training_args,\n",
        "    train_dataset=train_dataset,\n",
        "    eval_dataset=val_dataset,\n",
        "\n",
        "    data_collator=data_collator,\n",
        "    tokenizer=tokenizer,\n",
        "    compute_metrics=compute_metrics\n",
        "\n",
        ")\n",
        "trainer.train()"
      ],
      "metadata": {
        "colab": {
          "base_uri": "https://localhost:8080/",
          "height": 919
        },
        "id": "_rKQMVWnjjFw",
        "outputId": "133c7982-698a-4c3b-db44-4adfe920a757"
      },
      "execution_count": null,
      "outputs": [
        {
          "output_type": "stream",
          "name": "stderr",
          "text": [
            "You're using a T5TokenizerFast tokenizer. Please note that with a fast tokenizer, using the `__call__` method is faster than using a method to encode the text followed by a call to the `pad` method to get a padded encoding.\n"
          ]
        },
        {
          "output_type": "display_data",
          "data": {
            "text/plain": [
              "<IPython.core.display.HTML object>"
            ],
            "text/html": [
              "\n",
              "    <div>\n",
              "      \n",
              "      <progress value='408' max='408' style='width:300px; height:20px; vertical-align: middle;'></progress>\n",
              "      [408/408 10:45, Epoch 24/24]\n",
              "    </div>\n",
              "    <table border=\"1\" class=\"dataframe\">\n",
              "  <thead>\n",
              " <tr style=\"text-align: left;\">\n",
              "      <th>Epoch</th>\n",
              "      <th>Training Loss</th>\n",
              "      <th>Validation Loss</th>\n",
              "      <th>Attribute relaxed precision</th>\n",
              "      <th>Attribute relaxed recall</th>\n",
              "      <th>Attribute f1-score</th>\n",
              "      <th>Entity relaxed precision</th>\n",
              "      <th>Entity relaxed recall</th>\n",
              "      <th>Entity f1-score</th>\n",
              "    </tr>\n",
              "  </thead>\n",
              "  <tbody>\n",
              "    <tr>\n",
              "      <td>1</td>\n",
              "      <td>5.007000</td>\n",
              "      <td>3.081709</td>\n",
              "      <td>0.000000</td>\n",
              "      <td>0.000000</td>\n",
              "      <td>nan</td>\n",
              "      <td>0.716667</td>\n",
              "      <td>0.722222</td>\n",
              "      <td>0.719434</td>\n",
              "    </tr>\n",
              "    <tr>\n",
              "      <td>2</td>\n",
              "      <td>2.000500</td>\n",
              "      <td>1.302673</td>\n",
              "      <td>0.033333</td>\n",
              "      <td>0.033333</td>\n",
              "      <td>0.033333</td>\n",
              "      <td>0.462143</td>\n",
              "      <td>0.850000</td>\n",
              "      <td>0.598748</td>\n",
              "    </tr>\n",
              "    <tr>\n",
              "      <td>3</td>\n",
              "      <td>0.868700</td>\n",
              "      <td>1.243939</td>\n",
              "      <td>0.558333</td>\n",
              "      <td>0.569444</td>\n",
              "      <td>0.563834</td>\n",
              "      <td>0.857143</td>\n",
              "      <td>0.866667</td>\n",
              "      <td>0.861878</td>\n",
              "    </tr>\n",
              "    <tr>\n",
              "      <td>4</td>\n",
              "      <td>0.586700</td>\n",
              "      <td>1.170450</td>\n",
              "      <td>0.594444</td>\n",
              "      <td>0.563889</td>\n",
              "      <td>0.578764</td>\n",
              "      <td>0.851587</td>\n",
              "      <td>0.861111</td>\n",
              "      <td>0.856323</td>\n",
              "    </tr>\n",
              "    <tr>\n",
              "      <td>5</td>\n",
              "      <td>0.362100</td>\n",
              "      <td>1.063886</td>\n",
              "      <td>0.511111</td>\n",
              "      <td>0.525000</td>\n",
              "      <td>0.517962</td>\n",
              "      <td>0.861111</td>\n",
              "      <td>0.866667</td>\n",
              "      <td>0.863880</td>\n",
              "    </tr>\n",
              "    <tr>\n",
              "      <td>6</td>\n",
              "      <td>0.256800</td>\n",
              "      <td>1.162171</td>\n",
              "      <td>0.558333</td>\n",
              "      <td>0.513889</td>\n",
              "      <td>0.535190</td>\n",
              "      <td>0.861111</td>\n",
              "      <td>0.833333</td>\n",
              "      <td>0.846995</td>\n",
              "    </tr>\n",
              "    <tr>\n",
              "      <td>7</td>\n",
              "      <td>0.197500</td>\n",
              "      <td>1.165894</td>\n",
              "      <td>0.563889</td>\n",
              "      <td>0.547222</td>\n",
              "      <td>0.555431</td>\n",
              "      <td>0.861111</td>\n",
              "      <td>0.850000</td>\n",
              "      <td>0.855519</td>\n",
              "    </tr>\n",
              "    <tr>\n",
              "      <td>8</td>\n",
              "      <td>0.145200</td>\n",
              "      <td>1.109897</td>\n",
              "      <td>0.600000</td>\n",
              "      <td>0.569444</td>\n",
              "      <td>0.584323</td>\n",
              "      <td>0.827778</td>\n",
              "      <td>0.816667</td>\n",
              "      <td>0.822185</td>\n",
              "    </tr>\n",
              "    <tr>\n",
              "      <td>9</td>\n",
              "      <td>0.126200</td>\n",
              "      <td>1.158764</td>\n",
              "      <td>0.577778</td>\n",
              "      <td>0.608333</td>\n",
              "      <td>0.592662</td>\n",
              "      <td>0.827778</td>\n",
              "      <td>0.816667</td>\n",
              "      <td>0.822185</td>\n",
              "    </tr>\n",
              "    <tr>\n",
              "      <td>10</td>\n",
              "      <td>0.094500</td>\n",
              "      <td>1.078162</td>\n",
              "      <td>0.611111</td>\n",
              "      <td>0.597222</td>\n",
              "      <td>0.604087</td>\n",
              "      <td>0.861111</td>\n",
              "      <td>0.850000</td>\n",
              "      <td>0.855519</td>\n",
              "    </tr>\n",
              "    <tr>\n",
              "      <td>11</td>\n",
              "      <td>0.078500</td>\n",
              "      <td>1.144357</td>\n",
              "      <td>0.616667</td>\n",
              "      <td>0.580556</td>\n",
              "      <td>0.598067</td>\n",
              "      <td>0.827778</td>\n",
              "      <td>0.816667</td>\n",
              "      <td>0.822185</td>\n",
              "    </tr>\n",
              "    <tr>\n",
              "      <td>12</td>\n",
              "      <td>0.072000</td>\n",
              "      <td>1.200177</td>\n",
              "      <td>0.616667</td>\n",
              "      <td>0.580556</td>\n",
              "      <td>0.598067</td>\n",
              "      <td>0.827778</td>\n",
              "      <td>0.816667</td>\n",
              "      <td>0.822185</td>\n",
              "    </tr>\n",
              "    <tr>\n",
              "      <td>13</td>\n",
              "      <td>0.068300</td>\n",
              "      <td>1.229667</td>\n",
              "      <td>0.608333</td>\n",
              "      <td>0.591667</td>\n",
              "      <td>0.599884</td>\n",
              "      <td>0.827778</td>\n",
              "      <td>0.816667</td>\n",
              "      <td>0.822185</td>\n",
              "    </tr>\n",
              "    <tr>\n",
              "      <td>14</td>\n",
              "      <td>0.060600</td>\n",
              "      <td>1.239124</td>\n",
              "      <td>0.583333</td>\n",
              "      <td>0.558333</td>\n",
              "      <td>0.570560</td>\n",
              "      <td>0.861111</td>\n",
              "      <td>0.850000</td>\n",
              "      <td>0.855519</td>\n",
              "    </tr>\n",
              "    <tr>\n",
              "      <td>15</td>\n",
              "      <td>0.058900</td>\n",
              "      <td>1.229856</td>\n",
              "      <td>0.583333</td>\n",
              "      <td>0.558333</td>\n",
              "      <td>0.570560</td>\n",
              "      <td>0.861111</td>\n",
              "      <td>0.850000</td>\n",
              "      <td>0.855519</td>\n",
              "    </tr>\n",
              "    <tr>\n",
              "      <td>16</td>\n",
              "      <td>0.064200</td>\n",
              "      <td>1.228211</td>\n",
              "      <td>0.594444</td>\n",
              "      <td>0.591667</td>\n",
              "      <td>0.593052</td>\n",
              "      <td>0.861111</td>\n",
              "      <td>0.850000</td>\n",
              "      <td>0.855519</td>\n",
              "    </tr>\n",
              "    <tr>\n",
              "      <td>17</td>\n",
              "      <td>0.051400</td>\n",
              "      <td>1.240225</td>\n",
              "      <td>0.552778</td>\n",
              "      <td>0.558333</td>\n",
              "      <td>0.555542</td>\n",
              "      <td>0.861111</td>\n",
              "      <td>0.850000</td>\n",
              "      <td>0.855519</td>\n",
              "    </tr>\n",
              "    <tr>\n",
              "      <td>18</td>\n",
              "      <td>0.049400</td>\n",
              "      <td>1.263655</td>\n",
              "      <td>0.572222</td>\n",
              "      <td>0.563889</td>\n",
              "      <td>0.568025</td>\n",
              "      <td>0.861111</td>\n",
              "      <td>0.850000</td>\n",
              "      <td>0.855519</td>\n",
              "    </tr>\n",
              "    <tr>\n",
              "      <td>19</td>\n",
              "      <td>0.046900</td>\n",
              "      <td>1.272152</td>\n",
              "      <td>0.597222</td>\n",
              "      <td>0.597222</td>\n",
              "      <td>0.597222</td>\n",
              "      <td>0.861111</td>\n",
              "      <td>0.850000</td>\n",
              "      <td>0.855519</td>\n",
              "    </tr>\n",
              "    <tr>\n",
              "      <td>20</td>\n",
              "      <td>0.046700</td>\n",
              "      <td>1.277999</td>\n",
              "      <td>0.588889</td>\n",
              "      <td>0.591667</td>\n",
              "      <td>0.590275</td>\n",
              "      <td>0.861111</td>\n",
              "      <td>0.850000</td>\n",
              "      <td>0.855519</td>\n",
              "    </tr>\n",
              "    <tr>\n",
              "      <td>21</td>\n",
              "      <td>0.045100</td>\n",
              "      <td>1.258043</td>\n",
              "      <td>0.588889</td>\n",
              "      <td>0.591667</td>\n",
              "      <td>0.590275</td>\n",
              "      <td>0.861111</td>\n",
              "      <td>0.850000</td>\n",
              "      <td>0.855519</td>\n",
              "    </tr>\n",
              "    <tr>\n",
              "      <td>22</td>\n",
              "      <td>0.044400</td>\n",
              "      <td>1.248607</td>\n",
              "      <td>0.588889</td>\n",
              "      <td>0.591667</td>\n",
              "      <td>0.590275</td>\n",
              "      <td>0.861111</td>\n",
              "      <td>0.850000</td>\n",
              "      <td>0.855519</td>\n",
              "    </tr>\n",
              "    <tr>\n",
              "      <td>23</td>\n",
              "      <td>0.045200</td>\n",
              "      <td>1.250361</td>\n",
              "      <td>0.588889</td>\n",
              "      <td>0.591667</td>\n",
              "      <td>0.590275</td>\n",
              "      <td>0.861111</td>\n",
              "      <td>0.850000</td>\n",
              "      <td>0.855519</td>\n",
              "    </tr>\n",
              "    <tr>\n",
              "      <td>24</td>\n",
              "      <td>0.044200</td>\n",
              "      <td>1.252153</td>\n",
              "      <td>0.597222</td>\n",
              "      <td>0.608333</td>\n",
              "      <td>0.602727</td>\n",
              "      <td>0.861111</td>\n",
              "      <td>0.850000</td>\n",
              "      <td>0.855519</td>\n",
              "    </tr>\n",
              "  </tbody>\n",
              "</table><p>"
            ]
          },
          "metadata": {}
        },
        {
          "output_type": "execute_result",
          "data": {
            "text/plain": [
              "TrainOutput(global_step=408, training_loss=0.43421060255929533, metrics={'train_runtime': 647.8133, 'train_samples_per_second': 10.003, 'train_steps_per_second': 0.63, 'total_flos': 552408062699520.0, 'train_loss': 0.43421060255929533, 'epoch': 24.0})"
            ]
          },
          "metadata": {},
          "execution_count": 18
        }
      ]
    },
    {
      "cell_type": "code",
      "source": [
        "logs=trainer.state.log_history"
      ],
      "metadata": {
        "id": "raoccynTjjIW"
      },
      "execution_count": null,
      "outputs": []
    },
    {
      "cell_type": "code",
      "source": [
        "import json\n",
        "with open('/content/drive/MyDrive/MTP Project/out_ent_attr/cv_300_ent_attr/logs_new.json','w') as f:\n",
        "  json.dump(logs,f)\n"
      ],
      "metadata": {
        "id": "rtd6pJrajjLF"
      },
      "execution_count": null,
      "outputs": []
    },
    {
      "cell_type": "code",
      "source": [
        "#save the pretrained model\n",
        "model.save_pretrained('/content/drive/MyDrive/MTP Project/out_ent_attr/cv_300_ent_attr/t5_attr_model')"
      ],
      "metadata": {
        "id": "UyzxW3urjjNk"
      },
      "execution_count": null,
      "outputs": []
    },
    {
      "cell_type": "code",
      "source": [
        "#save tokenizer\n",
        "tokenizer.save_pretrained('/content/drive/MyDrive/MTP Project/out_ent_attr/cv_300_ent_attr/t5_attr_tokenizer')"
      ],
      "metadata": {
        "colab": {
          "base_uri": "https://localhost:8080/"
        },
        "id": "Zo84LDioCbww",
        "outputId": "fd5fbb59-2268-4496-a738-03bc1b5b4ea5"
      },
      "execution_count": null,
      "outputs": [
        {
          "output_type": "execute_result",
          "data": {
            "text/plain": [
              "('/content/drive/MyDrive/MTP Project/out_ent_attr/cv_300_ent_attr/t5_attr_tokenizer/tokenizer_config.json',\n",
              " '/content/drive/MyDrive/MTP Project/out_ent_attr/cv_300_ent_attr/t5_attr_tokenizer/special_tokens_map.json',\n",
              " '/content/drive/MyDrive/MTP Project/out_ent_attr/cv_300_ent_attr/t5_attr_tokenizer/spiece.model',\n",
              " '/content/drive/MyDrive/MTP Project/out_ent_attr/cv_300_ent_attr/t5_attr_tokenizer/added_tokens.json',\n",
              " '/content/drive/MyDrive/MTP Project/out_ent_attr/cv_300_ent_attr/t5_attr_tokenizer/tokenizer.json')"
            ]
          },
          "metadata": {},
          "execution_count": 22
        }
      ]
    },
    {
      "cell_type": "code",
      "source": [
        "train_loss,val_loss,prec,recall,f1={},{},{},{},{}\n",
        "for i in logs:\n",
        "\n",
        "  if 'loss' in i:\n",
        "    train_loss[i['epoch']]=i['loss']\n",
        "\n",
        "  elif 'eval_loss' in i:\n",
        "    val_loss[i['epoch']]=i['eval_loss']\n",
        "    prec[i['epoch']]= i['eval_Relaxed Precision']\n",
        "    recall[i['epoch']]=i['eval_Relaxed Recall']\n",
        "    f1[i['epoch']]=i['eval_f1']\n"
      ],
      "metadata": {
        "id": "6G_v6GrOCb0_"
      },
      "execution_count": null,
      "outputs": []
    },
    {
      "cell_type": "code",
      "source": [
        "#100 samples with 25 of each seq len\n",
        "with open('/content/drive/MyDrive/MTP Project/t5_data/test_data_100_seperate.json' ) as f:\n",
        "  rule_test=json.load(f)\n",
        "len(rule_test)"
      ],
      "metadata": {
        "colab": {
          "base_uri": "https://localhost:8080/"
        },
        "id": "JS3COkVfCb9J",
        "outputId": "9dbeb216-0b01-4e27-860a-a0708d77ba73"
      },
      "execution_count": null,
      "outputs": [
        {
          "output_type": "execute_result",
          "data": {
            "text/plain": [
              "100"
            ]
          },
          "metadata": {},
          "execution_count": 23
        }
      ]
    },
    {
      "cell_type": "code",
      "source": [
        "rule_test"
      ],
      "metadata": {
        "id": "r7enSid6CcA1"
      },
      "execution_count": null,
      "outputs": []
    },
    {
      "cell_type": "code",
      "source": [
        "test_json=[]\n",
        "for i in rule_test:\n",
        "  d={}\n",
        "  inp=i['sentence']+\" \"+ f\"What are the entity and attribute related with quantity {i['quantity']}?\"\n",
        "\n",
        "  outt=i['entity']+' <sep> '+i['attribute']\n",
        "  d['input']=inp\n",
        "  d['output']=outt\n",
        "  d['entity']=i['entity']\n",
        "  d['quantity']=i['quantity']\n",
        "  d['sen']=i['sentence']\n",
        "  test_json.append(d)\n",
        "len(test_json)"
      ],
      "metadata": {
        "colab": {
          "base_uri": "https://localhost:8080/"
        },
        "id": "fMDQOBE8CcEW",
        "outputId": "e35acec1-57c7-42e8-cdc0-438b466a6a17"
      },
      "execution_count": null,
      "outputs": [
        {
          "output_type": "execute_result",
          "data": {
            "text/plain": [
              "100"
            ]
          },
          "metadata": {},
          "execution_count": 24
        }
      ]
    },
    {
      "cell_type": "code",
      "source": [
        "test_json[0]"
      ],
      "metadata": {
        "colab": {
          "base_uri": "https://localhost:8080/"
        },
        "id": "raWxWIjACcH_",
        "outputId": "f8217623-15a5-4788-a7c6-c4e6be86a428"
      },
      "execution_count": null,
      "outputs": [
        {
          "output_type": "execute_result",
          "data": {
            "text/plain": [
              "{'input': 'The total length of this LPG pipeline is 1415 km . What is the attribute related to entity this LPG pipeline with quantity 1415 km?',\n",
              " 'output': 'total length',\n",
              " 'entity': 'this LPG pipeline',\n",
              " 'quantity': '1415 km',\n",
              " 'sen': 'The total length of this LPG pipeline is 1415 km .'}"
            ]
          },
          "metadata": {},
          "execution_count": 25
        }
      ]
    },
    {
      "cell_type": "code",
      "source": [
        "#store result as list of dictionaries with keys as sentence,entity,attribute\n",
        "res=[]\n",
        "for i in range(len(test_json)):\n",
        "\n",
        "  d=test_json[i]\n",
        "\n",
        "  input=d['input']\n",
        "\n",
        "  tokenized_inputs= tokenizer(input, max_length=256, truncation=True,return_tensors='pt')\n",
        "  tokenized_inputs=tokenized_inputs.to('cuda')\n",
        "  output_sequence = model.generate(**tokenized_inputs\n",
        "                                 )\n",
        "\n",
        "# decode the output sequence into text using the tokenizer\n",
        "  #d=rule_test[i]\n",
        "  u={}\n",
        "  print(d['sen'])\n",
        "  print(\"------------------------------Rule based result-------------------------------\")\n",
        "  print(f\" Entity : {d['entity']}\")\n",
        "  print(f\" Quantity : {d['quantity']} \")\n",
        "  print(f\" Attribute : {d['output']} \")\n",
        "  print(\"-------------------------------- T5 Result------------------------------------\")\n",
        "  output_text = tokenizer.decode(output_sequence[0], skip_special_tokens=True)\n",
        "  print(f\" Attribute : {output_text}\")\n",
        "  print('\\n\\n')\n",
        "  u['sentence']=d['sen']\n",
        "  #seperate entity and attribute in predicted text\n",
        "  if('<sep>' in output_text):\n",
        "   ent=output_text.split('<sep>')[0].strip()\n",
        "   attr=output_text.split('<sep>')[1].strip()\n",
        "  else:\n",
        "    ent=output_text\n",
        "    attr=''\n",
        "\n",
        "  u['attribute']=attr\n",
        "  u['entity']=ent\n",
        "  res.append(u)"
      ],
      "metadata": {
        "id": "kcuYPc-jCcLi"
      },
      "execution_count": null,
      "outputs": []
    },
    {
      "cell_type": "code",
      "source": [
        "import json\n",
        "with open ('/content/drive/MyDrive/MTP Project/out_ent_attr/cv_300_ent_attr/test_25samples_prediction.json','w') as f:\n",
        "  json.dump(res,f)\n"
      ],
      "metadata": {
        "id": "sB2snuOdCcPH"
      },
      "execution_count": null,
      "outputs": []
    },
    {
      "cell_type": "code",
      "source": [
        "#test data according to dataset distribution\n",
        "with open('/content/drive/MyDrive/MTP Project/t5_data/new_test_data_100.json' ) as f:\n",
        "  rule_test=json.load(f)\n",
        "len(rule_test)"
      ],
      "metadata": {
        "colab": {
          "base_uri": "https://localhost:8080/"
        },
        "id": "YTLeJuugIAsG",
        "outputId": "ec54b7b9-2eeb-40a5-8f1e-e832a1c07386"
      },
      "execution_count": null,
      "outputs": [
        {
          "output_type": "execute_result",
          "data": {
            "text/plain": [
              "100"
            ]
          },
          "metadata": {},
          "execution_count": 29
        }
      ]
    },
    {
      "cell_type": "code",
      "source": [
        "test_json=[]\n",
        "for i in rule_test:\n",
        "  d={}\n",
        "  inp=i['sentence']+\" \"+ f\"What are the entity and attribute related with  quantity {i['quantity']}?\"\n",
        "\n",
        "  outt=i['entity'] + ' <sep> '+i['measuring attribute']\n",
        "  d['input']=inp\n",
        "  d['output']=outt\n",
        "  d['entity']=i['entity']\n",
        "  d['quantity']=i['quantity']\n",
        "  d['sen']=i\n",
        "  test_json.append(d)\n",
        "len(test_json)"
      ],
      "metadata": {
        "colab": {
          "base_uri": "https://localhost:8080/"
        },
        "id": "JjvYMjU1IAyI",
        "outputId": "10c54ed2-9af6-4fb9-a131-a4aa8c6b22da"
      },
      "execution_count": null,
      "outputs": [
        {
          "output_type": "execute_result",
          "data": {
            "text/plain": [
              "100"
            ]
          },
          "metadata": {},
          "execution_count": 30
        }
      ]
    },
    {
      "cell_type": "code",
      "source": [
        "test_json[0]"
      ],
      "metadata": {
        "colab": {
          "base_uri": "https://localhost:8080/"
        },
        "id": "YvyHXaPkIA30",
        "outputId": "7aa7d1f7-cdf4-409a-df78-ebf4e77cd8bf"
      },
      "execution_count": null,
      "outputs": [
        {
          "output_type": "execute_result",
          "data": {
            "text/plain": [
              "{'input': 'According to the United States Census Bureau , the CDP covers an area of , 99.69 % of it land , and 0.31 % of it water . What are the entity and attribute related with  quantity 99.69 %?',\n",
              " 'output': 'the CDP <sep> area',\n",
              " 'entity': 'the CDP',\n",
              " 'quantity': '99.69 %',\n",
              " 'sen': 'According to the United States Census Bureau , the CDP covers an area of , 99.69 % of it land , and 0.31 % of it water .'}"
            ]
          },
          "metadata": {},
          "execution_count": 31
        }
      ]
    },
    {
      "cell_type": "code",
      "source": [
        "res=[]\n",
        "for i in range(len(test_json)):\n",
        "\n",
        "  d=test_json[i]\n",
        "\n",
        "  input=d['input']\n",
        "\n",
        "  tokenized_inputs= tokenizer(input, max_length=256, truncation=True,return_tensors='pt')\n",
        "  tokenized_inputs=tokenized_inputs.to('cuda')\n",
        "  output_sequence = model.generate(**tokenized_inputs\n",
        "                                 )\n",
        "\n",
        "# decode the output sequence into text using the tokenizer\n",
        "  #d=rule_test[i]\n",
        "  u={}\n",
        "  print(d['sen'])\n",
        "  print(\"------------------------------Rule based result-------------------------------\")\n",
        "  print(f\" Entity : {d['entity']}\")\n",
        "  print(f\" Quantity : {d['quantity']} \")\n",
        "  print(f\" Attribute : {d['output']} \")\n",
        "  print(\"-------------------------------- T5 Result------------------------------------\")\n",
        "  output_text = tokenizer.decode(output_sequence[0], skip_special_tokens=True)\n",
        "  print(f\" Attribute : {output_text}\")\n",
        "  print('\\n\\n')\n",
        "  u['sentence']=d['sen']\n",
        "  if('<sep>' in output_text):\n",
        "   ent=output_text.split('<sep>')[0].strip()\n",
        "   attr=output_text.split('<sep>')[1].strip()\n",
        "  else:\n",
        "    ent=output_text\n",
        "    attr=''\n",
        "  u['attribute']=attr\n",
        "  u['entity']=ent\n",
        "  res.append(u)"
      ],
      "metadata": {
        "id": "JuDF90qiIA9e"
      },
      "execution_count": null,
      "outputs": []
    },
    {
      "cell_type": "code",
      "source": [
        "import json\n",
        "with open ('/content/drive/MyDrive/MTP Project/out_ent_attr/cv_300_ent_attr/test_data_distribution.json','w') as f:\n",
        "  json.dump(res,f)\n"
      ],
      "metadata": {
        "id": "D8bPHrRYIBDF"
      },
      "execution_count": null,
      "outputs": []
    },
    {
      "cell_type": "code",
      "source": [],
      "metadata": {
        "id": "Q6Hcg_f8Ojcs"
      },
      "execution_count": null,
      "outputs": []
    }
  ]
}