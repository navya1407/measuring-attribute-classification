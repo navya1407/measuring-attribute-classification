{
  "nbformat": 4,
  "nbformat_minor": 0,
  "metadata": {
    "colab": {
      "provenance": []
    },
    "kernelspec": {
      "name": "python3",
      "display_name": "Python 3"
    },
    "language_info": {
      "name": "python"
    }
  },
  "cells": [
    {
      "cell_type": "code",
      "execution_count": 35,
      "metadata": {
        "colab": {
          "base_uri": "https://localhost:8080/"
        },
        "id": "t1BXJYdRvt0k",
        "outputId": "ce4072fb-08e5-4d94-aaea-8500180255ae"
      },
      "outputs": [
        {
          "output_type": "stream",
          "name": "stdout",
          "text": [
            "Drive already mounted at /content/drive; to attempt to forcibly remount, call drive.mount(\"/content/drive\", force_remount=True).\n"
          ]
        }
      ],
      "source": [
        "from google.colab import drive\n",
        "drive.mount('/content/drive')"
      ]
    },
    {
      "cell_type": "code",
      "source": [
        "!pip install openai"
      ],
      "metadata": {
        "colab": {
          "base_uri": "https://localhost:8080/"
        },
        "id": "8XCi7EkPxBtv",
        "outputId": "050781b5-b453-42ae-d69a-1e606a569a41"
      },
      "execution_count": null,
      "outputs": [
        {
          "output_type": "stream",
          "name": "stdout",
          "text": [
            "Looking in indexes: https://pypi.org/simple, https://us-python.pkg.dev/colab-wheels/public/simple/\n",
            "Collecting openai\n",
            "  Downloading openai-0.27.4-py3-none-any.whl (70 kB)\n",
            "\u001b[2K     \u001b[90m━━━━━━━━━━━━━━━━━━━━━━━━━━━━━━━━━━━━━━━━\u001b[0m \u001b[32m70.3/70.3 kB\u001b[0m \u001b[31m4.6 MB/s\u001b[0m eta \u001b[36m0:00:00\u001b[0m\n",
            "\u001b[?25hRequirement already satisfied: requests>=2.20 in /usr/local/lib/python3.9/dist-packages (from openai) (2.27.1)\n",
            "Collecting aiohttp\n",
            "  Downloading aiohttp-3.8.4-cp39-cp39-manylinux_2_17_x86_64.manylinux2014_x86_64.whl (1.0 MB)\n",
            "\u001b[2K     \u001b[90m━━━━━━━━━━━━━━━━━━━━━━━━━━━━━━━━━━━━━━━━\u001b[0m \u001b[32m1.0/1.0 MB\u001b[0m \u001b[31m32.7 MB/s\u001b[0m eta \u001b[36m0:00:00\u001b[0m\n",
            "\u001b[?25hRequirement already satisfied: tqdm in /usr/local/lib/python3.9/dist-packages (from openai) (4.65.0)\n",
            "Requirement already satisfied: charset-normalizer~=2.0.0 in /usr/local/lib/python3.9/dist-packages (from requests>=2.20->openai) (2.0.12)\n",
            "Requirement already satisfied: urllib3<1.27,>=1.21.1 in /usr/local/lib/python3.9/dist-packages (from requests>=2.20->openai) (1.26.15)\n",
            "Requirement already satisfied: idna<4,>=2.5 in /usr/local/lib/python3.9/dist-packages (from requests>=2.20->openai) (3.4)\n",
            "Requirement already satisfied: certifi>=2017.4.17 in /usr/local/lib/python3.9/dist-packages (from requests>=2.20->openai) (2022.12.7)\n",
            "Requirement already satisfied: attrs>=17.3.0 in /usr/local/lib/python3.9/dist-packages (from aiohttp->openai) (23.1.0)\n",
            "Collecting multidict<7.0,>=4.5\n",
            "  Downloading multidict-6.0.4-cp39-cp39-manylinux_2_17_x86_64.manylinux2014_x86_64.whl (114 kB)\n",
            "\u001b[2K     \u001b[90m━━━━━━━━━━━━━━━━━━━━━━━━━━━━━━━━━━━━━━\u001b[0m \u001b[32m114.2/114.2 kB\u001b[0m \u001b[31m13.0 MB/s\u001b[0m eta \u001b[36m0:00:00\u001b[0m\n",
            "\u001b[?25hCollecting frozenlist>=1.1.1\n",
            "  Downloading frozenlist-1.3.3-cp39-cp39-manylinux_2_5_x86_64.manylinux1_x86_64.manylinux_2_17_x86_64.manylinux2014_x86_64.whl (158 kB)\n",
            "\u001b[2K     \u001b[90m━━━━━━━━━━━━━━━━━━━━━━━━━━━━━━━━━━━━━━\u001b[0m \u001b[32m158.8/158.8 kB\u001b[0m \u001b[31m19.1 MB/s\u001b[0m eta \u001b[36m0:00:00\u001b[0m\n",
            "\u001b[?25hCollecting aiosignal>=1.1.2\n",
            "  Downloading aiosignal-1.3.1-py3-none-any.whl (7.6 kB)\n",
            "Collecting async-timeout<5.0,>=4.0.0a3\n",
            "  Downloading async_timeout-4.0.2-py3-none-any.whl (5.8 kB)\n",
            "Collecting yarl<2.0,>=1.0\n",
            "  Downloading yarl-1.9.2-cp39-cp39-manylinux_2_17_x86_64.manylinux2014_x86_64.whl (269 kB)\n",
            "\u001b[2K     \u001b[90m━━━━━━━━━━━━━━━━━━━━━━━━━━━━━━━━━━━━━━\u001b[0m \u001b[32m269.4/269.4 kB\u001b[0m \u001b[31m27.2 MB/s\u001b[0m eta \u001b[36m0:00:00\u001b[0m\n",
            "\u001b[?25hInstalling collected packages: multidict, frozenlist, async-timeout, yarl, aiosignal, aiohttp, openai\n",
            "Successfully installed aiohttp-3.8.4 aiosignal-1.3.1 async-timeout-4.0.2 frozenlist-1.3.3 multidict-6.0.4 openai-0.27.4 yarl-1.9.2\n"
          ]
        }
      ]
    },
    {
      "cell_type": "code",
      "source": [
        "#for college email and 8500\n",
        "import openai\n",
        "import os\n",
        "os.environ[\"OPENAI_API_KEY\"] ='your api key'\n",
        "openai.api_key ='your api key'"
      ],
      "metadata": {
        "id": "ir5ki-87xUag"
      },
      "execution_count": null,
      "outputs": []
    },
    {
      "cell_type": "code",
      "source": [
        "import json\n",
        "with open ('/content/drive/MyDrive/MTP Project/t5_data/test_data_25_each.json') as f:\n",
        "  test=json.load(f)\n",
        "test"
      ],
      "metadata": {
        "colab": {
          "base_uri": "https://localhost:8080/"
        },
        "id": "bqGb5c160WeH",
        "outputId": "c38f137a-37ea-4728-e04f-0ebc7ed6a2f5"
      },
      "execution_count": 36,
      "outputs": [
        {
          "output_type": "execute_result",
          "data": {
            "text/plain": [
              "[{'sentence': 'The total length of this LPG pipeline is 1415 km .',\n",
              "  'entity': 'LPG pipeline',\n",
              "  'measuring attribute': 'total length',\n",
              "  'quantity': '1415 km'},\n",
              " {'sentence': 'Defensive end Rulon Jones led the line with 7 sacks .',\n",
              "  'entity': 'Rulon Jones',\n",
              "  'measuring attribute': 'number of sacks',\n",
              "  'quantity': '7 sacks'},\n",
              " {'sentence': \"'' The diameter of an Oreo cookie is 1.75 inches .\",\n",
              "  'entity': 'Oreo cookie',\n",
              "  'measuring attribute': 'diameter',\n",
              "  'quantity': '1.75 inches'},\n",
              " {'sentence': 'This presence in Russia lasted 3 years .',\n",
              "  'entity': 'unknown',\n",
              "  'measuring attribute': 'presence duration',\n",
              "  'quantity': '3 years'},\n",
              " {'sentence': 'Hyundai owns 33.88 % of Kia .',\n",
              "  'entity': 'Hyundai',\n",
              "  'measuring attribute': 'Kia share',\n",
              "  'quantity': '33.88 %'},\n",
              " {'sentence': 'The Criollos entered the league \\'s \" Super 6 \" semifinals .',\n",
              "  'entity': 'Criollos',\n",
              "  'measuring attribute': 'unknown',\n",
              "  'quantity': '6 \"'},\n",
              " {'sentence': \"Vermont 's share is about 4.5 percent .\",\n",
              "  'entity': 'Vermont',\n",
              "  'measuring attribute': 'share',\n",
              "  'quantity': '4.5 percent'},\n",
              " {'sentence': \"Ballari district has 25 % of India 's Iron ore reserves .\",\n",
              "  'entity': 'Ballari district',\n",
              "  'measuring attribute': \"India's Iron ore reserves\",\n",
              "  'quantity': '25 %'},\n",
              " {'sentence': 'Hạ Long city is 150 km from the airport .',\n",
              "  'entity': 'Hạ Long city',\n",
              "  'measuring attribute': 'distance from the airport',\n",
              "  'quantity': '150 km'},\n",
              " {'sentence': 'The ENIAC was built in 30 months with 200,000 man hours .',\n",
              "  'entity': 'ENIAC',\n",
              "  'measuring attribute': 'duration built',\n",
              "  'quantity': '30 months'},\n",
              " {'sentence': 'The bridge carries 60 to 70 percent of commercial truck traffic in the region .',\n",
              "  'entity': 'bridge',\n",
              "  'measuring attribute': 'commercial truck traffic',\n",
              "  'quantity': '60 to 70 percent'},\n",
              " {'sentence': 'Chennai has a water table at 2 metres for 60 percent of the year .',\n",
              "  'entity': 'Chennai',\n",
              "  'measuring attribute': 'water table depth',\n",
              "  'quantity': '2 metres'},\n",
              " {'sentence': 'The current standards in the United States is 30 m or less .',\n",
              "  'entity': 'United States',\n",
              "  'measuring attribute': 'current standards',\n",
              "  'quantity': '30 m'},\n",
              " {'sentence': '\" Cadillac Man \" has a score of 55 % on review aggregator website Rotten Tomatoes based on 11 reviews .',\n",
              "  'entity': 'Cadillac Man',\n",
              "  'measuring attribute': 'score',\n",
              "  'quantity': '55 %'},\n",
              " {'sentence': 'These archaeologists discovered that Gobero had been almost continually inhabited for 5000 years , beginning roughly from 8000 BCE onwards when the area fronted a large lake .',\n",
              "  'entity': 'Gobero',\n",
              "  'measuring attribute': 'inhabitation duration',\n",
              "  'quantity': '5000 years'},\n",
              " {'sentence': 'The wine casks had only to be carted to Auxerre , 12 miles away , where they could be shipped down the Yonne and Seine Rivers into the city .',\n",
              "  'entity': 'unknown',\n",
              "  'measuring attribute': 'distance to Auxerre',\n",
              "  'quantity': '12 miles'},\n",
              " {'sentence': 'Thomas Stothard provided several illustrations for an edition of \" The Vicar of Wakefield \" published 30 years after its first publication in 1766 .',\n",
              "  'entity': 'The Vicar of Wakefield edition',\n",
              "  'measuring attribute': 'published time duration difference with first publication ',\n",
              "  'quantity': '30 years'},\n",
              " {'sentence': 'Rajaji is accessible through different gates ; the Ramgarh Gate and Mohand Gate are within 25 km of Dehradun , while the Motichur , Ranipur and Chilla Gates are just about 9 km from Haridwar .',\n",
              "  'entity': 'Ramgarh Gate and Mohand Gate',\n",
              "  'measuring attribute': 'distance from Dehradun',\n",
              "  'quantity': '25 km'},\n",
              " {'sentence': 'Israeli singer Rika Zaraï released a cover version of the song in \" Alors je Chante \" and spent three weeks at number one in the List_of_number - one_singles_of_1969_ ( France ) from 16 August - 5 September 1969 .',\n",
              "  'entity': 'Alors je Chante',\n",
              "  'measuring attribute': 'duration spent at number one',\n",
              "  'quantity': 'three weeks'},\n",
              " {'sentence': 'In response , the Santa Clara Valley Water District ( SCVWD ) lowered the water level to 74 percent of capacity and announced further analysis of the situation , which could possibly result in retrofitting the dam if necessary .',\n",
              "  'entity': 'the Santa Clara Valley Water District',\n",
              "  'measuring attribute': 'lowered water level capacity',\n",
              "  'quantity': '74 percent'},\n",
              " {'sentence': 'According to the 2005 census , the county seat of Salamanca accounted for 61.57 % of the total municipal population ( 143,838 inhabitants ) and Valtierrilla accounted for 5.19 % ( 12,118 inhabitants ) .',\n",
              "  'entity': 'Valtierrilla',\n",
              "  'measuring attribute': '5.19 %',\n",
              "  'quantity': 'total municipal population proportion'},\n",
              " {'sentence': 'Asian Americans with other ancestry comprise 5.4 % of the U.S. population , while people who are Asian alone , and those combined with at least one other race , make up 6.8 % .',\n",
              "  'entity': 'Asian Americans',\n",
              "  'measuring attribute': 'U.S. population proportion',\n",
              "  'quantity': '5.4 %'},\n",
              " {'sentence': \"Since 2010 , Manhattan 's population was estimated by the Census Bureau to have increased 2.5 % to 1,626,159 as of 2013 , representing 19.3 % of the city 's population and 8.3 % of the state 's population .\",\n",
              "  'entity': 'Manhattan',\n",
              "  'measuring attribute': 'increased population',\n",
              "  'quantity': '2.5 %'},\n",
              " {'sentence': 'Through these efforts , Congress and the Clinton administration cut federal DSH payments by 5 % and limited their further growth ; as such , in 1998 $ 15 billion in Medicaid DSH payments were issued to hospitals .',\n",
              "  'entity': 'federal DSH',\n",
              "  'measuring attribute': 'payments reduction',\n",
              "  'quantity': '5 %'},\n",
              " {'sentence': 'In his final years , Monkhouse hosted a show on BBC Radio 2 called \" The Monkhouse Archive \" , in which he provided humorous links to clips of comedy acts spanning the previous 50 years .',\n",
              "  'entity': 'comedy acts',\n",
              "  'measuring attribute': 'duration',\n",
              "  'quantity': '50 years'},\n",
              " {'sentence': 'The same poll , of 800 Hispanic voters in Florida , had 35 percent of non-Cuban Hispanics supporting Mr. Bush , 59 percent Mr. Kerry and 6 percent undecided or supporting Mr. Nader .',\n",
              "  'entity': 'poll',\n",
              "  'measuring attribute': 'non-Cuban Hispanics supporting Mr. Bush',\n",
              "  'quantity': '35 percent'},\n",
              " {'sentence': 'In 1949 , after the Communists took over her native Czechoslovakia , Ludmila de Fougerolles , who was 6 years old , fled with her family on foot through Bohemia and Bavaria into southern France .',\n",
              "  'entity': 'Ludmila de Fougerolles',\n",
              "  'measuring attribute': 'age',\n",
              "  'quantity': '6 years'},\n",
              " {'sentence': 'That was largely because of a fast start highlighted by two 3 - pointers by Bird and four quick turnovers by Rutgers , which let UConn take a 12-8 lead 4 minutes 40 seconds into the game .',\n",
              "  'entity': 'UConn',\n",
              "  'measuring attribute': 'lead duration',\n",
              "  'quantity': '4 minutes'},\n",
              " {'sentence': 'GameRankings and Metacritic gave it a score of 71 % and 66 out of 100 for the Xbox 360 version , and 65 % and 60 out of 100 for the PlayStation 3 version .',\n",
              "  'entity': 'Xbox 360 version',\n",
              "  'measuring attribute': 'GameRankings and Metacritic score',\n",
              "  'quantity': '71 %'},\n",
              " {'sentence': 'Publicis intends to acquire 70 percent of BCP , Mr. Goldschlager said , while Yves Gougoux , president and chief executive , will retain a 30 percent stake in what will be renamed Publicis-BCP .',\n",
              "  'entity': 'Publicis',\n",
              "  'measuring attribute': 'BCP stake',\n",
              "  'quantity': '70 percent'},\n",
              " {'sentence': 'The regional offices in Europe and North America are 80 percent owned by TBWA and 20 percent owned by Hakuhodo ; the one in Japan is 80 percent owned by Hakuhodo and 20 percent owned by TBWA .',\n",
              "  'entity': 'TBWA',\n",
              "  'measuring attribute': 'Europe and North America regional offices ownership',\n",
              "  'quantity': '80 percent'},\n",
              " {'sentence': \"American Motors ' automobile sales dropped twenty percent in the first half of 1966 , and the firm reported a fiscal six - month loss of $ 4.2 million on sales of $ 479 million .\",\n",
              "  'entity': 'American Motors',\n",
              "  'measuring attribute': 'automobile sales drop',\n",
              "  'quantity': 'twenty percent'},\n",
              " {'sentence': 'Although a few orders continued to trickle in , the \" Musical Million \" [ a leading shape note periodical ] advertised the book for less than a year , and made no mention of it after 1890 .',\n",
              "  'entity': 'Musical Million',\n",
              "  'measuring attribute': 'book advertising duration',\n",
              "  'quantity': 'a year'},\n",
              " {'sentence': 'The 2005 lineup of eTrust security software from Computer Associates does just that , and its EZArmor suite takes up less room on your hard drive -- just 18 megabytes -- than other antivirus - firewall combinations .',\n",
              "  'entity': 'EZArmor suite',\n",
              "  'measuring attribute': 'size',\n",
              "  'quantity': '18 megabytes'},\n",
              " {'sentence': 'The site is situated at 9 kilometers distance from the Yatağan , Muğla - Milas highway , served by an asphalt road bifurcating shortly after the Yatağan Thermal Power Plant when coming from Yatağan .',\n",
              "  'entity': 'site',\n",
              "  'measuring attribute': 'distance to Yatağan',\n",
              "  'quantity': '9 kilometers'},\n",
              " {'sentence': \"And Crown Publishers receives just under 1 percent of all the money earned from the play , movie and records of '' Fiddler on the Roof , '' which is derived from two Sholom Aleichem stories published by Crown .\",\n",
              "  'entity': 'Crown Publishers',\n",
              "  'measuring attribute': 'amount share of Fiddler on the Roof',\n",
              "  'quantity': '1 percent'},\n",
              " {'sentence': \"( LEAD : Freddie Joe Nunn , 27 , starting defensive end for the Cardinals , was suspended for 30 days by the National Football League yesterday for violating provisions of the league 's substance - abuse policy .\",\n",
              "  'entity': 'Freddie Joe Nunn',\n",
              "  'measuring attribute': 'suspension duration',\n",
              "  'quantity': '30 days'},\n",
              " {'sentence': 'Due to the blocking presence of successive mountain ranges , the climate of the interior of the province is semi-arid with certain locations receiving less than 250 mm ( 10 \" ) in annual precipitation .',\n",
              "  'entity': 'province locations',\n",
              "  'measuring attribute': 'annual precipitation',\n",
              "  'quantity': '250 mm'},\n",
              " {'sentence': 'Revenues at the Prime Equipment Company , which has 66 outlets catering to contractors and refiners in 10 Sunbelt states , declined 18 percent last year to $ 200 million , said Thomas E. Bennett , its president .',\n",
              "  'entity': 'Prime Equipment Company',\n",
              "  'measuring attribute': 'revenue decline',\n",
              "  'quantity': '18 percent to $200 million'},\n",
              " {'sentence': 'This also remains the last time a Republican won the San Francisco Bay Area , and the last one where San Francisco gave less than 60 % of the vote to the Democratic candidate .',\n",
              "  'entity': 'San Francisco',\n",
              "  'measuring attribute': 'vote percentage for Democratic candidate',\n",
              "  'quantity': '60 %'},\n",
              " {'sentence': 'Meanwhile , Georg Solti \\'s recording of Richard Wagner \\'s complete \" Ring Cycle \" is approximately 15 hours in duration and Alexander Scourby \\'s recitation of the King James Bible is over 80 hours in length .',\n",
              "  'entity': 'Alexander Scourby',\n",
              "  'measuring attribute': 'recitation duration',\n",
              "  'quantity': '80 hours'},\n",
              " {'sentence': 'Louis R. Cappelli , a Westchester developer , said that he signed a memorandum of understanding yesterday with New Rochelle officials to develop a square block that the city has been trying to develop for more than 30 years .',\n",
              "  'entity': 'square block in city',\n",
              "  'measuring attribute': 'development duration',\n",
              "  'quantity': '30 years'},\n",
              " {'sentence': 'A team at the National Renewable Energy Laboratory achieved 19.9 % , a record at the time , by modifying the CIGS surface and making it look like CIS .',\n",
              "  'entity': 'National Renewable Energy Laboratory team',\n",
              "  'measuring attribute': 'achieved efficiency',\n",
              "  'quantity': '19.9 %'},\n",
              " {'sentence': 'The United States currency fell nearly 2.5 yen on fears that the United States and Japan may jointly sell dollars in the foreign - exchange market to curb its strength .',\n",
              "  'entity': 'United States currency',\n",
              "  'measuring attribute': 'amount fell',\n",
              "  'quantity': '2.5 yen'},\n",
              " {'sentence': 'Still , shares of British Telecommunications , which have traded near an annual low , surged 7.7 percent , to 740 pence , or $ 10.70 , in London today .',\n",
              "  'entity': 'British Telecommunications',\n",
              "  'measuring attribute': 'shares surge',\n",
              "  'quantity': '7.7 percent'},\n",
              " {'sentence': 'Alicia Lutes of IGN gave part one a 9.2/10 , saying that it \" shines in its deliciously dark plotlines , volumes of camp , and irreverent and at - times antagonistic humor . \"',\n",
              "  'entity': 'Alicia Lutes',\n",
              "  'measuring attribute': 'unknown',\n",
              "  'quantity': 'one a'},\n",
              " {'sentence': 'They stretch along a 100 km long and 18 km wide strip of land between Low Beskids in the south and heights of plateau in the north .',\n",
              "  'entity': 'land',\n",
              "  'measuring attribute': 'breadth',\n",
              "  'quantity': '18 km'},\n",
              " {'sentence': 'According to the New Jersey Department of Corrections Web site , Mr. Harley served about 30 months in prison for aggravated assault and unlawful possession of a weapon .',\n",
              "  'entity': 'Mr. Harley',\n",
              "  'measuring attribute': 'prison duration',\n",
              "  'quantity': '30 months'},\n",
              " {'sentence': 'To date , \" The Dark Side of the Moon \" has spent 741 weeks on the USA - based Billboard 200 album chart , the longest duration of any album in history .',\n",
              "  'entity': 'The Dark Side of the Moon',\n",
              "  'measuring attribute': 'duration spent on  USA - based Billboard 200 album chart',\n",
              "  'quantity': '741 weeks'},\n",
              " {'sentence': 'The facade of the Louvre incorporates one of his largest groups , the Monumental sculpture \" L \\' Equitation \" , which depicts a horse and two \" Putto \" , one of whom is aboard the horse .',\n",
              "  'entity': 'Monumental sculpture \" L \\' Equitation \"',\n",
              "  'measuring attribute': 'number of putto',\n",
              "  'quantity': 'two \"'},\n",
              " {'sentence': 'The speeds of M60 SBS buses increased 27 % to 36 % , but only as a result of other improvements such as off - board fare payment and fewer stops .',\n",
              "  'entity': 'M60 SBS buses',\n",
              "  'measuring attribute': 'speed increase',\n",
              "  'quantity': '27 % to 36 %'},\n",
              " {'sentence': 'German artillery had fired a further 46,750 tons of munitions , with total Axis munitions consumption coming to 67,278 tons over the course of one month .',\n",
              "  'entity': 'German artillery',\n",
              "  'measuring attribute': 'total Axis munitions consumption',\n",
              "  'quantity': '67,278 tons'},\n",
              " {'sentence': 'Tennessee 33 , Mississippi 21 KNOXVILLE , Tenn . ( AP ) - Chuck Webb rushed for a school - record 294 yards and scored twice to rally Tennessee in the S.E.C. game .',\n",
              "  'entity': 'Chuck Webb',\n",
              "  'measuring attribute': 'rushing distance',\n",
              "  'quantity': '294 yards'},\n",
              " {'sentence': 'Harburn asked the club for an extra £1 a week , but was refused , and in July 1958 , he was sold to Everton F.C. for a fee of £6,500 .',\n",
              "  'entity': 'Harburn',\n",
              "  'measuring attribute': 'extra amount asked the club',\n",
              "  'quantity': '£1 a week'},\n",
              " {'sentence': 'On the 20th of June 2017 , reports emerged that Egypt and Hamas reached an understanding according to which Egypt would supply 500 tons of diesel fuel daily .',\n",
              "  'entity': 'Egypt',\n",
              "  'measuring attribute': 'daily diesel fuel supplied',\n",
              "  'quantity': '500 tons'},\n",
              " {'sentence': 'While I.B.M. still lost $ 153 million in its PC business last quarter , its sales increased by 50 percent , and the loss narrowed from a year ago .',\n",
              "  'entity': 'I.B.M.',\n",
              "  'measuring attribute': 'loss narrowed duration',\n",
              "  'quantity': 'a year'},\n",
              " {'sentence': 'Another tender was requested for four more boats , but when Ganz Works reduced their price by ten percent , a total of sixteen boats were ordered from them .',\n",
              "  'entity': 'Ganz Works',\n",
              "  'measuring attribute': 'prize reduction',\n",
              "  'quantity': 'ten percent'},\n",
              " {'sentence': 'The Beermen clinch the 1 st outright semis slot but they lost to their sister team the Star Hotshots in 6 games ( 4-2 ) .',\n",
              "  'entity': 'Beermen',\n",
              "  'measuring attribute': 'outright semis slot',\n",
              "  'quantity': '1 st'},\n",
              " {'sentence': 'The slightly higher Mount Kyllini mountain is about 15 km to its east , separated from Aroania by the valley of the river Olvios .',\n",
              "  'entity': 'Kyllini mountain',\n",
              "  'measuring attribute': 'east distance to Aroania',\n",
              "  'quantity': '15 km'},\n",
              " {'sentence': 'The Greater Jakarta metropolitan area has an area of 6,392 square kilometers , which is known as Jabodetabek ( an acronym of Jakarta , Bogor , Depok , Tangerang and Bekasi ) .',\n",
              "  'entity': 'Greater Jakarta metropolitan area',\n",
              "  'measuring attribute': 'area',\n",
              "  'quantity': '6392 square kilometers'},\n",
              " {'sentence': 'The Zillertal branches from the Inn trench near Jenbach , about 40 km northeast of Innsbruck , running mostly in a north - south direction .',\n",
              "  'entity': 'Zillertal branches',\n",
              "  'measuring attribute': 'distance to Innsbruck',\n",
              "  'quantity': '40 km'},\n",
              " {'sentence': '# 2 Ericksons Producing Craig Erickson of Miami passed for 357 yards , threw one touchdown pass and ran for another in a 38-7 victory at Missouri .',\n",
              "  'entity': ' Craig Erickson',\n",
              "  'measuring attribute': 'passing yards',\n",
              "  'quantity': '357 yards'},\n",
              " {'sentence': 'Produced and mixed by Tommy Henriksen and James Bourne , Bourne describes the album as \" 100 % electronic - and not a rock album \" .',\n",
              "  'entity': 'album',\n",
              "  'measuring attribute': 'electronic percentage',\n",
              "  'quantity': '100 %'},\n",
              " {'sentence': 'Barney Rock scored an 11th - minute goal , while four players ( 3 Dublin , 1 Galway ) were sent off , earning the Dublin team the epithet \" The Dirty Dozen \" .',\n",
              "  'entity': 'Barney Rock',\n",
              "  'measuring attribute': 'goal minute duration',\n",
              "  'quantity': '11th'},\n",
              " {'sentence': \"So far this year , Comcast 's stock has risen 17.5 percent .\",\n",
              "  'entity': 'Comcast',\n",
              "  'measuring attribute': 'stock rise',\n",
              "  'quantity': '17.5 percent'},\n",
              " {'sentence': 'Arlescote is fairly remote , with the nearest village being 2 miles away .',\n",
              "  'entity': 'Arlescote',\n",
              "  'measuring attribute': 'distance to nearest village ',\n",
              "  'quantity': '2 miles'},\n",
              " {'sentence': \"Grupo Mexico , Mexico 's largest diversified mining company , owned a 9.7 percent stake in Asarco , the largest single holding .\",\n",
              "  'entity': 'Grupo Mexico',\n",
              "  'measuring attribute': 'stake share',\n",
              "  'quantity': '9.7 percent'},\n",
              " {'sentence': 'A study in Canada found that the high school dropout rate for all ESL students was 74 % .',\n",
              "  'entity': 'ESL students',\n",
              "  'measuring attribute': 'high school dropout rate',\n",
              "  'quantity': '74 %'},\n",
              " {'sentence': 'Pocklington had wanted a WHL franchise in Edmonton for himself , but was never granted one .',\n",
              "  'entity': 'Pocklington',\n",
              "  'measuring attribute': 'unknown',\n",
              "  'quantity': 'a WHL'},\n",
              " {'sentence': 'While in Detroit , his offensive line helped Barry Sanders to rush for over 2,000 yards .',\n",
              "  'entity': 'Barry Sanders',\n",
              "  'measuring attribute': 'rushing yards',\n",
              "  'quantity': '2,000 yards'},\n",
              " {'sentence': 'Sta . Maria Val Müstair has an unemployment rate of 1.45 % .',\n",
              "  'entity': 'Sta . Maria Val Müstair',\n",
              "  'measuring attribute': 'unemployment rate',\n",
              "  'quantity': '1.45 %'},\n",
              " {'sentence': 'Across these multiple Facebook channels MoviePilot has a monthly social reach of over 300 M shares .',\n",
              "  'entity': 'MoviePilot',\n",
              "  'measuring attribute': 'monthly social reach shares',\n",
              "  'quantity': '300 m'},\n",
              " {'sentence': 'Alwadi is about 39 km from National Highway 3 ( India ) and 23 km from state highway 211 .',\n",
              "  'entity': 'Alwadi',\n",
              "  'measuring attribute': 'distance from state highway 211',\n",
              "  'quantity': '23 km'},\n",
              " {'sentence': 'Despite the stop in Teneriffe , the voyage took only 116 days .',\n",
              "  'entity': 'voyage',\n",
              "  'measuring attribute': 'duration took',\n",
              "  'quantity': '116 days'},\n",
              " {'sentence': 'The Jewish National Fund provided 700 dunams of land for the kibbutz .',\n",
              "  'entity': 'Jewish National Fund',\n",
              "  'measuring attribute': 'provided land area',\n",
              "  'quantity': '700 dunams'},\n",
              " {'sentence': 'Before the finals , Sprewell was averaging 33.6 minutes per game in the playoffs and Houston 36.8 .',\n",
              "  'entity': 'Sprewell',\n",
              "  'measuring attribute': 'averaging game duration in playoffs',\n",
              "  'quantity': '33.6 minutes'},\n",
              " {'sentence': 'At the time , Montana was located at about 40 degrees Latitude .',\n",
              "  'entity': 'Montana',\n",
              "  'measuring attribute': 'latitude angle',\n",
              "  'quantity': '40 degrees'},\n",
              " {'sentence': 'Kavital is 60 km west to the district headquarters Raichur and 35 km north to the taluka headquarters Manvi .',\n",
              "  'entity': 'Kavital',\n",
              "  'measuring attribute': 'west distance to the district headquarters Raichur',\n",
              "  'quantity': '60 km'},\n",
              " {'sentence': 'Compiled and abstracted in a searchable format , \" EconLit \" indexes 125 years of economic literature from around the world .',\n",
              "  'entity': 'EconLit',\n",
              "  'measuring attribute': 'economic literature indexed duration',\n",
              "  'quantity': '125 years'},\n",
              " {'sentence': 'In September , Ms. Furlow was sentenced to 46 months in prison for collecting $ 215,000 from 20 couples .',\n",
              "  'entity': 'Ms. Furlow',\n",
              "  'measuring attribute': 'prison duration',\n",
              "  'quantity': '46 months'},\n",
              " {'sentence': 'Star Gladiator has an aggregate score of 82.40 % for the Playstation version on Gamerankings.com based on 5 reviews .',\n",
              "  'entity': 'Star Gladiator',\n",
              "  'measuring attribute': 'Playstation version aggregate score',\n",
              "  'quantity': '82.40 %'},\n",
              " {'sentence': 'Ford Valencia garnered a score of 83 % and performed John Legend \\'s hit \" All of Me ( John Legend song ) \" .',\n",
              "  'entity': 'Ford Valencia',\n",
              "  'measuring attribute': 'garnered score',\n",
              "  'quantity': '83 %'},\n",
              " {'sentence': 'The age of Plato is about 3.84 billion years , only slightly younger than the Mare Imbrium to the south .',\n",
              "  'entity': 'Plato',\n",
              "  'measuring attribute': 'age',\n",
              "  'quantity': '3.84 billion years'},\n",
              " {'sentence': 'After a spell living in Trinidad , the family returned to England when Chapman was about five years old .',\n",
              "  'entity': 'Chapman',\n",
              "  'measuring attribute': 'age',\n",
              "  'quantity': 'five years'},\n",
              " {'sentence': 'The Šar Mountains have a total area of 1600 km .',\n",
              "  'entity': 'Šar Mountains',\n",
              "  'measuring attribute': 'total area',\n",
              "  'quantity': '1600 km'},\n",
              " {'sentence': 'But Kudrin struck an annihilating blow with 32 Rh6 !',\n",
              "  'entity': 'Kudrin',\n",
              "  'measuring attribute': 'unknown',\n",
              "  'quantity': '32 Rh6'},\n",
              " {'sentence': 'Hospental has an unemployment rate of 0.33 % .',\n",
              "  'entity': 'Hospental',\n",
              "  'measuring attribute': 'unemployment rate',\n",
              "  'quantity': '0.33 %'},\n",
              " {'sentence': 'Seuzach has an unemployment rate of 1.43 % .',\n",
              "  'entity': 'Seuzach',\n",
              "  'measuring attribute': 'unemployment rate',\n",
              "  'quantity': '1.43 %'},\n",
              " {'sentence': \"Kumhari 's distance from Raipur is about 6.8 nm .\",\n",
              "  'entity': 'Kumhari',\n",
              "  'measuring attribute': 'distance from Raipur',\n",
              "  'quantity': '6.8 nm'},\n",
              " {'sentence': 'So Telespazio VEGA has around 40 years experience in spaceflight .',\n",
              "  'entity': 'Telespazio VEGA',\n",
              "  'measuring attribute': 'spaceflight experience',\n",
              "  'quantity': '40 years'},\n",
              " {'sentence': 'The London demonstration lasted for well over four hours .',\n",
              "  'entity': 'London demonstration',\n",
              "  'measuring attribute': 'duration lasted',\n",
              "  'quantity': 'four hours'},\n",
              " {'sentence': 'Pristina International Airport is some 70 kilometres east of Gjakova .',\n",
              "  'entity': 'Pristina International Airport',\n",
              "  'measuring attribute': 'east distance to Gjakova',\n",
              "  'quantity': '70 kilometres'},\n",
              " {'sentence': \"The Bundesbank 's discount rate is 8.25 percent .\",\n",
              "  'entity': 'Bundesbank',\n",
              "  'measuring attribute': 'discount rate',\n",
              "  'quantity': '8.25 percent'},\n",
              " {'sentence': 'The Uzbekistan border is about 10 km away .',\n",
              "  'entity': 'Uzbekistan border',\n",
              "  'measuring attribute': 'distance',\n",
              "  'quantity': '10 km'},\n",
              " {'sentence': 'LaFollette is 33 miles north of Knoxville .',\n",
              "  'entity': 'LaFollette',\n",
              "  'measuring attribute': 'north distance',\n",
              "  'quantity': '33 miles'},\n",
              " {'sentence': 'The hull ( watercraft ) is light and weighs 225 kg .',\n",
              "  'entity': 'hull',\n",
              "  'measuring attribute': 'weight',\n",
              "  'quantity': '225 kg'},\n",
              " {'sentence': 'Beloved husband of Selma , married 57 years .',\n",
              "  'entity': 'husband of Selma',\n",
              "  'measuring attribute': 'marriage duration',\n",
              "  'quantity': '57 years'},\n",
              " {'sentence': 'Bhalki is 40 km from District headquarters Bidar .',\n",
              "  'entity': 'Bhalki',\n",
              "  'measuring attribute': 'distance from District headquarters Bidar',\n",
              "  'quantity': '40 km'},\n",
              " {'sentence': 'Nb4 , Gulko sacrificed the exchange with 23 Rc7 !?',\n",
              "  'entity': 'Gulko',\n",
              "  'measuring attribute': 'unknown',\n",
              "  'quantity': '23 Rc7'},\n",
              " {'sentence': 'At the time Ibn Taymiyyah was 42 years old .',\n",
              "  'entity': 'Ibn Taymiyyah',\n",
              "  'measuring attribute': 'age',\n",
              "  'quantity': '42 years'}]"
            ]
          },
          "metadata": {},
          "execution_count": 36
        }
      ]
    },
    {
      "cell_type": "markdown",
      "source": [
        "## Input - Sentence, quant\n",
        "##Output - ent , attr ----- 200 samples"
      ],
      "metadata": {
        "id": "1-g-f4VzPao-"
      }
    },
    {
      "cell_type": "code",
      "source": [
        "#load the annotated dataset\n",
        "import json\n",
        "with open('/content/drive/MyDrive/MTP Project/t5_data/annotated_200.json', 'r') as f:\n",
        "    samples = json.load(f)\n",
        "sent={}\n",
        "for i in samples:\n",
        "  sent[i['sentence']]=[i['entity'],i['quantity'],i['attribute']]\n",
        "len(sent)"
      ],
      "metadata": {
        "id": "MPr0P5_-3h40"
      },
      "execution_count": null,
      "outputs": []
    },
    {
      "cell_type": "code",
      "source": [
        "#prepare the dataset for joint entity and attribute extraction\n",
        "output=[]\n",
        "for i,v in sent.items():\n",
        "  p=f\"Given the sentence '''{i}''' and the quantity '''{v[1]}''', extract the entity and attribute.\"\n",
        "  #prompt= f\"Please extract the entity and attribute related to the given quantity in the sentence. Sentence:{i} Quantity:{v[1]}\"\n",
        "  comp=f\"Entity: {v[0]} ; Attribute: {v[2]}\"\n",
        "  line = {'prompt': p, 'completion': comp}\n",
        "\n",
        "  output.append(line)\n"
      ],
      "metadata": {
        "id": "hYc027DAx--y"
      },
      "execution_count": 30,
      "outputs": []
    },
    {
      "cell_type": "code",
      "source": [
        "output[0]"
      ],
      "metadata": {
        "id": "A7E9g11dx_DH",
        "colab": {
          "base_uri": "https://localhost:8080/"
        },
        "outputId": "5d34fbc8-a0d8-4518-fe8f-3c5fc023b59e"
      },
      "execution_count": 31,
      "outputs": [
        {
          "output_type": "execute_result",
          "data": {
            "text/plain": [
              "{'prompt': \"Given the sentence '''Without the spire , Burj Khalifa would be 585 meters tall .''' and the quantity '''585 meters''', extract the entity and attribute.\",\n",
              " 'completion': 'Entity: Burj Khalifa ; Attribute: height'}"
            ]
          },
          "metadata": {},
          "execution_count": 31
        }
      ]
    },
    {
      "cell_type": "code",
      "source": [
        "import json\n",
        "# Open the file 'out_ent_attr.jsonl' in write mode\n",
        "with open('/content/drive/MyDrive/MTP Project/gpt_data/out_ent_attr.jsonl', 'w') as outfile:\n",
        "    # Iterate over the 'output' list\n",
        "    for i in output:\n",
        "        # Write each object from the 'output' list as a JSON string to the file\n",
        "        json.dump(i, outfile)\n",
        "        # Write a new line character to separate each object\n",
        "        outfile.write('\\n')\n"
      ],
      "metadata": {
        "id": "nyjUW6-ox_GL"
      },
      "execution_count": null,
      "outputs": []
    },
    {
      "cell_type": "code",
      "source": [
        "#prepare the data\n",
        "!openai tools fine_tunes.prepare_data -f '/content/drive/MyDrive/MTP Project/gpt_data/out_ent_attr.jsonl'"
      ],
      "metadata": {
        "colab": {
          "base_uri": "https://localhost:8080/"
        },
        "id": "s4kuvM5JQJ9K",
        "outputId": "534cda59-bf9c-4dba-f601-8ab810b2d7f5"
      },
      "execution_count": null,
      "outputs": [
        {
          "output_type": "stream",
          "name": "stdout",
          "text": [
            "Analyzing...\n",
            "\n",
            "- Your file contains 200 prompt-completion pairs\n",
            "- All prompts end with suffix `''', extract the entity and attribute.`. This suffix seems very long. Consider replacing with a shorter suffix, such as ` ->`\n",
            "- All prompts start with prefix `Given the sentence '''`. Fine-tuning doesn't require the instruction specifying the task, or a few-shot example scenario. Most of the time you should only add the input data into the prompt, and the desired output into the completion\n",
            "- All completions start with prefix `Entity: `. Most of the time you should only add the output data into the completion, without any prefix\n",
            "- Your data does not contain a common ending at the end of your completions. Having a common ending string appended to the end of the completion makes it clearer to the fine-tuned model where the completion should end. See https://platform.openai.com/docs/guides/fine-tuning/preparing-your-dataset for more detail and examples.\n",
            "- The completion should start with a whitespace character (` `). This tends to produce better results due to the tokenization we use. See https://platform.openai.com/docs/guides/fine-tuning/preparing-your-dataset for more details\n",
            "\n",
            "Based on the analysis we will perform the following actions:\n",
            "- [Recommended] Remove prefix `Given the sentence '''` from all prompts [Y/n]: n\n",
            "- [Recommended] Remove prefix `Entity: ` from all completions [Y/n]: n\n",
            "- [Recommended] Add a suffix ending `\\n` to all completions [Y/n]: y\n",
            "- [Recommended] Add a whitespace character to the beginning of the completion [Y/n]: y\n",
            "\n",
            "\n",
            "Your data will be written to a new JSONL file. Proceed [Y/n]: y\n",
            "\n",
            "Wrote modified file to `/content/drive/MyDrive/MTP Project/gpt_data/out_ent_attr_prepared.jsonl`\n",
            "Feel free to take a look!\n",
            "\n",
            "Now use that file when fine-tuning:\n",
            "> openai api fine_tunes.create -t \"/content/drive/MyDrive/MTP Project/gpt_data/out_ent_attr_prepared.jsonl\"\n",
            "\n",
            "After you’ve fine-tuned a model, remember that your prompt has to end with the indicator string `''', extract the entity and attribute.` for the model to start generating completions, rather than continuing with the prompt. Make sure to include `stop=[\"\\n\"]` so that the generated texts ends at the expected place.\n",
            "Once your model starts training, it'll approximately take 5.19 minutes to train a `curie` model, and less for `ada` and `babbage`. Queue will approximately take half an hour per job ahead of you.\n"
          ]
        }
      ]
    },
    {
      "cell_type": "code",
      "source": [
        "#fine tune the davinci model\n",
        "!openai api fine_tunes.create -t \"/content/drive/MyDrive/MTP Project/gpt_data/out_ent_attr_prepared.jsonl\" -m davinci"
      ],
      "metadata": {
        "colab": {
          "base_uri": "https://localhost:8080/"
        },
        "id": "V5nHa2T2QKAw",
        "outputId": "dd4c7092-8a75-4320-a698-257e2fefecdd"
      },
      "execution_count": null,
      "outputs": [
        {
          "output_type": "stream",
          "name": "stdout",
          "text": [
            "\rUpload progress:   0% 0.00/59.2k [00:00<?, ?it/s]\rUpload progress: 100% 59.2k/59.2k [00:00<00:00, 50.2Mit/s]\n",
            "Uploaded file from /content/drive/MyDrive/MTP Project/gpt_data/out_ent_attr_prepared.jsonl: file-kAjZKcc4sTxhsWVIcYzYFfEG\n",
            "Created fine-tune: ft-zdvhTtcusnAsaxCrPKfFP4EV\n",
            "Streaming events until fine-tuning is complete...\n",
            "\n",
            "(Ctrl-C will interrupt the stream, but not cancel the fine-tune)\n",
            "[2023-04-24 12:34:52] Created fine-tune: ft-zdvhTtcusnAsaxCrPKfFP4EV\n",
            "[2023-04-24 12:35:04] Fine-tune costs $1.52\n",
            "[2023-04-24 12:35:04] Fine-tune enqueued. Queue number: 0\n",
            "[2023-04-24 12:35:06] Fine-tune started\n",
            "\n"
          ]
        }
      ]
    },
    {
      "cell_type": "code",
      "source": [
        "!openai api fine_tunes.follow -i ft-zdvhTtcusnAsaxCrPKfFP4EV"
      ],
      "metadata": {
        "colab": {
          "base_uri": "https://localhost:8080/"
        },
        "id": "nR_mGLb2QKCy",
        "outputId": "7a0d9869-24da-4520-e6f5-5403bdd76cc0"
      },
      "execution_count": null,
      "outputs": [
        {
          "output_type": "stream",
          "name": "stdout",
          "text": [
            "[2023-04-24 12:34:52] Created fine-tune: ft-zdvhTtcusnAsaxCrPKfFP4EV\n",
            "[2023-04-24 12:35:04] Fine-tune costs $1.52\n",
            "[2023-04-24 12:35:04] Fine-tune enqueued. Queue number: 0\n",
            "[2023-04-24 12:35:06] Fine-tune started\n",
            "[2023-04-24 12:37:37] Completed epoch 1/4\n",
            "[2023-04-24 12:38:38] Completed epoch 2/4\n",
            "[2023-04-24 12:39:39] Completed epoch 3/4\n",
            "[2023-04-24 12:40:40] Completed epoch 4/4\n",
            "[2023-04-24 12:41:13] Uploaded model: davinci:ft-personal-2023-04-24-12-41-13\n",
            "[2023-04-24 12:41:15] Uploaded result file: file-TMjgWyUzwMvCZxt1IumzLfhD\n",
            "[2023-04-24 12:41:15] Fine-tune succeeded\n",
            "\n",
            "Job complete! Status: succeeded 🎉\n",
            "Try out your fine-tuned model:\n",
            "\n",
            "openai api completions.create -m davinci:ft-personal-2023-04-24-12-41-13 -p <YOUR_PROMPT>\n"
          ]
        }
      ]
    },
    {
      "cell_type": "code",
      "source": [
        "test[0]"
      ],
      "metadata": {
        "colab": {
          "base_uri": "https://localhost:8080/"
        },
        "id": "oZPPBRSASV-l",
        "outputId": "e02388b6-33d0-4b2b-98b6-02f98925a557"
      },
      "execution_count": null,
      "outputs": [
        {
          "output_type": "execute_result",
          "data": {
            "text/plain": [
              "{'entity': 'this LPG pipeline',\n",
              " 'quantity': '1415 km',\n",
              " 'attribute': 'total length',\n",
              " 'sentence': 'The total length of this LPG pipeline is 1415 km .'}"
            ]
          },
          "metadata": {},
          "execution_count": 86
        }
      ]
    },
    {
      "cell_type": "code",
      "source": [
        "# Set the model_engine variable to the specified engine for fine-tuned model\n",
        "model_engine = 'davinci:ft-personal-2023-04-24-12-41-13'\n",
        "\n",
        "# Initialize variables\n",
        "m = 0\n",
        "out = {}\n",
        "import time\n",
        "\n",
        "# Iterate over the test list\n",
        "for se in test:\n",
        "    # Create a prompt string using the values from the current element in the test list\n",
        "    p = f\"Given the sentence '''{se['sentence']}''' and the quantity '''{se['quantity']}''', extract the entity and attribute.\"\n",
        "\n",
        "    # Generate completions using the fine-tuned model\n",
        "    completions = openai.Completion.create(\n",
        "        engine=model_engine,\n",
        "        prompt=p,\n",
        "        temperature=0.7,\n",
        "        max_tokens=30,\n",
        "        top_p=1,\n",
        "        frequency_penalty=1,\n",
        "        presence_penalty=1,\n",
        "        n=1\n",
        "    )\n",
        "\n",
        "    # Get the first completion from the generated completions\n",
        "    message = completions.choices[0].text\n",
        "\n",
        "    # Print the original sentence and the generated completion\n",
        "    print(se['sentence'])\n",
        "    print(\"*****************************Result**************************\")\n",
        "    print(message.split('\\n')[0])\n",
        "    print('\\n\\n')\n",
        "\n",
        "    # Store the generated completion in the out dictionary using the original sentence as the key\n",
        "    out[se['sentence']] = message.split('\\n')[0]\n",
        "\n",
        "    m = m + 1\n",
        "    # Delay execution every 20 iterations to avoid rate limits\n",
        "    if m % 20 == 0:\n",
        "        time.sleep(65)\n"
      ],
      "metadata": {
        "id": "iEFPoGxsQKFY"
      },
      "execution_count": null,
      "outputs": []
    },
    {
      "cell_type": "code",
      "source": [
        "#seperate entity and attribute in the predicted output\n",
        "output=[]\n",
        "# Define regular expressions to match the entity and attribute values\n",
        "entity_regex = r\"Entity:\\s*([\\w\\s]+)\"\n",
        "attribute_regex = r\"Attribute:\\s*([\\w\\s]+)\"\n",
        "\n",
        "for i,v in out.items():\n",
        "  print(i)\n",
        "  print(f'*******************   RESULT   *******************   ')\n",
        "  input=v\n",
        "# Use regular expressions to extract the entity and attribute values from the input string\n",
        "  entity_match = re.search(entity_regex, input)\n",
        "  attribute_match = re.search(attribute_regex, input)\n",
        "# Extract the entity and attribute values from the regular expression matches\n",
        "  entity_value = entity_match.group(1).strip()\n",
        "  attribute_value = attribute_match.group(1).strip()\n",
        "  print(f'Entity----{entity_value}')\n",
        "  print(f\"Attribute ----{attribute_value}\")\n",
        "\n",
        "  print('\\n\\n')\n",
        "  d={}\n",
        "  d['sentence']=i\n",
        "  d['entity']=entity_value\n",
        "  d['attribute']=attribute_value\n",
        "  output.append(d)\n"
      ],
      "metadata": {
        "id": "ala_KyXsx1iA"
      },
      "execution_count": null,
      "outputs": []
    },
    {
      "cell_type": "code",
      "source": [
        "with open('/content/drive/MyDrive/MTP Project/gpt_data/gpt_out_ent_attr_200.json','w') as f:\n",
        "  json.dump(output,f)"
      ],
      "metadata": {
        "id": "TJ5xFV58U7qy"
      },
      "execution_count": null,
      "outputs": []
    },
    {
      "cell_type": "markdown",
      "source": [
        "### Input - Sentence, quant Output - ent , attr ----- 300 samples"
      ],
      "metadata": {
        "id": "A_WT-ZcpWCHm"
      }
    },
    {
      "cell_type": "code",
      "source": [
        "#load the annotated dataset\n",
        "import json\n",
        "with open('/content/drive/MyDrive/MTP Project/t5_data/annotated_300.json', 'r') as f:\n",
        "    samples = json.load(f)\n",
        "sent={}\n",
        "for i in samples:\n",
        "  sent[i['sentence']]=[i['entity'],i['quantity'],i['measuring attribute']]\n",
        "len(sent)"
      ],
      "metadata": {
        "colab": {
          "base_uri": "https://localhost:8080/"
        },
        "id": "3ATuDwl63oDx",
        "outputId": "c2828b28-44f3-46d6-ea3f-89db18b6814f"
      },
      "execution_count": 43,
      "outputs": [
        {
          "output_type": "execute_result",
          "data": {
            "text/plain": [
              "300"
            ]
          },
          "metadata": {},
          "execution_count": 43
        }
      ]
    },
    {
      "cell_type": "code",
      "source": [
        "output=[]\n",
        "for i,v in sent.items():\n",
        "  p=f\"Given the sentence '''{i}''' and the quantity '''{v[1]}''', extract the entity and attribute.\"\n",
        "\n",
        "  comp=f\"Entity: {v[0]} ; Attribute: {v[2]}\"\n",
        "  line = {'prompt': p, 'completion': comp}\n",
        "\n",
        "  output.append(line)\n"
      ],
      "metadata": {
        "id": "Hbm4w0v-Vi57"
      },
      "execution_count": 44,
      "outputs": []
    },
    {
      "cell_type": "code",
      "source": [
        "output[0]"
      ],
      "metadata": {
        "colab": {
          "base_uri": "https://localhost:8080/"
        },
        "id": "028kKDOtWKBo",
        "outputId": "5d5417c6-2beb-4871-d6d7-c8afde940a7b"
      },
      "execution_count": 45,
      "outputs": [
        {
          "output_type": "execute_result",
          "data": {
            "text/plain": [
              "{'prompt': \"Given the sentence '''As of 2016 , Solar cell efficiency exceeds 10 % .''' and the quantity '''10 %''', extract the entity and attribute.\",\n",
              " 'completion': 'Entity: Solar cell ; Attribute: efficiency'}"
            ]
          },
          "metadata": {},
          "execution_count": 45
        }
      ]
    },
    {
      "cell_type": "code",
      "source": [
        "len(output)"
      ],
      "metadata": {
        "colab": {
          "base_uri": "https://localhost:8080/"
        },
        "id": "KMQ24jZiWUvn",
        "outputId": "5133c616-9f5b-4e10-ada4-478601c6bb51"
      },
      "execution_count": null,
      "outputs": [
        {
          "output_type": "execute_result",
          "data": {
            "text/plain": [
              "300"
            ]
          },
          "metadata": {},
          "execution_count": 99
        }
      ]
    },
    {
      "cell_type": "code",
      "source": [
        "import json\n",
        "with open('/content/drive/MyDrive/MTP Project/gpt_data/out_300_ent_attr.jsonl', 'w') as outfile:\n",
        "  for i in output:\n",
        "        json.dump(i, outfile)\n",
        "        outfile.write('\\n')\n"
      ],
      "metadata": {
        "id": "K-kljiFdWX1r"
      },
      "execution_count": null,
      "outputs": []
    },
    {
      "cell_type": "code",
      "source": [
        "!openai tools fine_tunes.prepare_data -f '/content/drive/MyDrive/MTP Project/gpt_data/out_300_ent_attr.jsonl'"
      ],
      "metadata": {
        "colab": {
          "base_uri": "https://localhost:8080/"
        },
        "id": "Bwu2T1iYWgPY",
        "outputId": "7c73e6e8-70e6-4f00-cc04-81d2c68cdcbd"
      },
      "execution_count": null,
      "outputs": [
        {
          "output_type": "stream",
          "name": "stdout",
          "text": [
            "Analyzing...\n",
            "\n",
            "- Your file contains 300 prompt-completion pairs\n",
            "- All prompts end with suffix `''', extract the entity and attribute.`. This suffix seems very long. Consider replacing with a shorter suffix, such as ` ->`\n",
            "- All prompts start with prefix `Given the sentence '''`. Fine-tuning doesn't require the instruction specifying the task, or a few-shot example scenario. Most of the time you should only add the input data into the prompt, and the desired output into the completion\n",
            "- All completions start with prefix `Entity: `. Most of the time you should only add the output data into the completion, without any prefix\n",
            "- Your data does not contain a common ending at the end of your completions. Having a common ending string appended to the end of the completion makes it clearer to the fine-tuned model where the completion should end. See https://platform.openai.com/docs/guides/fine-tuning/preparing-your-dataset for more detail and examples.\n",
            "- The completion should start with a whitespace character (` `). This tends to produce better results due to the tokenization we use. See https://platform.openai.com/docs/guides/fine-tuning/preparing-your-dataset for more details\n",
            "\n",
            "Based on the analysis we will perform the following actions:\n",
            "- [Recommended] Remove prefix `Given the sentence '''` from all prompts [Y/n]: n\n",
            "- [Recommended] Remove prefix `Entity: ` from all completions [Y/n]: n\n",
            "- [Recommended] Add a suffix ending `\\n` to all completions [Y/n]: y\n",
            "- [Recommended] Add a whitespace character to the beginning of the completion [Y/n]: y\n",
            "\n",
            "\n",
            "Your data will be written to a new JSONL file. Proceed [Y/n]: y\n",
            "\n",
            "Wrote modified file to `/content/drive/MyDrive/MTP Project/gpt_data/out_300_ent_attr_prepared.jsonl`\n",
            "Feel free to take a look!\n",
            "\n",
            "Now use that file when fine-tuning:\n",
            "> openai api fine_tunes.create -t \"/content/drive/MyDrive/MTP Project/gpt_data/out_300_ent_attr_prepared.jsonl\"\n",
            "\n",
            "After you’ve fine-tuned a model, remember that your prompt has to end with the indicator string `''', extract the entity and attribute.` for the model to start generating completions, rather than continuing with the prompt. Make sure to include `stop=[\"\\n\"]` so that the generated texts ends at the expected place.\n",
            "Once your model starts training, it'll approximately take 6.56 minutes to train a `curie` model, and less for `ada` and `babbage`. Queue will approximately take half an hour per job ahead of you.\n"
          ]
        }
      ]
    },
    {
      "cell_type": "code",
      "source": [
        "!openai api fine_tunes.create -t \"/content/drive/MyDrive/MTP Project/gpt_data/out_300_ent_attr_prepared.jsonl\" -m davinci"
      ],
      "metadata": {
        "colab": {
          "base_uri": "https://localhost:8080/"
        },
        "id": "z_X2iYRSWl0T",
        "outputId": "b9d3d9ea-910e-4470-ab2f-aa8b967b0959"
      },
      "execution_count": null,
      "outputs": [
        {
          "output_type": "stream",
          "name": "stdout",
          "text": [
            "\rUpload progress:   0% 0.00/88.6k [00:00<?, ?it/s]\rUpload progress: 100% 88.6k/88.6k [00:00<00:00, 94.6Mit/s]\n",
            "Uploaded file from /content/drive/MyDrive/MTP Project/gpt_data/out_300_ent_attr_prepared.jsonl: file-NHfdG4NxDULYwdc87pDLfqXa\n",
            "Created fine-tune: ft-OLiUXKgvQfDULdS8KF6nbHT8\n",
            "Streaming events until fine-tuning is complete...\n",
            "\n",
            "(Ctrl-C will interrupt the stream, but not cancel the fine-tune)\n",
            "[2023-04-24 13:34:29] Created fine-tune: ft-OLiUXKgvQfDULdS8KF6nbHT8\n",
            "[2023-04-24 13:34:58] Fine-tune costs $2.29\n",
            "[2023-04-24 13:34:58] Fine-tune enqueued. Queue number: 0\n",
            "[2023-04-24 13:35:00] Fine-tune started\n",
            "\n"
          ]
        }
      ]
    },
    {
      "cell_type": "code",
      "source": [
        "!openai api fine_tunes.follow -i ft-OLiUXKgvQfDULdS8KF6nbHT8"
      ],
      "metadata": {
        "colab": {
          "base_uri": "https://localhost:8080/"
        },
        "id": "DpFIFyQvW06x",
        "outputId": "90ff1dbb-ca86-40fc-ead8-b92e0de8eb29"
      },
      "execution_count": null,
      "outputs": [
        {
          "output_type": "stream",
          "name": "stdout",
          "text": [
            "[2023-04-24 13:34:29] Created fine-tune: ft-OLiUXKgvQfDULdS8KF6nbHT8\n",
            "[2023-04-24 13:34:58] Fine-tune costs $2.29\n",
            "[2023-04-24 13:34:58] Fine-tune enqueued. Queue number: 0\n",
            "[2023-04-24 13:35:00] Fine-tune started\n",
            "[2023-04-24 13:38:07] Completed epoch 1/4\n",
            "[2023-04-24 13:39:39] Completed epoch 2/4\n",
            "[2023-04-24 13:41:11] Completed epoch 3/4\n",
            "[2023-04-24 13:42:43] Completed epoch 4/4\n",
            "[2023-04-24 13:43:21] Uploaded model: davinci:ft-personal-2023-04-24-13-43-20\n",
            "[2023-04-24 13:43:22] Uploaded result file: file-Nmp0z3z7MbjQFkGozu3tVqpM\n",
            "[2023-04-24 13:43:22] Fine-tune succeeded\n",
            "\n",
            "Job complete! Status: succeeded 🎉\n",
            "Try out your fine-tuned model:\n",
            "\n",
            "openai api completions.create -m davinci:ft-personal-2023-04-24-13-43-20 -p <YOUR_PROMPT>\n"
          ]
        }
      ]
    },
    {
      "cell_type": "code",
      "source": [
        "model_engine='davinci:ft-personal-2023-04-24-13-43-20'\n",
        "# Set the model_engine variable to the specified engine for fine-tuned model\n",
        "\n",
        "# Initialize variables\n",
        "m = 0\n",
        "out = {}\n",
        "import time\n",
        "\n",
        "# Iterate over the test list\n",
        "for se in test:\n",
        "    # Create a prompt string using the values from the current element in the test list\n",
        "    p = f\"Given the sentence '''{se['sentence']}''' and the quantity '''{se['quantity']}''', extract the entity and attribute.\"\n",
        "\n",
        "    # Generate completions using the fine-tuned model\n",
        "    completions = openai.Completion.create(\n",
        "        engine=model_engine,\n",
        "        prompt=p,\n",
        "        temperature=0.7,\n",
        "        max_tokens=30,\n",
        "        top_p=1,\n",
        "        frequency_penalty=1,\n",
        "        presence_penalty=1,\n",
        "        n=1\n",
        "    )\n",
        "\n",
        "    # Get the first completion from the generated completions\n",
        "    message = completions.choices[0].text\n",
        "\n",
        "    # Print the original sentence and the generated completion\n",
        "    print(se['sentence'])\n",
        "    print(\"*****************************Result**************************\")\n",
        "    print(message.split('\\n')[0])\n",
        "    print('\\n\\n')\n",
        "\n",
        "    # Store the generated completion in the out dictionary using the original sentence as the key\n",
        "    out[se['sentence']] = message.split('\\n')[0]\n",
        "\n",
        "    m = m + 1\n",
        "    # Delay execution every 20 iterations to avoid rate limits\n",
        "    if m % 20 == 0:\n",
        "        time.sleep(65)\n",
        "\n"
      ],
      "metadata": {
        "id": "8oHP2Z7eXBkm"
      },
      "execution_count": null,
      "outputs": []
    },
    {
      "cell_type": "code",
      "source": [
        "output=[]\n",
        "# Define regular expressions to match the entity and attribute values\n",
        "entity_regex = r\"Entity:\\s*([\\w\\s]+)\"\n",
        "attribute_regex = r\"Attribute:\\s*([\\w\\s]+)\"\n",
        "\n",
        "for i,v in out.items():\n",
        "  print(i)\n",
        "  print(f'*******************   RESULT   *******************   ')\n",
        "  input=v\n",
        "# Use regular expressions to extract the entity and attribute values from the input string\n",
        "  entity_match = re.search(entity_regex, input)\n",
        "  attribute_match = re.search(attribute_regex, input)\n",
        "# Extract the entity and attribute values from the regular expression matches\n",
        "  entity_value = entity_match.group(1).strip()\n",
        "  attribute_value = attribute_match.group(1).strip()\n",
        "  print(f'Entity----{entity_value}')\n",
        "  print(f\"Attribute ----{attribute_value}\")\n",
        "\n",
        "  print('\\n\\n')\n",
        "  d={}\n",
        "  d['sentence']=i\n",
        "  d['entity']=entity_value\n",
        "  d['attribute']=attribute_value\n",
        "  output.append(d)\n"
      ],
      "metadata": {
        "id": "RcB1wZaaXJEM"
      },
      "execution_count": null,
      "outputs": []
    },
    {
      "cell_type": "code",
      "source": [
        "output[10]"
      ],
      "metadata": {
        "colab": {
          "base_uri": "https://localhost:8080/"
        },
        "id": "F6W6jVwDiHJf",
        "outputId": "ee21d689-d57d-4a01-c304-0de4db72f1b5"
      },
      "execution_count": null,
      "outputs": [
        {
          "output_type": "execute_result",
          "data": {
            "text/plain": [
              "{'sentence': 'The bridge carries 60 to 70 percent of commercial truck traffic in the region .',\n",
              " 'entity': 'bridge',\n",
              " 'attribute': 'commercial truck traffic share'}"
            ]
          },
          "metadata": {},
          "execution_count": 118
        }
      ]
    },
    {
      "cell_type": "code",
      "source": [
        "with open('/content/drive/MyDrive/MTP Project/gpt_data/gpt_out_ent_attr_300.json','w') as f:\n",
        "  json.dump(output,f)"
      ],
      "metadata": {
        "id": "LZgbPsYvXN33"
      },
      "execution_count": null,
      "outputs": []
    },
    {
      "cell_type": "markdown",
      "source": [],
      "metadata": {
        "id": "vjuPSs14XUyY"
      }
    },
    {
      "cell_type": "markdown",
      "source": [
        "##input - sen,ent,quant    \n",
        "##output-attribute -- 200 samples"
      ],
      "metadata": {
        "id": "kfLeFHGFXU3C"
      }
    },
    {
      "cell_type": "code",
      "source": [
        "#load the annotated dataset\n",
        "import json\n",
        "with open('/content/drive/MyDrive/MTP Project/t5_data/annotated_200.json', 'r') as f:\n",
        "    samples = json.load(f)\n",
        "sent={}\n",
        "for i in samples:\n",
        "  sent[i['sentence']]=[i['entity'],i['quantity'],i['attribute']]\n",
        "len(sent)"
      ],
      "metadata": {
        "colab": {
          "base_uri": "https://localhost:8080/"
        },
        "id": "b_fII5TK3lWh",
        "outputId": "73c950a3-0dfe-440b-b5d3-263b9d8e95be"
      },
      "execution_count": 47,
      "outputs": [
        {
          "output_type": "execute_result",
          "data": {
            "text/plain": [
              "200"
            ]
          },
          "metadata": {},
          "execution_count": 47
        }
      ]
    },
    {
      "cell_type": "code",
      "source": [
        "output=[]\n",
        "for i,v in sent.items():\n",
        "  p=f\"Given the sentence '''{i}''' and the quantity '''{v[1]}''', along with the entity  '''{v[0]}''', extract the related attribute.\"\n",
        "\n",
        "  line = {'prompt': p, 'completion': v[2] }\n",
        "\n",
        "  output.append(line)\n"
      ],
      "metadata": {
        "id": "51Sxv1SXXZ3o"
      },
      "execution_count": 48,
      "outputs": []
    },
    {
      "cell_type": "code",
      "source": [
        "output[0]"
      ],
      "metadata": {
        "colab": {
          "base_uri": "https://localhost:8080/"
        },
        "id": "FYQqnDkMX-2E",
        "outputId": "c73c7d8b-8f65-4399-bf01-0bdbf89698b5"
      },
      "execution_count": 49,
      "outputs": [
        {
          "output_type": "execute_result",
          "data": {
            "text/plain": [
              "{'prompt': \"Given the sentence '''Without the spire , Burj Khalifa would be 585 meters tall .''' and the quantity '''585 meters''', along with the entity  '''Burj Khalifa''', extract the related attribute.\",\n",
              " 'completion': 'height'}"
            ]
          },
          "metadata": {},
          "execution_count": 49
        }
      ]
    },
    {
      "cell_type": "code",
      "source": [
        "len(output)"
      ],
      "metadata": {
        "colab": {
          "base_uri": "https://localhost:8080/"
        },
        "id": "8o-aqZHridv-",
        "outputId": "325d7566-0f89-4033-a5e7-9a40a23de7e5"
      },
      "execution_count": null,
      "outputs": [
        {
          "output_type": "execute_result",
          "data": {
            "text/plain": [
              "200"
            ]
          },
          "metadata": {},
          "execution_count": 122
        }
      ]
    },
    {
      "cell_type": "code",
      "source": [
        "import json\n",
        "with open('/content/drive/MyDrive/MTP Project/gpt_data/out_200_attr.jsonl', 'w') as outfile:\n",
        "  for i in output:\n",
        "        json.dump(i, outfile)\n",
        "        outfile.write('\\n')\n"
      ],
      "metadata": {
        "id": "cAFzxiwxYAIM"
      },
      "execution_count": null,
      "outputs": []
    },
    {
      "cell_type": "code",
      "source": [
        "!openai tools fine_tunes.prepare_data -f '/content/drive/MyDrive/MTP Project/gpt_data/out_200_attr.jsonl'"
      ],
      "metadata": {
        "colab": {
          "base_uri": "https://localhost:8080/"
        },
        "id": "fB2-tjINencV",
        "outputId": "b7f98dd0-3a82-4476-8bf1-e6f90662b58e"
      },
      "execution_count": null,
      "outputs": [
        {
          "output_type": "stream",
          "name": "stdout",
          "text": [
            "Analyzing...\n",
            "\n",
            "- Your file contains 200 prompt-completion pairs\n",
            "- All prompts end with suffix `''', extract the related attribute.`. This suffix seems very long. Consider replacing with a shorter suffix, such as ` ->`\n",
            "- All prompts start with prefix `Given the sentence '''`. Fine-tuning doesn't require the instruction specifying the task, or a few-shot example scenario. Most of the time you should only add the input data into the prompt, and the desired output into the completion\n",
            "- Your data does not contain a common ending at the end of your completions. Having a common ending string appended to the end of the completion makes it clearer to the fine-tuned model where the completion should end. See https://platform.openai.com/docs/guides/fine-tuning/preparing-your-dataset for more detail and examples.\n",
            "- The completion should start with a whitespace character (` `). This tends to produce better results due to the tokenization we use. See https://platform.openai.com/docs/guides/fine-tuning/preparing-your-dataset for more details\n",
            "\n",
            "Based on the analysis we will perform the following actions:\n",
            "- [Recommended] Remove prefix `Given the sentence '''` from all prompts [Y/n]: n\n",
            "- [Recommended] Add a suffix ending `\\n` to all completions [Y/n]: y\n",
            "- [Recommended] Add a whitespace character to the beginning of the completion [Y/n]: y\n",
            "\n",
            "\n",
            "Your data will be written to a new JSONL file. Proceed [Y/n]: y\n",
            "\n",
            "Wrote modified file to `/content/drive/MyDrive/MTP Project/gpt_data/out_200_attr_prepared.jsonl`\n",
            "Feel free to take a look!\n",
            "\n",
            "Now use that file when fine-tuning:\n",
            "> openai api fine_tunes.create -t \"/content/drive/MyDrive/MTP Project/gpt_data/out_200_attr_prepared.jsonl\"\n",
            "\n",
            "After you’ve fine-tuned a model, remember that your prompt has to end with the indicator string `''', extract the related attribute.` for the model to start generating completions, rather than continuing with the prompt. Make sure to include `stop=[\"\\n\"]` so that the generated texts ends at the expected place.\n",
            "Once your model starts training, it'll approximately take 5.19 minutes to train a `curie` model, and less for `ada` and `babbage`. Queue will approximately take half an hour per job ahead of you.\n"
          ]
        }
      ]
    },
    {
      "cell_type": "code",
      "source": [
        "!openai api fine_tunes.create -t \"/content/drive/MyDrive/MTP Project/gpt_data/out_200_attr_prepared.jsonl\" -m davinci"
      ],
      "metadata": {
        "colab": {
          "base_uri": "https://localhost:8080/"
        },
        "id": "PSDkv0dtfESC",
        "outputId": "0f4573e1-ef89-4bcf-a0e0-8936a905b8a9"
      },
      "execution_count": null,
      "outputs": [
        {
          "output_type": "stream",
          "name": "stdout",
          "text": [
            "\rUpload progress:   0% 0.00/60.4k [00:00<?, ?it/s]\rUpload progress: 100% 60.4k/60.4k [00:00<00:00, 79.8Mit/s]\n",
            "Uploaded file from /content/drive/MyDrive/MTP Project/gpt_data/out_200_attr_prepared.jsonl: file-2ZtdxU4DG8O0Cjx6dtUPibzu\n",
            "Created fine-tune: ft-zFrnY1gZ51vP8vKmVoKN5zaA\n",
            "Streaming events until fine-tuning is complete...\n",
            "\n",
            "(Ctrl-C will interrupt the stream, but not cancel the fine-tune)\n",
            "[2023-04-25 17:41:34] Created fine-tune: ft-zFrnY1gZ51vP8vKmVoKN5zaA\n",
            "[2023-04-25 17:42:30] Fine-tune costs $1.58\n",
            "[2023-04-25 17:42:31] Fine-tune enqueued. Queue number: 3\n",
            "\n"
          ]
        }
      ]
    },
    {
      "cell_type": "code",
      "source": [
        "!openai api fine_tunes.follow -i ft-zFrnY1gZ51vP8vKmVoKN5zaA"
      ],
      "metadata": {
        "colab": {
          "base_uri": "https://localhost:8080/"
        },
        "id": "LNIJGCy8fHKP",
        "outputId": "76622b5f-3756-4bcc-acba-eba821892a3a"
      },
      "execution_count": null,
      "outputs": [
        {
          "output_type": "stream",
          "name": "stdout",
          "text": [
            "[2023-04-25 17:41:34] Created fine-tune: ft-zFrnY1gZ51vP8vKmVoKN5zaA\n",
            "[2023-04-25 17:42:30] Fine-tune costs $1.58\n",
            "[2023-04-25 17:42:31] Fine-tune enqueued. Queue number: 3\n",
            "[2023-04-25 17:46:17] Fine-tune is in the queue. Queue number: 2\n",
            "[2023-04-25 17:46:44] Fine-tune is in the queue. Queue number: 1\n",
            "[2023-04-25 17:51:13] Fine-tune is in the queue. Queue number: 0\n",
            "[2023-04-25 17:51:30] Fine-tune started\n",
            "[2023-04-25 17:53:59] Completed epoch 1/4\n",
            "[2023-04-25 17:55:00] Completed epoch 2/4\n",
            "[2023-04-25 17:56:01] Completed epoch 3/4\n",
            "[2023-04-25 17:57:03] Completed epoch 4/4\n",
            "[2023-04-25 17:57:48] Uploaded model: davinci:ft-personal-2023-04-25-17-57-48\n",
            "[2023-04-25 17:57:50] Uploaded result file: file-T6O710Rz3oGgF2HCsQsLD7y6\n",
            "[2023-04-25 17:57:50] Fine-tune succeeded\n",
            "\n",
            "Job complete! Status: succeeded 🎉\n",
            "Try out your fine-tuned model:\n",
            "\n",
            "openai api completions.create -m davinci:ft-personal-2023-04-25-17-57-48 -p <YOUR_PROMPT>\n"
          ]
        }
      ]
    },
    {
      "cell_type": "code",
      "source": [
        "# Set the model_engine variable to the specified engine for fine-tuned model\n",
        "model_engine = 'davinci:ft-personal-2023-04-25-17-57-48'\n",
        "\n",
        "# Initialize variables\n",
        "out = {}\n",
        "m = 0\n",
        "import time\n",
        "\n",
        "# Iterate over the test list\n",
        "for se in test:\n",
        "    # Create a prompt string using the values from the current element in the test list\n",
        "    p = f\"Given the sentence '''{se['sentence']}''' and the quantity '''{se['quantity']}''', along with the entity  '''{se['entity']}''', extract the related attribute.\"\n",
        "\n",
        "    # Generate completions using the fine-tuned model\n",
        "    completions = openai.Completion.create(\n",
        "        engine=model_engine,\n",
        "        prompt=p,\n",
        "        temperature=0.7,\n",
        "        max_tokens=30,\n",
        "        top_p=1,\n",
        "        frequency_penalty=1,\n",
        "        presence_penalty=1,\n",
        "        n=1\n",
        "    )\n",
        "\n",
        "    # Get the first completion from the generated completions\n",
        "    message = completions.choices[0].text\n",
        "\n",
        "    # Print the original sentence and the generated completion\n",
        "    print(se['sentence'])\n",
        "    print(\"*****************************Result**************************\")\n",
        "    print(message.split('\\n')[0])\n",
        "    print('\\n\\n')\n",
        "\n",
        "    # Store the generated completion in the out dictionary using the original sentence as the key\n",
        "    out[se['sentence']] = message.split('\\n')[0]\n",
        "\n",
        "    m = m + 1\n",
        "    # Delay execution every 20 iterations to avoid rate limits\n",
        "    if m % 20 == 0:\n",
        "        time.sleep(65)\n",
        "\n"
      ],
      "metadata": {
        "colab": {
          "base_uri": "https://localhost:8080/"
        },
        "id": "VTadCq9EfKWN",
        "outputId": "a9bfa4e7-b890-405c-f1f0-4553511ec2e2"
      },
      "execution_count": null,
      "outputs": [
        {
          "output_type": "stream",
          "name": "stdout",
          "text": [
            "The total length of this LPG pipeline is 1415 km .\n",
            "*****************************Result**************************\n",
            " total length\n",
            "\n",
            "\n",
            "\n",
            "Defensive end Rulon Jones led the line with 7 sacks .\n",
            "*****************************Result**************************\n",
            " sacks\n",
            "\n",
            "\n",
            "\n",
            "'' The diameter of an Oreo cookie is 1.75 inches .\n",
            "*****************************Result**************************\n",
            " diameter\n",
            "\n",
            "\n",
            "\n",
            "This presence in Russia lasted 3 years .\n",
            "*****************************Result**************************\n",
            " presence\n",
            "\n",
            "\n",
            "\n",
            "Hyundai owns 33.88 % of Kia .\n",
            "*****************************Result**************************\n",
            " Kia share\n",
            "\n",
            "\n",
            "\n",
            "The Criollos entered the league 's \" Super 6 \" semifinals .\n",
            "*****************************Result**************************\n",
            " semifinals participation\n",
            "\n",
            "\n",
            "\n",
            "Vermont 's share is about 4.5 percent .\n",
            "*****************************Result**************************\n",
            " share\n",
            "\n",
            "\n",
            "\n",
            "Ballari district has 25 % of India 's Iron ore reserves .\n",
            "*****************************Result**************************\n",
            " Iron ore reserves\n",
            "\n",
            "\n",
            "\n",
            "Hạ Long city is 150 km from the airport .\n",
            "*****************************Result**************************\n",
            " distance to airport\n",
            "\n",
            "\n",
            "\n",
            "The ENIAC was built in 30 months with 200,000 man hours .\n",
            "*****************************Result**************************\n",
            " construction duration\n",
            "\n",
            "\n",
            "\n",
            "The bridge carries 60 to 70 percent of commercial truck traffic in the region .\n",
            "*****************************Result**************************\n",
            " commercial truck traffic share\n",
            "\n",
            "\n",
            "\n",
            "Chennai has a water table at 2 metres for 60 percent of the year .\n",
            "*****************************Result**************************\n",
            " water table depth\n",
            "\n",
            "\n",
            "\n",
            "The current standards in the United States is 30 m or less .\n",
            "*****************************Result**************************\n",
            " current standards\n",
            "\n",
            "\n",
            "\n",
            "\" Cadillac Man \" has a score of 55 % on review aggregator website Rotten Tomatoes based on 11 reviews .\n",
            "*****************************Result**************************\n",
            " Rotten Tomatoes rating\n",
            "\n",
            "\n",
            "\n",
            "These archaeologists discovered that Gobero had been almost continually inhabited for 5000 years , beginning roughly from 8000 BCE onwards when the area fronted a large lake .\n",
            "*****************************Result**************************\n",
            " duration of habitation\n",
            "\n",
            "\n",
            "\n",
            "The wine casks had only to be carted to Auxerre , 12 miles away , where they could be shipped down the Yonne and Seine Rivers into the city .\n",
            "*****************************Result**************************\n",
            " distance to Auxerre\n",
            "\n",
            "\n",
            "\n",
            "Thomas Stothard provided several illustrations for an edition of \" The Vicar of Wakefield \" published 30 years after its first publication in 1766 .\n",
            "*****************************Result**************************\n",
            " edition publishing time\n",
            "\n",
            "\n",
            "\n",
            "Rajaji is accessible through different gates ; the Ramgarh Gate and Mohand Gate are within 25 km of Dehradun , while the Motichur , Ranipur and Chilla Gates are just about 9 km from Haridwar .\n",
            "*****************************Result**************************\n",
            " distance to Dehradun\n",
            "\n",
            "\n",
            "\n",
            "Israeli singer Rika Zaraï released a cover version of the song in \" Alors je Chante \" and spent three weeks at number one in the List_of_number - one_singles_of_1969_ ( France ) from 16 August - 5 September 1969 .\n",
            "*****************************Result**************************\n",
            " duration spent at number one\n",
            "\n",
            "\n",
            "\n",
            "In response , the Santa Clara Valley Water District ( SCVWD ) lowered the water level to 74 percent of capacity and announced further analysis of the situation , which could possibly result in retrofitting the dam if necessary .\n",
            "*****************************Result**************************\n",
            " water level\n",
            "\n",
            "\n",
            "\n",
            "According to the 2005 census , the county seat of Salamanca accounted for 61.57 % of the total municipal population ( 143,838 inhabitants ) and Valtierrilla accounted for 5.19 % ( 12,118 inhabitants ) .\n",
            "*****************************Result**************************\n",
            " population\n",
            "\n",
            "\n",
            "\n",
            "Asian Americans with other ancestry comprise 5.4 % of the U.S. population , while people who are Asian alone , and those combined with at least one other race , make up 6.8 % .\n",
            "*****************************Result**************************\n",
            " other ancestry proportion\n",
            "\n",
            "\n",
            "\n",
            "Since 2010 , Manhattan 's population was estimated by the Census Bureau to have increased 2.5 % to 1,626,159 as of 2013 , representing 19.3 % of the city 's population and 8.3 % of the state 's population .\n",
            "*****************************Result**************************\n",
            " population growth\n",
            "\n",
            "\n",
            "\n",
            "Through these efforts , Congress and the Clinton administration cut federal DSH payments by 5 % and limited their further growth ; as such , in 1998 $ 15 billion in Medicaid DSH payments were issued to hospitals .\n",
            "*****************************Result**************************\n",
            " federal DSH payments reduction\n",
            "\n",
            "\n",
            "\n",
            "In his final years , Monkhouse hosted a show on BBC Radio 2 called \" The Monkhouse Archive \" , in which he provided humorous links to clips of comedy acts spanning the previous 50 years .\n",
            "*****************************Result**************************\n",
            " duration\n",
            "\n",
            "\n",
            "\n",
            "The same poll , of 800 Hispanic voters in Florida , had 35 percent of non-Cuban Hispanics supporting Mr. Bush , 59 percent Mr. Kerry and 6 percent undecided or supporting Mr. Nader .\n",
            "*****************************Result**************************\n",
            " non-Cuban Hispanics supporting Bush\n",
            "\n",
            "\n",
            "\n",
            "In 1949 , after the Communists took over her native Czechoslovakia , Ludmila de Fougerolles , who was 6 years old , fled with her family on foot through Bohemia and Bavaria into southern France .\n",
            "*****************************Result**************************\n",
            " age\n",
            "\n",
            "\n",
            "\n",
            "That was largely because of a fast start highlighted by two 3 - pointers by Bird and four quick turnovers by Rutgers , which let UConn take a 12-8 lead 4 minutes 40 seconds into the game .\n",
            "*****************************Result**************************\n",
            " start time\n",
            "\n",
            "\n",
            "\n",
            "GameRankings and Metacritic gave it a score of 71 % and 66 out of 100 for the Xbox 360 version , and 65 % and 60 out of 100 for the PlayStation 3 version .\n",
            "*****************************Result**************************\n",
            " Xbox 360 version rating\n",
            "\n",
            "\n",
            "\n",
            "Publicis intends to acquire 70 percent of BCP , Mr. Goldschlager said , while Yves Gougoux , president and chief executive , will retain a 30 percent stake in what will be renamed Publicis-BCP .\n",
            "*****************************Result**************************\n",
            " BCP stake\n",
            "\n",
            "\n",
            "\n",
            "The regional offices in Europe and North America are 80 percent owned by TBWA and 20 percent owned by Hakuhodo ; the one in Japan is 80 percent owned by Hakuhodo and 20 percent owned by TBWA .\n",
            "*****************************Result**************************\n",
            " ownership percentage\n",
            "\n",
            "\n",
            "\n",
            "American Motors ' automobile sales dropped twenty percent in the first half of 1966 , and the firm reported a fiscal six - month loss of $ 4.2 million on sales of $ 479 million .\n",
            "*****************************Result**************************\n",
            " sales drop\n",
            "\n",
            "\n",
            "\n",
            "Although a few orders continued to trickle in , the \" Musical Million \" [ a leading shape note periodical ] advertised the book for less than a year , and made no mention of it after 1890 .\n",
            "*****************************Result**************************\n",
            " advertising duration\n",
            "\n",
            "\n",
            "\n",
            "The 2005 lineup of eTrust security software from Computer Associates does just that , and its EZArmor suite takes up less room on your hard drive -- just 18 megabytes -- than other antivirus - firewall combinations .\n",
            "*****************************Result**************************\n",
            " disk space requirement\n",
            "\n",
            "\n",
            "\n",
            "The site is situated at 9 kilometers distance from the Yatağan , Muğla - Milas highway , served by an asphalt road bifurcating shortly after the Yatağan Thermal Power Plant when coming from Yatağan .\n",
            "*****************************Result**************************\n",
            " distance to Yatağan\n",
            "\n",
            "\n",
            "\n",
            "And Crown Publishers receives just under 1 percent of all the money earned from the play , movie and records of '' Fiddler on the Roof , '' which is derived from two Sholom Aleichem stories published by Crown .\n",
            "*****************************Result**************************\n",
            " amount received from Fiddler on the Roof\n",
            "\n",
            "\n",
            "\n",
            "( LEAD : Freddie Joe Nunn , 27 , starting defensive end for the Cardinals , was suspended for 30 days by the National Football League yesterday for violating provisions of the league 's substance - abuse policy .\n",
            "*****************************Result**************************\n",
            " suspension duration\n",
            "\n",
            "\n",
            "\n",
            "Due to the blocking presence of successive mountain ranges , the climate of the interior of the province is semi-arid with certain locations receiving less than 250 mm ( 10 \" ) in annual precipitation .\n",
            "*****************************Result**************************\n",
            " annual precipitation\n",
            "\n",
            "\n",
            "\n",
            "Revenues at the Prime Equipment Company , which has 66 outlets catering to contractors and refiners in 10 Sunbelt states , declined 18 percent last year to $ 200 million , said Thomas E. Bennett , its president .\n",
            "*****************************Result**************************\n",
            " revenue decline\n",
            "\n",
            "\n",
            "\n",
            "This also remains the last time a Republican won the San Francisco Bay Area , and the last one where San Francisco gave less than 60 % of the vote to the Democratic candidate .\n",
            "*****************************Result**************************\n",
            " Democratic vote share\n",
            "\n",
            "\n",
            "\n",
            "Meanwhile , Georg Solti 's recording of Richard Wagner 's complete \" Ring Cycle \" is approximately 15 hours in duration and Alexander Scourby 's recitation of the King James Bible is over 80 hours in length .\n",
            "*****************************Result**************************\n",
            " duration\n",
            "\n",
            "\n",
            "\n",
            "Louis R. Cappelli , a Westchester developer , said that he signed a memorandum of understanding yesterday with New Rochelle officials to develop a square block that the city has been trying to develop for more than 30 years .\n",
            "*****************************Result**************************\n",
            " development duration\n",
            "\n",
            "\n",
            "\n",
            "A team at the National Renewable Energy Laboratory achieved 19.9 % , a record at the time , by modifying the CIGS surface and making it look like CIS .\n",
            "*****************************Result**************************\n",
            " CIGS surface efficiency\n",
            "\n",
            "\n",
            "\n",
            "The United States currency fell nearly 2.5 yen on fears that the United States and Japan may jointly sell dollars in the foreign - exchange market to curb its strength .\n",
            "*****************************Result**************************\n",
            " amount dropped\n",
            "\n",
            "\n",
            "\n",
            "Still , shares of British Telecommunications , which have traded near an annual low , surged 7.7 percent , to 740 pence , or $ 10.70 , in London today .\n",
            "*****************************Result**************************\n",
            " shares surge\n",
            "\n",
            "\n",
            "\n",
            "Alicia Lutes of IGN gave part one a 9.2/10 , saying that it \" shines in its deliciously dark plotlines , volumes of camp , and irreverent and at - times antagonistic humor . \"\n",
            "*****************************Result**************************\n",
            " rating\n",
            "\n",
            "\n",
            "\n",
            "They stretch along a 100 km long and 18 km wide strip of land between Low Beskids in the south and heights of plateau in the north .\n",
            "*****************************Result**************************\n",
            " width\n",
            "\n",
            "\n",
            "\n",
            "According to the New Jersey Department of Corrections Web site , Mr. Harley served about 30 months in prison for aggravated assault and unlawful possession of a weapon .\n",
            "*****************************Result**************************\n",
            " prison time\n",
            "\n",
            "\n",
            "\n",
            "To date , \" The Dark Side of the Moon \" has spent 741 weeks on the USA - based Billboard 200 album chart , the longest duration of any album in history .\n",
            "*****************************Result**************************\n",
            " duration spent on Billboard 200\n",
            "\n",
            "\n",
            "\n",
            "The facade of the Louvre incorporates one of his largest groups , the Monumental sculpture \" L ' Equitation \" , which depicts a horse and two \" Putto \" , one of whom is aboard the horse .\n",
            "*****************************Result**************************\n",
            " number of Putto\n",
            "\n",
            "\n",
            "\n",
            "The speeds of M60 SBS buses increased 27 % to 36 % , but only as a result of other improvements such as off - board fare payment and fewer stops .\n",
            "*****************************Result**************************\n",
            " speeds increased\n",
            "\n",
            "\n",
            "\n",
            "German artillery had fired a further 46,750 tons of munitions , with total Axis munitions consumption coming to 67,278 tons over the course of one month .\n",
            "*****************************Result**************************\n",
            " amount of munitions fired\n",
            "\n",
            "\n",
            "\n",
            "Tennessee 33 , Mississippi 21 KNOXVILLE , Tenn . ( AP ) - Chuck Webb rushed for a school - record 294 yards and scored twice to rally Tennessee in the S.E.C. game .\n",
            "*****************************Result**************************\n",
            " rushed distance\n",
            "\n",
            "\n",
            "\n",
            "Harburn asked the club for an extra £1 a week , but was refused , and in July 1958 , he was sold to Everton F.C. for a fee of £6,500 .\n",
            "*****************************Result**************************\n",
            " extra expenses\n",
            "\n",
            "\n",
            "\n",
            "On the 20th of June 2017 , reports emerged that Egypt and Hamas reached an understanding according to which Egypt would supply 500 tons of diesel fuel daily .\n",
            "*****************************Result**************************\n",
            " diesel fuel supply to Hamas\n",
            "\n",
            "\n",
            "\n",
            "While I.B.M. still lost $ 153 million in its PC business last quarter , its sales increased by 50 percent , and the loss narrowed from a year ago .\n",
            "*****************************Result**************************\n",
            " amount narrowed\n",
            "\n",
            "\n",
            "\n",
            "Another tender was requested for four more boats , but when Ganz Works reduced their price by ten percent , a total of sixteen boats were ordered from them .\n",
            "*****************************Result**************************\n",
            " price reduction\n",
            "\n",
            "\n",
            "\n",
            "The Beermen clinch the 1 st outright semis slot but they lost to their sister team the Star Hotshots in 6 games ( 4-2 ) .\n",
            "*****************************Result**************************\n",
            " outright semis slot\n",
            "\n",
            "\n",
            "\n",
            "The slightly higher Mount Kyllini mountain is about 15 km to its east , separated from Aroania by the valley of the river Olvios .\n",
            "*****************************Result**************************\n",
            " distance to Aroania\n",
            "\n",
            "\n",
            "\n",
            "The Greater Jakarta metropolitan area has an area of 6,392 square kilometers , which is known as Jabodetabek ( an acronym of Jakarta , Bogor , Depok , Tangerang and Bekasi ) .\n",
            "*****************************Result**************************\n",
            " area\n",
            "\n",
            "\n",
            "\n",
            "The Zillertal branches from the Inn trench near Jenbach , about 40 km northeast of Innsbruck , running mostly in a north - south direction .\n",
            "*****************************Result**************************\n",
            " distance to Innsbruck\n",
            "\n",
            "\n",
            "\n",
            "# 2 Ericksons Producing Craig Erickson of Miami passed for 357 yards , threw one touchdown pass and ran for another in a 38-7 victory at Missouri .\n",
            "*****************************Result**************************\n",
            " passing yards\n",
            "\n",
            "\n",
            "\n",
            "Produced and mixed by Tommy Henriksen and James Bourne , Bourne describes the album as \" 100 % electronic - and not a rock album \" .\n",
            "*****************************Result**************************\n",
            " unknown\n",
            "\n",
            "\n",
            "\n",
            "Barney Rock scored an 11th - minute goal , while four players ( 3 Dublin , 1 Galway ) were sent off , earning the Dublin team the epithet \" The Dirty Dozen \" .\n",
            "*****************************Result**************************\n",
            " goal duration\n",
            "\n",
            "\n",
            "\n",
            "So far this year , Comcast 's stock has risen 17.5 percent .\n",
            "*****************************Result**************************\n",
            " stock increase\n",
            "\n",
            "\n",
            "\n",
            "Arlescote is fairly remote , with the nearest village being 2 miles away .\n",
            "*****************************Result**************************\n",
            " distance to Arlescote\n",
            "\n",
            "\n",
            "\n",
            "Grupo Mexico , Mexico 's largest diversified mining company , owned a 9.7 percent stake in Asarco , the largest single holding .\n",
            "*****************************Result**************************\n",
            " Asarco stake\n",
            "\n",
            "\n",
            "\n",
            "A study in Canada found that the high school dropout rate for all ESL students was 74 % .\n",
            "*****************************Result**************************\n",
            " high school dropout rate\n",
            "\n",
            "\n",
            "\n",
            "Pocklington had wanted a WHL franchise in Edmonton for himself , but was never granted one .\n",
            "*****************************Result**************************\n",
            " wanted franchise\n",
            "\n",
            "\n",
            "\n",
            "While in Detroit , his offensive line helped Barry Sanders to rush for over 2,000 yards .\n",
            "*****************************Result**************************\n",
            " rushing yards\n",
            "\n",
            "\n",
            "\n",
            "Sta . Maria Val Müstair has an unemployment rate of 1.45 % .\n",
            "*****************************Result**************************\n",
            " unemployment rate\n",
            "\n",
            "\n",
            "\n",
            "Across these multiple Facebook channels MoviePilot has a monthly social reach of over 300 M shares .\n",
            "*****************************Result**************************\n",
            " social reach\n",
            "\n",
            "\n",
            "\n",
            "Alwadi is about 39 km from National Highway 3 ( India ) and 23 km from state highway 211 .\n",
            "*****************************Result**************************\n",
            " distance to state highway 211\n",
            "\n",
            "\n",
            "\n",
            "Despite the stop in Teneriffe , the voyage took only 116 days .\n",
            "*****************************Result**************************\n",
            " duration\n",
            "\n",
            "\n",
            "\n",
            "The Jewish National Fund provided 700 dunams of land for the kibbutz .\n",
            "*****************************Result**************************\n",
            " provided land area\n",
            "\n",
            "\n",
            "\n",
            "Before the finals , Sprewell was averaging 33.6 minutes per game in the playoffs and Houston 36.8 .\n",
            "*****************************Result**************************\n",
            " average duration played\n",
            "\n",
            "\n",
            "\n",
            "At the time , Montana was located at about 40 degrees Latitude .\n",
            "*****************************Result**************************\n",
            " latitude\n",
            "\n",
            "\n",
            "\n",
            "Kavital is 60 km west to the district headquarters Raichur and 35 km north to the taluka headquarters Manvi .\n",
            "*****************************Result**************************\n",
            " distance to Raichur\n",
            "\n",
            "\n",
            "\n",
            "Compiled and abstracted in a searchable format , \" EconLit \" indexes 125 years of economic literature from around the world .\n",
            "*****************************Result**************************\n",
            " indexed years\n",
            "\n",
            "\n",
            "\n",
            "In September , Ms. Furlow was sentenced to 46 months in prison for collecting $ 215,000 from 20 couples .\n",
            "*****************************Result**************************\n",
            " prison time\n",
            "\n",
            "\n",
            "\n",
            "Star Gladiator has an aggregate score of 82.40 % for the Playstation version on Gamerankings.com based on 5 reviews .\n",
            "*****************************Result**************************\n",
            " aggregate rating\n",
            "\n",
            "\n",
            "\n",
            "Ford Valencia garnered a score of 83 % and performed John Legend 's hit \" All of Me ( John Legend song ) \" .\n",
            "*****************************Result**************************\n",
            " score\n",
            "\n",
            "\n",
            "\n",
            "The age of Plato is about 3.84 billion years , only slightly younger than the Mare Imbrium to the south .\n",
            "*****************************Result**************************\n",
            " age\n",
            "\n",
            "\n",
            "\n",
            "After a spell living in Trinidad , the family returned to England when Chapman was about five years old .\n",
            "*****************************Result**************************\n",
            " age\n",
            "\n",
            "\n",
            "\n",
            "The Šar Mountains have a total area of 1600 km .\n",
            "*****************************Result**************************\n",
            " total area\n",
            "\n",
            "\n",
            "\n",
            "But Kudrin struck an annihilating blow with 32 Rh6 !\n",
            "*****************************Result**************************\n",
            " unknown\n",
            "\n",
            "\n",
            "\n",
            "Hospental has an unemployment rate of 0.33 % .\n",
            "*****************************Result**************************\n",
            " unemployment rate\n",
            "\n",
            "\n",
            "\n",
            "Seuzach has an unemployment rate of 1.43 % .\n",
            "*****************************Result**************************\n",
            " unemployment rate\n",
            "\n",
            "\n",
            "\n",
            "Kumhari 's distance from Raipur is about 6.8 nm .\n",
            "*****************************Result**************************\n",
            " distance to Raipur\n",
            "\n",
            "\n",
            "\n",
            "So Telespazio VEGA has around 40 years experience in spaceflight .\n",
            "*****************************Result**************************\n",
            " spaceflight experience\n",
            "\n",
            "\n",
            "\n",
            "The London demonstration lasted for well over four hours .\n",
            "*****************************Result**************************\n",
            " duration\n",
            "\n",
            "\n",
            "\n",
            "Pristina International Airport is some 70 kilometres east of Gjakova .\n",
            "*****************************Result**************************\n",
            " distance to Gjakova\n",
            "\n",
            "\n",
            "\n",
            "The Bundesbank 's discount rate is 8.25 percent .\n",
            "*****************************Result**************************\n",
            " discount rate\n",
            "\n",
            "\n",
            "\n",
            "The Uzbekistan border is about 10 km away .\n",
            "*****************************Result**************************\n",
            " distance to border\n",
            "\n",
            "\n",
            "\n",
            "LaFollette is 33 miles north of Knoxville .\n",
            "*****************************Result**************************\n",
            " distance to Knoxville\n",
            "\n",
            "\n",
            "\n",
            "The hull ( watercraft ) is light and weighs 225 kg .\n",
            "*****************************Result**************************\n",
            " weight\n",
            "\n",
            "\n",
            "\n",
            "Beloved husband of Selma , married 57 years .\n",
            "*****************************Result**************************\n",
            " married to\n",
            "\n",
            "\n",
            "\n",
            "Bhalki is 40 km from District headquarters Bidar .\n",
            "*****************************Result**************************\n",
            " distance to Bidar\n",
            "\n",
            "\n",
            "\n",
            "Nb4 , Gulko sacrificed the exchange with 23 Rc7 !?\n",
            "*****************************Result**************************\n",
            " unknown\n",
            "\n",
            "\n",
            "\n",
            "At the time Ibn Taymiyyah was 42 years old .\n",
            "*****************************Result**************************\n",
            " age\n",
            "\n",
            "\n",
            "\n"
          ]
        }
      ]
    },
    {
      "cell_type": "code",
      "source": [
        "output = []  # Initialize an empty list to store the output dictionaries\n",
        "\n",
        "for i, v in out.items():\n",
        "    d = {}  # Create an empty dictionary\n",
        "\n",
        "    d['sentence'] = i  # Assign the current sentence to the 'sentence' key in the dictionary\n",
        "\n",
        "    d['attribute'] = v.strip()  # Assign the attribute value to the 'attribute' key in the dictionary\n",
        "\n",
        "    output.append(d)  # Append the dictionary to the 'output' list\n"
      ],
      "metadata": {
        "id": "Wl4oFqsYgunm"
      },
      "execution_count": null,
      "outputs": []
    },
    {
      "cell_type": "code",
      "source": [
        "output[-1]"
      ],
      "metadata": {
        "colab": {
          "base_uri": "https://localhost:8080/"
        },
        "id": "BplqgMNtmRUX",
        "outputId": "90fe6b09-e5ab-484f-b19c-adb4bfdd87a2"
      },
      "execution_count": null,
      "outputs": [
        {
          "output_type": "execute_result",
          "data": {
            "text/plain": [
              "{'sentence': 'At the time Ibn Taymiyyah was 42 years old .',\n",
              " 'attribute': 'age'}"
            ]
          },
          "metadata": {},
          "execution_count": 9
        }
      ]
    },
    {
      "cell_type": "code",
      "source": [
        "with open('/content/drive/MyDrive/MTP Project/gpt_data/gpt_out_attr_200.json','w') as f:\n",
        "  json.dump(output,f)"
      ],
      "metadata": {
        "id": "F9-75ux3hvfL"
      },
      "execution_count": null,
      "outputs": []
    },
    {
      "cell_type": "markdown",
      "source": [
        "#input-sen,quan,entity output-attr - 300 samples"
      ],
      "metadata": {
        "id": "VA-5kMhJh0gW"
      }
    },
    {
      "cell_type": "code",
      "source": [
        "#load the annotated dataset\n",
        "import json\n",
        "with open('/content/drive/MyDrive/MTP Project/t5_data/annotated_300.json', 'r') as f:\n",
        "    samples = json.load(f)\n",
        "sent={}\n",
        "for i in samples:\n",
        "  sent[i['sentence']]=[i['entity'],i['quantity'],i['measuring attribute']]\n",
        "len(sent)"
      ],
      "metadata": {
        "colab": {
          "base_uri": "https://localhost:8080/"
        },
        "id": "z6TZwFMr6ooQ",
        "outputId": "50578f2d-0aa8-4cde-fcaf-38fb50b4c2e9"
      },
      "execution_count": 50,
      "outputs": [
        {
          "output_type": "execute_result",
          "data": {
            "text/plain": [
              "300"
            ]
          },
          "metadata": {},
          "execution_count": 50
        }
      ]
    },
    {
      "cell_type": "code",
      "source": [
        "output=[]\n",
        "for i,v in sent.items():\n",
        "  p=f\"Given the sentence '''{i}''' and the quantity '''{v[1]}''', along with the entity  '''{v[0]}''', extract the related attribute.\"\n",
        "\n",
        "  line = {'prompt': p, 'completion': v[2] }\n",
        "\n",
        "  output.append(line)\n"
      ],
      "metadata": {
        "id": "JtTP452Ck3ay"
      },
      "execution_count": 51,
      "outputs": []
    },
    {
      "cell_type": "code",
      "source": [
        "output[0]"
      ],
      "metadata": {
        "colab": {
          "base_uri": "https://localhost:8080/"
        },
        "id": "6aIbsqZok_uZ",
        "outputId": "2b4a0c66-1995-4daa-9839-7aad38f07156"
      },
      "execution_count": 52,
      "outputs": [
        {
          "output_type": "execute_result",
          "data": {
            "text/plain": [
              "{'prompt': \"Given the sentence '''As of 2016 , Solar cell efficiency exceeds 10 % .''' and the quantity '''10 %''', along with the entity  '''Solar cell''', extract the related attribute.\",\n",
              " 'completion': 'efficiency'}"
            ]
          },
          "metadata": {},
          "execution_count": 52
        }
      ]
    },
    {
      "cell_type": "code",
      "source": [
        "len(output)"
      ],
      "metadata": {
        "colab": {
          "base_uri": "https://localhost:8080/"
        },
        "id": "FDEFg-Ilmk51",
        "outputId": "e350c0cc-0c0e-4c1e-b3d0-d8b954e67695"
      },
      "execution_count": null,
      "outputs": [
        {
          "output_type": "execute_result",
          "data": {
            "text/plain": [
              "100"
            ]
          },
          "metadata": {},
          "execution_count": 144
        }
      ]
    },
    {
      "cell_type": "code",
      "source": [
        "import json\n",
        "with open('/content/drive/MyDrive/MTP Project/gpt_data/out_300_attr.jsonl', 'w') as outfile:\n",
        "  for i in output:\n",
        "        json.dump(i, outfile)\n",
        "        outfile.write('\\n')\n"
      ],
      "metadata": {
        "id": "JYq3H-WHlFNP"
      },
      "execution_count": null,
      "outputs": []
    },
    {
      "cell_type": "code",
      "source": [
        "!openai tools fine_tunes.prepare_data -f '/content/drive/MyDrive/MTP Project/gpt_data/out_300_attr.jsonl'"
      ],
      "metadata": {
        "colab": {
          "base_uri": "https://localhost:8080/"
        },
        "id": "HBYPzQRllFQi",
        "outputId": "08bee002-11ec-4d86-8c75-e0cd3017784c"
      },
      "execution_count": null,
      "outputs": [
        {
          "output_type": "stream",
          "name": "stdout",
          "text": [
            "Analyzing...\n",
            "\n",
            "- Your file contains 100 prompt-completion pairs\n",
            "- All prompts end with suffix `''', extract the related attribute.`. This suffix seems very long. Consider replacing with a shorter suffix, such as ` ->`\n",
            "- All prompts start with prefix `Given the sentence '''`. Fine-tuning doesn't require the instruction specifying the task, or a few-shot example scenario. Most of the time you should only add the input data into the prompt, and the desired output into the completion\n",
            "- Your data does not contain a common ending at the end of your completions. Having a common ending string appended to the end of the completion makes it clearer to the fine-tuned model where the completion should end. See https://platform.openai.com/docs/guides/fine-tuning/preparing-your-dataset for more detail and examples.\n",
            "- The completion should start with a whitespace character (` `). This tends to produce better results due to the tokenization we use. See https://platform.openai.com/docs/guides/fine-tuning/preparing-your-dataset for more details\n",
            "\n",
            "Based on the analysis we will perform the following actions:\n",
            "- [Recommended] Remove prefix `Given the sentence '''` from all prompts [Y/n]: n\n",
            "- [Recommended] Add a suffix ending `\\n` to all completions [Y/n]: y\n",
            "- [Recommended] Add a whitespace character to the beginning of the completion [Y/n]: y\n",
            "\n",
            "\n",
            "Your data will be written to a new JSONL file. Proceed [Y/n]: y\n",
            "\n",
            "Wrote modified file to `/content/drive/MyDrive/MTP Project/gpt_data/out_300_attr_prepared.jsonl`\n",
            "Feel free to take a look!\n",
            "\n",
            "Now use that file when fine-tuning:\n",
            "> openai api fine_tunes.create -t \"/content/drive/MyDrive/MTP Project/gpt_data/out_300_attr_prepared.jsonl\"\n",
            "\n",
            "After you’ve fine-tuned a model, remember that your prompt has to end with the indicator string `''', extract the related attribute.` for the model to start generating completions, rather than continuing with the prompt. Make sure to include `stop=[\"\\n\"]` so that the generated texts ends at the expected place.\n",
            "Once your model starts training, it'll approximately take 3.82 minutes to train a `curie` model, and less for `ada` and `babbage`. Queue will approximately take half an hour per job ahead of you.\n"
          ]
        }
      ]
    },
    {
      "cell_type": "code",
      "source": [
        "!openai api fine_tunes.create -t \"/content/drive/MyDrive/MTP Project/gpt_data/out_300_attr_prepared.jsonl\" -m davinci"
      ],
      "metadata": {
        "colab": {
          "base_uri": "https://localhost:8080/"
        },
        "id": "Vx9W9j40lPxa",
        "outputId": "18809681-73f1-4136-9963-448105902e5d"
      },
      "execution_count": null,
      "outputs": [
        {
          "output_type": "stream",
          "name": "stdout",
          "text": [
            "\rUpload progress:   0% 0.00/30.0k [00:00<?, ?it/s]\rUpload progress: 100% 30.0k/30.0k [00:00<00:00, 25.1Mit/s]\n",
            "Uploaded file from /content/drive/MyDrive/MTP Project/gpt_data/out_300_attr_prepared.jsonl: file-1QwpJB1lis2SUekm6RqMGxvN\n",
            "Created fine-tune: ft-nSQOu6lV2aQYXHxcdX3DzPNv\n",
            "Streaming events until fine-tuning is complete...\n",
            "\n",
            "(Ctrl-C will interrupt the stream, but not cancel the fine-tune)\n",
            "[2023-04-24 16:05:18] Created fine-tune: ft-nSQOu6lV2aQYXHxcdX3DzPNv\n",
            "[2023-04-24 16:05:37] Fine-tune costs $0.79\n",
            "[2023-04-24 16:05:37] Fine-tune enqueued. Queue number: 3\n",
            "\n"
          ]
        }
      ]
    },
    {
      "cell_type": "code",
      "source": [
        "!openai api fine_tunes.follow -i ft-nSQOu6lV2aQYXHxcdX3DzPNv"
      ],
      "metadata": {
        "colab": {
          "base_uri": "https://localhost:8080/"
        },
        "id": "-JqQaol6lcj2",
        "outputId": "293d260f-ff79-4a4f-efce-c7a2289a8976"
      },
      "execution_count": null,
      "outputs": [
        {
          "output_type": "stream",
          "name": "stdout",
          "text": [
            "[2023-04-24 16:05:18] Created fine-tune: ft-nSQOu6lV2aQYXHxcdX3DzPNv\n",
            "[2023-04-24 16:05:37] Fine-tune costs $0.79\n",
            "[2023-04-24 16:05:37] Fine-tune enqueued. Queue number: 3\n",
            "[2023-04-24 16:07:06] Fine-tune is in the queue. Queue number: 2\n",
            "[2023-04-24 16:09:49] Fine-tune is in the queue. Queue number: 1\n",
            "[2023-04-24 16:10:07] Fine-tune is in the queue. Queue number: 0\n",
            "[2023-04-24 16:11:54] Fine-tune started\n",
            "[2023-04-24 16:15:02] Completed epoch 1/4\n",
            "[2023-04-24 16:15:33] Completed epoch 2/4\n",
            "[2023-04-24 16:16:03] Completed epoch 3/4\n",
            "[2023-04-24 16:16:34] Completed epoch 4/4\n",
            "[2023-04-24 16:17:11] Uploaded model: davinci:ft-personal-2023-04-24-16-17-11\n",
            "[2023-04-24 16:17:12] Uploaded result file: file-NcfM3mAi2lTEyvCrtEelt972\n",
            "[2023-04-24 16:17:13] Fine-tune succeeded\n",
            "\n",
            "Job complete! Status: succeeded 🎉\n",
            "Try out your fine-tuned model:\n",
            "\n",
            "openai api completions.create -m davinci:ft-personal-2023-04-24-16-17-11 -p <YOUR_PROMPT>\n"
          ]
        }
      ]
    },
    {
      "cell_type": "code",
      "source": [
        "# Set the model_engine variable to the specified engine for fine-tuned model\n",
        "model_engine='davinci:ft-personal-2023-04-24-16-17-11'\n",
        "\n",
        "# Initialize variables\n",
        "out = {}\n",
        "m = 0\n",
        "import time\n",
        "\n",
        "# Iterate over the test list\n",
        "for se in test:\n",
        "    # Create a prompt string using the values from the current element in the test list\n",
        "    p = f\"Given the sentence '''{se['sentence']}''' and the quantity '''{se['quantity']}''', along with the entity  '''{se['entity']}''', extract the related attribute.\"\n",
        "\n",
        "    # Generate completions using the fine-tuned model\n",
        "    completions = openai.Completion.create(\n",
        "        engine=model_engine,\n",
        "        prompt=p,\n",
        "        temperature=0.7,\n",
        "        max_tokens=30,\n",
        "        top_p=1,\n",
        "        frequency_penalty=1,\n",
        "        presence_penalty=1,\n",
        "        n=1\n",
        "    )\n",
        "\n",
        "    # Get the first completion from the generated completions\n",
        "    message = completions.choices[0].text\n",
        "\n",
        "    # Print the original sentence and the generated completion\n",
        "    print(se['sentence'])\n",
        "    print(\"*****************************Result**************************\")\n",
        "    print(message.split('\\n')[0])\n",
        "    print('\\n\\n')\n",
        "\n",
        "    # Store the generated completion in the out dictionary using the original sentence as the key\n",
        "    out[se['sentence']] = message.split('\\n')[0]\n",
        "\n",
        "    m = m + 1\n",
        "    # Delay execution every 20 iterations to avoid rate limits\n",
        "    if m % 20 == 0:\n",
        "        time.sleep(65)\n",
        "\n"
      ],
      "metadata": {
        "id": "EDYnoZ5elcq_"
      },
      "execution_count": null,
      "outputs": []
    },
    {
      "cell_type": "code",
      "source": [
        "output = []  # Initialize an empty list to store the output dictionaries\n",
        "\n",
        "for i, v in out.items():\n",
        "    d = {}  # Create an empty dictionary\n",
        "\n",
        "    d['sentence'] = i  # Assign the current sentence to the 'sentence' key in the dictionary\n",
        "\n",
        "    d['attribute'] = v.strip()  # Assign the attribute value to the 'attribute' key in the dictionary\n",
        "\n",
        "    output.append(d)  # Append the dictionary to the 'output' list\n"
      ],
      "metadata": {
        "id": "Fu80EwJIlcxd"
      },
      "execution_count": null,
      "outputs": []
    },
    {
      "cell_type": "code",
      "source": [
        "with open('/content/drive/MyDrive/MTP Project/gpt_data/gpt_out_attr_300.json','w') as f:\n",
        "  json.dump(output,f)"
      ],
      "metadata": {
        "id": "Z_XqkcIilc1m"
      },
      "execution_count": null,
      "outputs": []
    },
    {
      "cell_type": "code",
      "source": [
        "output[-10]"
      ],
      "metadata": {
        "colab": {
          "base_uri": "https://localhost:8080/"
        },
        "id": "jMftZooJlc3g",
        "outputId": "6bbd39e8-fd54-414f-9347-f1c53c260799"
      },
      "execution_count": null,
      "outputs": [
        {
          "output_type": "execute_result",
          "data": {
            "text/plain": [
              "{'sentence': 'The London demonstration lasted for well over four hours .',\n",
              " 'attribute': ' duration'}"
            ]
          },
          "metadata": {},
          "execution_count": 30
        }
      ]
    }
  ]
}