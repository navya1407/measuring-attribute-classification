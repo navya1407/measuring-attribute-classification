{
  "nbformat": 4,
  "nbformat_minor": 0,
  "metadata": {
    "colab": {
      "provenance": [],
      "gpuClass": "premium"
    },
    "kernelspec": {
      "name": "python3",
      "display_name": "Python 3"
    },
    "language_info": {
      "name": "python"
    },
    "gpuClass": "premium",
    "widgets": {
      "application/vnd.jupyter.widget-state+json": {
        "ebcdb94287264cd4bf51ec45fa948583": {
          "model_module": "@jupyter-widgets/controls",
          "model_name": "HBoxModel",
          "model_module_version": "1.5.0",
          "state": {
            "_dom_classes": [],
            "_model_module": "@jupyter-widgets/controls",
            "_model_module_version": "1.5.0",
            "_model_name": "HBoxModel",
            "_view_count": null,
            "_view_module": "@jupyter-widgets/controls",
            "_view_module_version": "1.5.0",
            "_view_name": "HBoxView",
            "box_style": "",
            "children": [
              "IPY_MODEL_b1e309fce3614c34bc1cd50a6f52d320",
              "IPY_MODEL_9625d02098b2432ea387b71eacda3065",
              "IPY_MODEL_4bf04e906aa743ba8b073d4a44d68b61"
            ],
            "layout": "IPY_MODEL_5618da763b3e4d618cdebf1ee9ca2252"
          }
        },
        "b1e309fce3614c34bc1cd50a6f52d320": {
          "model_module": "@jupyter-widgets/controls",
          "model_name": "HTMLModel",
          "model_module_version": "1.5.0",
          "state": {
            "_dom_classes": [],
            "_model_module": "@jupyter-widgets/controls",
            "_model_module_version": "1.5.0",
            "_model_name": "HTMLModel",
            "_view_count": null,
            "_view_module": "@jupyter-widgets/controls",
            "_view_module_version": "1.5.0",
            "_view_name": "HTMLView",
            "description": "",
            "description_tooltip": null,
            "layout": "IPY_MODEL_2edc006ed6e14a6abd5ae1258cc5b7ba",
            "placeholder": "​",
            "style": "IPY_MODEL_535f175d42c44fddab26beba8f7bf4fe",
            "value": "Downloading (…)lve/main/config.json: 100%"
          }
        },
        "9625d02098b2432ea387b71eacda3065": {
          "model_module": "@jupyter-widgets/controls",
          "model_name": "FloatProgressModel",
          "model_module_version": "1.5.0",
          "state": {
            "_dom_classes": [],
            "_model_module": "@jupyter-widgets/controls",
            "_model_module_version": "1.5.0",
            "_model_name": "FloatProgressModel",
            "_view_count": null,
            "_view_module": "@jupyter-widgets/controls",
            "_view_module_version": "1.5.0",
            "_view_name": "ProgressView",
            "bar_style": "success",
            "description": "",
            "description_tooltip": null,
            "layout": "IPY_MODEL_0ad7715159b84cdcbd18310ecee7a487",
            "max": 1208,
            "min": 0,
            "orientation": "horizontal",
            "style": "IPY_MODEL_174aa968ef7c4b80ab1aa2a4ee6edbf1",
            "value": 1208
          }
        },
        "4bf04e906aa743ba8b073d4a44d68b61": {
          "model_module": "@jupyter-widgets/controls",
          "model_name": "HTMLModel",
          "model_module_version": "1.5.0",
          "state": {
            "_dom_classes": [],
            "_model_module": "@jupyter-widgets/controls",
            "_model_module_version": "1.5.0",
            "_model_name": "HTMLModel",
            "_view_count": null,
            "_view_module": "@jupyter-widgets/controls",
            "_view_module_version": "1.5.0",
            "_view_name": "HTMLView",
            "description": "",
            "description_tooltip": null,
            "layout": "IPY_MODEL_cbcfcfef74af404c968c078782d1d5ee",
            "placeholder": "​",
            "style": "IPY_MODEL_758a62d6badd4e12ad27557419ff7a72",
            "value": " 1.21k/1.21k [00:00&lt;00:00, 48.5kB/s]"
          }
        },
        "5618da763b3e4d618cdebf1ee9ca2252": {
          "model_module": "@jupyter-widgets/base",
          "model_name": "LayoutModel",
          "model_module_version": "1.2.0",
          "state": {
            "_model_module": "@jupyter-widgets/base",
            "_model_module_version": "1.2.0",
            "_model_name": "LayoutModel",
            "_view_count": null,
            "_view_module": "@jupyter-widgets/base",
            "_view_module_version": "1.2.0",
            "_view_name": "LayoutView",
            "align_content": null,
            "align_items": null,
            "align_self": null,
            "border": null,
            "bottom": null,
            "display": null,
            "flex": null,
            "flex_flow": null,
            "grid_area": null,
            "grid_auto_columns": null,
            "grid_auto_flow": null,
            "grid_auto_rows": null,
            "grid_column": null,
            "grid_gap": null,
            "grid_row": null,
            "grid_template_areas": null,
            "grid_template_columns": null,
            "grid_template_rows": null,
            "height": null,
            "justify_content": null,
            "justify_items": null,
            "left": null,
            "margin": null,
            "max_height": null,
            "max_width": null,
            "min_height": null,
            "min_width": null,
            "object_fit": null,
            "object_position": null,
            "order": null,
            "overflow": null,
            "overflow_x": null,
            "overflow_y": null,
            "padding": null,
            "right": null,
            "top": null,
            "visibility": null,
            "width": null
          }
        },
        "2edc006ed6e14a6abd5ae1258cc5b7ba": {
          "model_module": "@jupyter-widgets/base",
          "model_name": "LayoutModel",
          "model_module_version": "1.2.0",
          "state": {
            "_model_module": "@jupyter-widgets/base",
            "_model_module_version": "1.2.0",
            "_model_name": "LayoutModel",
            "_view_count": null,
            "_view_module": "@jupyter-widgets/base",
            "_view_module_version": "1.2.0",
            "_view_name": "LayoutView",
            "align_content": null,
            "align_items": null,
            "align_self": null,
            "border": null,
            "bottom": null,
            "display": null,
            "flex": null,
            "flex_flow": null,
            "grid_area": null,
            "grid_auto_columns": null,
            "grid_auto_flow": null,
            "grid_auto_rows": null,
            "grid_column": null,
            "grid_gap": null,
            "grid_row": null,
            "grid_template_areas": null,
            "grid_template_columns": null,
            "grid_template_rows": null,
            "height": null,
            "justify_content": null,
            "justify_items": null,
            "left": null,
            "margin": null,
            "max_height": null,
            "max_width": null,
            "min_height": null,
            "min_width": null,
            "object_fit": null,
            "object_position": null,
            "order": null,
            "overflow": null,
            "overflow_x": null,
            "overflow_y": null,
            "padding": null,
            "right": null,
            "top": null,
            "visibility": null,
            "width": null
          }
        },
        "535f175d42c44fddab26beba8f7bf4fe": {
          "model_module": "@jupyter-widgets/controls",
          "model_name": "DescriptionStyleModel",
          "model_module_version": "1.5.0",
          "state": {
            "_model_module": "@jupyter-widgets/controls",
            "_model_module_version": "1.5.0",
            "_model_name": "DescriptionStyleModel",
            "_view_count": null,
            "_view_module": "@jupyter-widgets/base",
            "_view_module_version": "1.2.0",
            "_view_name": "StyleView",
            "description_width": ""
          }
        },
        "0ad7715159b84cdcbd18310ecee7a487": {
          "model_module": "@jupyter-widgets/base",
          "model_name": "LayoutModel",
          "model_module_version": "1.2.0",
          "state": {
            "_model_module": "@jupyter-widgets/base",
            "_model_module_version": "1.2.0",
            "_model_name": "LayoutModel",
            "_view_count": null,
            "_view_module": "@jupyter-widgets/base",
            "_view_module_version": "1.2.0",
            "_view_name": "LayoutView",
            "align_content": null,
            "align_items": null,
            "align_self": null,
            "border": null,
            "bottom": null,
            "display": null,
            "flex": null,
            "flex_flow": null,
            "grid_area": null,
            "grid_auto_columns": null,
            "grid_auto_flow": null,
            "grid_auto_rows": null,
            "grid_column": null,
            "grid_gap": null,
            "grid_row": null,
            "grid_template_areas": null,
            "grid_template_columns": null,
            "grid_template_rows": null,
            "height": null,
            "justify_content": null,
            "justify_items": null,
            "left": null,
            "margin": null,
            "max_height": null,
            "max_width": null,
            "min_height": null,
            "min_width": null,
            "object_fit": null,
            "object_position": null,
            "order": null,
            "overflow": null,
            "overflow_x": null,
            "overflow_y": null,
            "padding": null,
            "right": null,
            "top": null,
            "visibility": null,
            "width": null
          }
        },
        "174aa968ef7c4b80ab1aa2a4ee6edbf1": {
          "model_module": "@jupyter-widgets/controls",
          "model_name": "ProgressStyleModel",
          "model_module_version": "1.5.0",
          "state": {
            "_model_module": "@jupyter-widgets/controls",
            "_model_module_version": "1.5.0",
            "_model_name": "ProgressStyleModel",
            "_view_count": null,
            "_view_module": "@jupyter-widgets/base",
            "_view_module_version": "1.2.0",
            "_view_name": "StyleView",
            "bar_color": null,
            "description_width": ""
          }
        },
        "cbcfcfef74af404c968c078782d1d5ee": {
          "model_module": "@jupyter-widgets/base",
          "model_name": "LayoutModel",
          "model_module_version": "1.2.0",
          "state": {
            "_model_module": "@jupyter-widgets/base",
            "_model_module_version": "1.2.0",
            "_model_name": "LayoutModel",
            "_view_count": null,
            "_view_module": "@jupyter-widgets/base",
            "_view_module_version": "1.2.0",
            "_view_name": "LayoutView",
            "align_content": null,
            "align_items": null,
            "align_self": null,
            "border": null,
            "bottom": null,
            "display": null,
            "flex": null,
            "flex_flow": null,
            "grid_area": null,
            "grid_auto_columns": null,
            "grid_auto_flow": null,
            "grid_auto_rows": null,
            "grid_column": null,
            "grid_gap": null,
            "grid_row": null,
            "grid_template_areas": null,
            "grid_template_columns": null,
            "grid_template_rows": null,
            "height": null,
            "justify_content": null,
            "justify_items": null,
            "left": null,
            "margin": null,
            "max_height": null,
            "max_width": null,
            "min_height": null,
            "min_width": null,
            "object_fit": null,
            "object_position": null,
            "order": null,
            "overflow": null,
            "overflow_x": null,
            "overflow_y": null,
            "padding": null,
            "right": null,
            "top": null,
            "visibility": null,
            "width": null
          }
        },
        "758a62d6badd4e12ad27557419ff7a72": {
          "model_module": "@jupyter-widgets/controls",
          "model_name": "DescriptionStyleModel",
          "model_module_version": "1.5.0",
          "state": {
            "_model_module": "@jupyter-widgets/controls",
            "_model_module_version": "1.5.0",
            "_model_name": "DescriptionStyleModel",
            "_view_count": null,
            "_view_module": "@jupyter-widgets/base",
            "_view_module_version": "1.2.0",
            "_view_name": "StyleView",
            "description_width": ""
          }
        },
        "20690b9e74e04a29a226c69b2e4c438d": {
          "model_module": "@jupyter-widgets/controls",
          "model_name": "HBoxModel",
          "model_module_version": "1.5.0",
          "state": {
            "_dom_classes": [],
            "_model_module": "@jupyter-widgets/controls",
            "_model_module_version": "1.5.0",
            "_model_name": "HBoxModel",
            "_view_count": null,
            "_view_module": "@jupyter-widgets/controls",
            "_view_module_version": "1.5.0",
            "_view_name": "HBoxView",
            "box_style": "",
            "children": [
              "IPY_MODEL_4904ce06082642e0bb5bf6afadff54f2",
              "IPY_MODEL_5e16789c3089456fb578b85f03e4b299",
              "IPY_MODEL_a38f15b289db4aebb8141b04262b076a"
            ],
            "layout": "IPY_MODEL_f2ce8fb039604707b62f3dd3753dd18a"
          }
        },
        "4904ce06082642e0bb5bf6afadff54f2": {
          "model_module": "@jupyter-widgets/controls",
          "model_name": "HTMLModel",
          "model_module_version": "1.5.0",
          "state": {
            "_dom_classes": [],
            "_model_module": "@jupyter-widgets/controls",
            "_model_module_version": "1.5.0",
            "_model_name": "HTMLModel",
            "_view_count": null,
            "_view_module": "@jupyter-widgets/controls",
            "_view_module_version": "1.5.0",
            "_view_name": "HTMLView",
            "description": "",
            "description_tooltip": null,
            "layout": "IPY_MODEL_15d54ccb6eb240f39cafa0db50d1cc2b",
            "placeholder": "​",
            "style": "IPY_MODEL_c0c93c0d9c92455497c6e94486e1375d",
            "value": "Downloading (…)ve/main/spiece.model: 100%"
          }
        },
        "5e16789c3089456fb578b85f03e4b299": {
          "model_module": "@jupyter-widgets/controls",
          "model_name": "FloatProgressModel",
          "model_module_version": "1.5.0",
          "state": {
            "_dom_classes": [],
            "_model_module": "@jupyter-widgets/controls",
            "_model_module_version": "1.5.0",
            "_model_name": "FloatProgressModel",
            "_view_count": null,
            "_view_module": "@jupyter-widgets/controls",
            "_view_module_version": "1.5.0",
            "_view_name": "ProgressView",
            "bar_style": "success",
            "description": "",
            "description_tooltip": null,
            "layout": "IPY_MODEL_20c07d9f5c3c4e5d8766e1a31ac1239f",
            "max": 791656,
            "min": 0,
            "orientation": "horizontal",
            "style": "IPY_MODEL_2b8aa44040eb47e1b3cb8d61c31bef3c",
            "value": 791656
          }
        },
        "a38f15b289db4aebb8141b04262b076a": {
          "model_module": "@jupyter-widgets/controls",
          "model_name": "HTMLModel",
          "model_module_version": "1.5.0",
          "state": {
            "_dom_classes": [],
            "_model_module": "@jupyter-widgets/controls",
            "_model_module_version": "1.5.0",
            "_model_name": "HTMLModel",
            "_view_count": null,
            "_view_module": "@jupyter-widgets/controls",
            "_view_module_version": "1.5.0",
            "_view_name": "HTMLView",
            "description": "",
            "description_tooltip": null,
            "layout": "IPY_MODEL_e456366fef144a64a99023a33759da9f",
            "placeholder": "​",
            "style": "IPY_MODEL_82a68cb481d6490483fe1b9bba294d6f",
            "value": " 792k/792k [00:00&lt;00:00, 6.14MB/s]"
          }
        },
        "f2ce8fb039604707b62f3dd3753dd18a": {
          "model_module": "@jupyter-widgets/base",
          "model_name": "LayoutModel",
          "model_module_version": "1.2.0",
          "state": {
            "_model_module": "@jupyter-widgets/base",
            "_model_module_version": "1.2.0",
            "_model_name": "LayoutModel",
            "_view_count": null,
            "_view_module": "@jupyter-widgets/base",
            "_view_module_version": "1.2.0",
            "_view_name": "LayoutView",
            "align_content": null,
            "align_items": null,
            "align_self": null,
            "border": null,
            "bottom": null,
            "display": null,
            "flex": null,
            "flex_flow": null,
            "grid_area": null,
            "grid_auto_columns": null,
            "grid_auto_flow": null,
            "grid_auto_rows": null,
            "grid_column": null,
            "grid_gap": null,
            "grid_row": null,
            "grid_template_areas": null,
            "grid_template_columns": null,
            "grid_template_rows": null,
            "height": null,
            "justify_content": null,
            "justify_items": null,
            "left": null,
            "margin": null,
            "max_height": null,
            "max_width": null,
            "min_height": null,
            "min_width": null,
            "object_fit": null,
            "object_position": null,
            "order": null,
            "overflow": null,
            "overflow_x": null,
            "overflow_y": null,
            "padding": null,
            "right": null,
            "top": null,
            "visibility": null,
            "width": null
          }
        },
        "15d54ccb6eb240f39cafa0db50d1cc2b": {
          "model_module": "@jupyter-widgets/base",
          "model_name": "LayoutModel",
          "model_module_version": "1.2.0",
          "state": {
            "_model_module": "@jupyter-widgets/base",
            "_model_module_version": "1.2.0",
            "_model_name": "LayoutModel",
            "_view_count": null,
            "_view_module": "@jupyter-widgets/base",
            "_view_module_version": "1.2.0",
            "_view_name": "LayoutView",
            "align_content": null,
            "align_items": null,
            "align_self": null,
            "border": null,
            "bottom": null,
            "display": null,
            "flex": null,
            "flex_flow": null,
            "grid_area": null,
            "grid_auto_columns": null,
            "grid_auto_flow": null,
            "grid_auto_rows": null,
            "grid_column": null,
            "grid_gap": null,
            "grid_row": null,
            "grid_template_areas": null,
            "grid_template_columns": null,
            "grid_template_rows": null,
            "height": null,
            "justify_content": null,
            "justify_items": null,
            "left": null,
            "margin": null,
            "max_height": null,
            "max_width": null,
            "min_height": null,
            "min_width": null,
            "object_fit": null,
            "object_position": null,
            "order": null,
            "overflow": null,
            "overflow_x": null,
            "overflow_y": null,
            "padding": null,
            "right": null,
            "top": null,
            "visibility": null,
            "width": null
          }
        },
        "c0c93c0d9c92455497c6e94486e1375d": {
          "model_module": "@jupyter-widgets/controls",
          "model_name": "DescriptionStyleModel",
          "model_module_version": "1.5.0",
          "state": {
            "_model_module": "@jupyter-widgets/controls",
            "_model_module_version": "1.5.0",
            "_model_name": "DescriptionStyleModel",
            "_view_count": null,
            "_view_module": "@jupyter-widgets/base",
            "_view_module_version": "1.2.0",
            "_view_name": "StyleView",
            "description_width": ""
          }
        },
        "20c07d9f5c3c4e5d8766e1a31ac1239f": {
          "model_module": "@jupyter-widgets/base",
          "model_name": "LayoutModel",
          "model_module_version": "1.2.0",
          "state": {
            "_model_module": "@jupyter-widgets/base",
            "_model_module_version": "1.2.0",
            "_model_name": "LayoutModel",
            "_view_count": null,
            "_view_module": "@jupyter-widgets/base",
            "_view_module_version": "1.2.0",
            "_view_name": "LayoutView",
            "align_content": null,
            "align_items": null,
            "align_self": null,
            "border": null,
            "bottom": null,
            "display": null,
            "flex": null,
            "flex_flow": null,
            "grid_area": null,
            "grid_auto_columns": null,
            "grid_auto_flow": null,
            "grid_auto_rows": null,
            "grid_column": null,
            "grid_gap": null,
            "grid_row": null,
            "grid_template_areas": null,
            "grid_template_columns": null,
            "grid_template_rows": null,
            "height": null,
            "justify_content": null,
            "justify_items": null,
            "left": null,
            "margin": null,
            "max_height": null,
            "max_width": null,
            "min_height": null,
            "min_width": null,
            "object_fit": null,
            "object_position": null,
            "order": null,
            "overflow": null,
            "overflow_x": null,
            "overflow_y": null,
            "padding": null,
            "right": null,
            "top": null,
            "visibility": null,
            "width": null
          }
        },
        "2b8aa44040eb47e1b3cb8d61c31bef3c": {
          "model_module": "@jupyter-widgets/controls",
          "model_name": "ProgressStyleModel",
          "model_module_version": "1.5.0",
          "state": {
            "_model_module": "@jupyter-widgets/controls",
            "_model_module_version": "1.5.0",
            "_model_name": "ProgressStyleModel",
            "_view_count": null,
            "_view_module": "@jupyter-widgets/base",
            "_view_module_version": "1.2.0",
            "_view_name": "StyleView",
            "bar_color": null,
            "description_width": ""
          }
        },
        "e456366fef144a64a99023a33759da9f": {
          "model_module": "@jupyter-widgets/base",
          "model_name": "LayoutModel",
          "model_module_version": "1.2.0",
          "state": {
            "_model_module": "@jupyter-widgets/base",
            "_model_module_version": "1.2.0",
            "_model_name": "LayoutModel",
            "_view_count": null,
            "_view_module": "@jupyter-widgets/base",
            "_view_module_version": "1.2.0",
            "_view_name": "LayoutView",
            "align_content": null,
            "align_items": null,
            "align_self": null,
            "border": null,
            "bottom": null,
            "display": null,
            "flex": null,
            "flex_flow": null,
            "grid_area": null,
            "grid_auto_columns": null,
            "grid_auto_flow": null,
            "grid_auto_rows": null,
            "grid_column": null,
            "grid_gap": null,
            "grid_row": null,
            "grid_template_areas": null,
            "grid_template_columns": null,
            "grid_template_rows": null,
            "height": null,
            "justify_content": null,
            "justify_items": null,
            "left": null,
            "margin": null,
            "max_height": null,
            "max_width": null,
            "min_height": null,
            "min_width": null,
            "object_fit": null,
            "object_position": null,
            "order": null,
            "overflow": null,
            "overflow_x": null,
            "overflow_y": null,
            "padding": null,
            "right": null,
            "top": null,
            "visibility": null,
            "width": null
          }
        },
        "82a68cb481d6490483fe1b9bba294d6f": {
          "model_module": "@jupyter-widgets/controls",
          "model_name": "DescriptionStyleModel",
          "model_module_version": "1.5.0",
          "state": {
            "_model_module": "@jupyter-widgets/controls",
            "_model_module_version": "1.5.0",
            "_model_name": "DescriptionStyleModel",
            "_view_count": null,
            "_view_module": "@jupyter-widgets/base",
            "_view_module_version": "1.2.0",
            "_view_name": "StyleView",
            "description_width": ""
          }
        },
        "ab5dc68232454c3a86f7e790277de0b3": {
          "model_module": "@jupyter-widgets/controls",
          "model_name": "HBoxModel",
          "model_module_version": "1.5.0",
          "state": {
            "_dom_classes": [],
            "_model_module": "@jupyter-widgets/controls",
            "_model_module_version": "1.5.0",
            "_model_name": "HBoxModel",
            "_view_count": null,
            "_view_module": "@jupyter-widgets/controls",
            "_view_module_version": "1.5.0",
            "_view_name": "HBoxView",
            "box_style": "",
            "children": [
              "IPY_MODEL_498a7f49400c443ca09255059dd8d877",
              "IPY_MODEL_980ff58f908c48e2a4fae1b5af85e986",
              "IPY_MODEL_2423b141af344402927bf225af4bca47"
            ],
            "layout": "IPY_MODEL_5fe2d8c14cb945adb6e53326e8c69a97"
          }
        },
        "498a7f49400c443ca09255059dd8d877": {
          "model_module": "@jupyter-widgets/controls",
          "model_name": "HTMLModel",
          "model_module_version": "1.5.0",
          "state": {
            "_dom_classes": [],
            "_model_module": "@jupyter-widgets/controls",
            "_model_module_version": "1.5.0",
            "_model_name": "HTMLModel",
            "_view_count": null,
            "_view_module": "@jupyter-widgets/controls",
            "_view_module_version": "1.5.0",
            "_view_name": "HTMLView",
            "description": "",
            "description_tooltip": null,
            "layout": "IPY_MODEL_ea4ee18c3edf418b98a6079430557888",
            "placeholder": "​",
            "style": "IPY_MODEL_18a595e685a940618b73a3bddddadcb3",
            "value": "Downloading (…)/main/tokenizer.json: 100%"
          }
        },
        "980ff58f908c48e2a4fae1b5af85e986": {
          "model_module": "@jupyter-widgets/controls",
          "model_name": "FloatProgressModel",
          "model_module_version": "1.5.0",
          "state": {
            "_dom_classes": [],
            "_model_module": "@jupyter-widgets/controls",
            "_model_module_version": "1.5.0",
            "_model_name": "FloatProgressModel",
            "_view_count": null,
            "_view_module": "@jupyter-widgets/controls",
            "_view_module_version": "1.5.0",
            "_view_name": "ProgressView",
            "bar_style": "success",
            "description": "",
            "description_tooltip": null,
            "layout": "IPY_MODEL_77827f4464504c179c91482213397a5f",
            "max": 1389353,
            "min": 0,
            "orientation": "horizontal",
            "style": "IPY_MODEL_53d9bae36e88463e803d3c651a2810fd",
            "value": 1389353
          }
        },
        "2423b141af344402927bf225af4bca47": {
          "model_module": "@jupyter-widgets/controls",
          "model_name": "HTMLModel",
          "model_module_version": "1.5.0",
          "state": {
            "_dom_classes": [],
            "_model_module": "@jupyter-widgets/controls",
            "_model_module_version": "1.5.0",
            "_model_name": "HTMLModel",
            "_view_count": null,
            "_view_module": "@jupyter-widgets/controls",
            "_view_module_version": "1.5.0",
            "_view_name": "HTMLView",
            "description": "",
            "description_tooltip": null,
            "layout": "IPY_MODEL_4e6f4a55e78842cc8d731cd40079d602",
            "placeholder": "​",
            "style": "IPY_MODEL_69842cde2d394c8c82b83d2577cae0df",
            "value": " 1.39M/1.39M [00:00&lt;00:00, 4.41MB/s]"
          }
        },
        "5fe2d8c14cb945adb6e53326e8c69a97": {
          "model_module": "@jupyter-widgets/base",
          "model_name": "LayoutModel",
          "model_module_version": "1.2.0",
          "state": {
            "_model_module": "@jupyter-widgets/base",
            "_model_module_version": "1.2.0",
            "_model_name": "LayoutModel",
            "_view_count": null,
            "_view_module": "@jupyter-widgets/base",
            "_view_module_version": "1.2.0",
            "_view_name": "LayoutView",
            "align_content": null,
            "align_items": null,
            "align_self": null,
            "border": null,
            "bottom": null,
            "display": null,
            "flex": null,
            "flex_flow": null,
            "grid_area": null,
            "grid_auto_columns": null,
            "grid_auto_flow": null,
            "grid_auto_rows": null,
            "grid_column": null,
            "grid_gap": null,
            "grid_row": null,
            "grid_template_areas": null,
            "grid_template_columns": null,
            "grid_template_rows": null,
            "height": null,
            "justify_content": null,
            "justify_items": null,
            "left": null,
            "margin": null,
            "max_height": null,
            "max_width": null,
            "min_height": null,
            "min_width": null,
            "object_fit": null,
            "object_position": null,
            "order": null,
            "overflow": null,
            "overflow_x": null,
            "overflow_y": null,
            "padding": null,
            "right": null,
            "top": null,
            "visibility": null,
            "width": null
          }
        },
        "ea4ee18c3edf418b98a6079430557888": {
          "model_module": "@jupyter-widgets/base",
          "model_name": "LayoutModel",
          "model_module_version": "1.2.0",
          "state": {
            "_model_module": "@jupyter-widgets/base",
            "_model_module_version": "1.2.0",
            "_model_name": "LayoutModel",
            "_view_count": null,
            "_view_module": "@jupyter-widgets/base",
            "_view_module_version": "1.2.0",
            "_view_name": "LayoutView",
            "align_content": null,
            "align_items": null,
            "align_self": null,
            "border": null,
            "bottom": null,
            "display": null,
            "flex": null,
            "flex_flow": null,
            "grid_area": null,
            "grid_auto_columns": null,
            "grid_auto_flow": null,
            "grid_auto_rows": null,
            "grid_column": null,
            "grid_gap": null,
            "grid_row": null,
            "grid_template_areas": null,
            "grid_template_columns": null,
            "grid_template_rows": null,
            "height": null,
            "justify_content": null,
            "justify_items": null,
            "left": null,
            "margin": null,
            "max_height": null,
            "max_width": null,
            "min_height": null,
            "min_width": null,
            "object_fit": null,
            "object_position": null,
            "order": null,
            "overflow": null,
            "overflow_x": null,
            "overflow_y": null,
            "padding": null,
            "right": null,
            "top": null,
            "visibility": null,
            "width": null
          }
        },
        "18a595e685a940618b73a3bddddadcb3": {
          "model_module": "@jupyter-widgets/controls",
          "model_name": "DescriptionStyleModel",
          "model_module_version": "1.5.0",
          "state": {
            "_model_module": "@jupyter-widgets/controls",
            "_model_module_version": "1.5.0",
            "_model_name": "DescriptionStyleModel",
            "_view_count": null,
            "_view_module": "@jupyter-widgets/base",
            "_view_module_version": "1.2.0",
            "_view_name": "StyleView",
            "description_width": ""
          }
        },
        "77827f4464504c179c91482213397a5f": {
          "model_module": "@jupyter-widgets/base",
          "model_name": "LayoutModel",
          "model_module_version": "1.2.0",
          "state": {
            "_model_module": "@jupyter-widgets/base",
            "_model_module_version": "1.2.0",
            "_model_name": "LayoutModel",
            "_view_count": null,
            "_view_module": "@jupyter-widgets/base",
            "_view_module_version": "1.2.0",
            "_view_name": "LayoutView",
            "align_content": null,
            "align_items": null,
            "align_self": null,
            "border": null,
            "bottom": null,
            "display": null,
            "flex": null,
            "flex_flow": null,
            "grid_area": null,
            "grid_auto_columns": null,
            "grid_auto_flow": null,
            "grid_auto_rows": null,
            "grid_column": null,
            "grid_gap": null,
            "grid_row": null,
            "grid_template_areas": null,
            "grid_template_columns": null,
            "grid_template_rows": null,
            "height": null,
            "justify_content": null,
            "justify_items": null,
            "left": null,
            "margin": null,
            "max_height": null,
            "max_width": null,
            "min_height": null,
            "min_width": null,
            "object_fit": null,
            "object_position": null,
            "order": null,
            "overflow": null,
            "overflow_x": null,
            "overflow_y": null,
            "padding": null,
            "right": null,
            "top": null,
            "visibility": null,
            "width": null
          }
        },
        "53d9bae36e88463e803d3c651a2810fd": {
          "model_module": "@jupyter-widgets/controls",
          "model_name": "ProgressStyleModel",
          "model_module_version": "1.5.0",
          "state": {
            "_model_module": "@jupyter-widgets/controls",
            "_model_module_version": "1.5.0",
            "_model_name": "ProgressStyleModel",
            "_view_count": null,
            "_view_module": "@jupyter-widgets/base",
            "_view_module_version": "1.2.0",
            "_view_name": "StyleView",
            "bar_color": null,
            "description_width": ""
          }
        },
        "4e6f4a55e78842cc8d731cd40079d602": {
          "model_module": "@jupyter-widgets/base",
          "model_name": "LayoutModel",
          "model_module_version": "1.2.0",
          "state": {
            "_model_module": "@jupyter-widgets/base",
            "_model_module_version": "1.2.0",
            "_model_name": "LayoutModel",
            "_view_count": null,
            "_view_module": "@jupyter-widgets/base",
            "_view_module_version": "1.2.0",
            "_view_name": "LayoutView",
            "align_content": null,
            "align_items": null,
            "align_self": null,
            "border": null,
            "bottom": null,
            "display": null,
            "flex": null,
            "flex_flow": null,
            "grid_area": null,
            "grid_auto_columns": null,
            "grid_auto_flow": null,
            "grid_auto_rows": null,
            "grid_column": null,
            "grid_gap": null,
            "grid_row": null,
            "grid_template_areas": null,
            "grid_template_columns": null,
            "grid_template_rows": null,
            "height": null,
            "justify_content": null,
            "justify_items": null,
            "left": null,
            "margin": null,
            "max_height": null,
            "max_width": null,
            "min_height": null,
            "min_width": null,
            "object_fit": null,
            "object_position": null,
            "order": null,
            "overflow": null,
            "overflow_x": null,
            "overflow_y": null,
            "padding": null,
            "right": null,
            "top": null,
            "visibility": null,
            "width": null
          }
        },
        "69842cde2d394c8c82b83d2577cae0df": {
          "model_module": "@jupyter-widgets/controls",
          "model_name": "DescriptionStyleModel",
          "model_module_version": "1.5.0",
          "state": {
            "_model_module": "@jupyter-widgets/controls",
            "_model_module_version": "1.5.0",
            "_model_name": "DescriptionStyleModel",
            "_view_count": null,
            "_view_module": "@jupyter-widgets/base",
            "_view_module_version": "1.2.0",
            "_view_name": "StyleView",
            "description_width": ""
          }
        }
      }
    }
  },
  "cells": [
    {
      "cell_type": "code",
      "execution_count": null,
      "metadata": {
        "colab": {
          "base_uri": "https://localhost:8080/"
        },
        "id": "v-DhX983D0EJ",
        "outputId": "e7f4b263-ef5a-4ec2-df6b-51974637ee47"
      },
      "outputs": [
        {
          "output_type": "stream",
          "name": "stdout",
          "text": [
            "Drive already mounted at /content/drive; to attempt to forcibly remount, call drive.mount(\"/content/drive\", force_remount=True).\n"
          ]
        }
      ],
      "source": [
        "from google.colab import drive\n",
        "drive.mount('/content/drive')"
      ]
    },
    {
      "cell_type": "code",
      "source": [
        " !pip install transformers datasets sentencepiece optuna"
      ],
      "metadata": {
        "id": "KAUp38pND7ML"
      },
      "execution_count": null,
      "outputs": []
    },
    {
      "cell_type": "code",
      "source": [
        "pip install -U kaleido"
      ],
      "metadata": {
        "colab": {
          "base_uri": "https://localhost:8080/"
        },
        "id": "GpI8huUJEFFs",
        "outputId": "e839bc64-63a9-43d0-835b-846e77ccea16"
      },
      "execution_count": null,
      "outputs": [
        {
          "output_type": "stream",
          "name": "stdout",
          "text": [
            "Collecting kaleido\n",
            "  Downloading kaleido-0.2.1-py2.py3-none-manylinux1_x86_64.whl (79.9 MB)\n",
            "\u001b[2K     \u001b[90m━━━━━━━━━━━━━━━━━━━━━━━━━━━━━━━━━━━━━━━━\u001b[0m \u001b[32m79.9/79.9 MB\u001b[0m \u001b[31m8.0 MB/s\u001b[0m eta \u001b[36m0:00:00\u001b[0m\n",
            "\u001b[?25hInstalling collected packages: kaleido\n",
            "Successfully installed kaleido-0.2.1\n"
          ]
        }
      ]
    },
    {
      "cell_type": "code",
      "source": [
        "import json\n",
        "import pandas as pd\n",
        "from transformers import AutoModelForSeq2SeqLM, AutoTokenizer\n",
        "from transformers import DataCollatorForSeq2Seq\n",
        "from transformers import Seq2SeqTrainingArguments,EarlyStoppingCallback\n",
        "import torch\n",
        "from transformers import Seq2SeqTrainer\n",
        "from torch.utils.data import Dataset, DataLoader\n",
        "from itertools import product\n",
        "import optuna\n",
        "import numpy as np\n",
        "import warnings\n",
        "warnings.filterwarnings(\"ignore\")\n",
        "import random\n",
        "import nltk\n",
        "from nltk.corpus import stopwords\n",
        "from nltk.stem import WordNetLemmatizer\n",
        "import spacy\n",
        "\n",
        "nlp = spacy.load(\"en_core_web_sm\")\n",
        "# download necessary resources\n",
        "nltk.download('stopwords')\n",
        "nltk.download('punkt')\n",
        "nltk.download('wordnet')\n",
        "import re"
      ],
      "metadata": {
        "id": "hjynwxC9EI8F",
        "colab": {
          "base_uri": "https://localhost:8080/"
        },
        "outputId": "387db222-ac51-440c-9bdd-2fd6deeb99fb"
      },
      "execution_count": null,
      "outputs": [
        {
          "output_type": "stream",
          "name": "stderr",
          "text": [
            "[nltk_data] Downloading package stopwords to /root/nltk_data...\n",
            "[nltk_data]   Unzipping corpora/stopwords.zip.\n",
            "[nltk_data] Downloading package punkt to /root/nltk_data...\n",
            "[nltk_data]   Unzipping tokenizers/punkt.zip.\n",
            "[nltk_data] Downloading package wordnet to /root/nltk_data...\n"
          ]
        }
      ]
    },
    {
      "cell_type": "code",
      "source": [
        "\n",
        "with open('/content/drive/MyDrive/MTP Project/t5_data/train_data.json') as jsonfile:\n",
        "    train_data = json.load(jsonfile)\n",
        "\n",
        "\n",
        "with open('/content/drive/MyDrive/MTP Project/t5_data/val_data.json') as jsonfile:\n",
        "    val_data = json.load(jsonfile)\n",
        "\n",
        "print(f\"Total Training dataset samples : {len(train_data)}\")\n",
        "\n",
        "print(f\"Total validation set samples : {len(val_data)}\")\n",
        "\n",
        "df_train = pd.DataFrame(train_data)\n",
        "df_val = pd.DataFrame(val_data)"
      ],
      "metadata": {
        "colab": {
          "base_uri": "https://localhost:8080/"
        },
        "id": "r2b7K4lPELse",
        "outputId": "15341c9e-38b5-4bb8-a929-0ec18813fc1b"
      },
      "execution_count": null,
      "outputs": [
        {
          "output_type": "stream",
          "name": "stdout",
          "text": [
            "Total Training dataset samples : 77796\n",
            "Total validation set samples : 15000\n"
          ]
        }
      ]
    },
    {
      "cell_type": "code",
      "source": [
        "def preprocess(row,max_input_len,max_target_len,tok):\n",
        "    tok=tok\n",
        "    # Retrieve the input and output strings from the row dictionary\n",
        "    input_str = row['input']\n",
        "    target_str = row['output']\n",
        "    # Tokenize the input string with a maximum length and truncation\n",
        "    tokenized_inputs = tok(input_str, max_length=max_input_len, truncation=True)\n",
        "    # Tokenize the target string with a maximum length and truncation\n",
        "    tokenized_targets = tok(text_target=target_str, max_length=max_target_len, truncation=True)\n",
        "    # Assign the tokenized target's 'input_ids' to the 'labels' key in the tokenized input dictionary\n",
        "    tokenized_inputs['labels'] = tokenized_targets['input_ids']\n",
        "    # Return the tokenized input dictionary\n",
        "    return tokenized_inputs\n",
        "class MyDataset(Dataset):\n",
        "    def __init__(self, data):\n",
        "        self.data = data\n",
        "\n",
        "    def __len__(self):\n",
        "        return len(self.data)\n",
        "\n",
        "    def __getitem__(self, idx):\n",
        "        # Return a dictionary containing the input_ids, attention_mask, and labels for a given index\n",
        "        return {\n",
        "            'input_ids': self.data[idx]['input_ids'],\n",
        "            'attention_mask': self.data[idx]['attention_mask'],\n",
        "            'labels': self.data[idx]['labels'],\n",
        "\n",
        "        }\n",
        "\n"
      ],
      "metadata": {
        "id": "BoYMUquxFRDb"
      },
      "execution_count": null,
      "outputs": []
    },
    {
      "cell_type": "code",
      "source": [
        "#load best model parameters\n",
        "with open(\"/content/drive/MyDrive/MTP Project/out_attr/hyperparameters-attr/final_params_dup.json\") as f:\n",
        "  params=json.load(f)\n",
        "print(params)"
      ],
      "metadata": {
        "colab": {
          "base_uri": "https://localhost:8080/"
        },
        "id": "ClF-I0anFlv-",
        "outputId": "dddea534-9197-438d-b494-77c7acdb73e3"
      },
      "execution_count": null,
      "outputs": [
        {
          "output_type": "stream",
          "name": "stdout",
          "text": [
            "{'learning_rate': 5.285698854152201e-05, 'weight_decay': 0.00025829870123799276, 'num_train_epochs': 19, 'per_device_train_batch_size': 16, 'per_device_eval_batch_size': 16, 'input_seq_length': 256, 'output_seq_length': 14, 'dropout_rate': 0.1133866716350046}\n"
          ]
        }
      ]
    },
    {
      "cell_type": "code",
      "source": [
        "import optuna.visualization as vis\n",
        "import plotly.express as px"
      ],
      "metadata": {
        "id": "RJNIjymSAjfL"
      },
      "execution_count": null,
      "outputs": []
    },
    {
      "cell_type": "code",
      "source": [
        "#loading the study object from hyperparamter tuning\n",
        "import joblib\n",
        "study = joblib.load(\"/content/drive/MyDrive/MTP Project/out_attr/hyperparameters-attr/study_dup.pkl\")\n",
        "\n",
        "print(\"Best trial until now:\")\n",
        "print(\" Value: \", study.best_trial.value)\n",
        "print(\" Params: \")\n",
        "for key, value in study.best_trial.params.items():\n",
        "    print(f\"    {key}: {value}\")"
      ],
      "metadata": {
        "colab": {
          "base_uri": "https://localhost:8080/"
        },
        "id": "QPKsiYw7Av64",
        "outputId": "0c397eb2-2d12-4501-fa2c-d511fdc3f343"
      },
      "execution_count": null,
      "outputs": [
        {
          "output_type": "stream",
          "name": "stdout",
          "text": [
            "Best trial until now:\n",
            " Value:  0.2896277606487274\n",
            " Params: \n",
            "    learning_rate: 5.285698854152201e-05\n",
            "    weight_decay: 0.00025829870123799276\n",
            "    num_train_epochs: 19\n",
            "    per_device_train_batch_size: 16\n",
            "    per_device_eval_batch_size: 16\n",
            "    input_seq_length: 256\n",
            "    output_seq_length: 14\n",
            "    dropout_rate: 0.1133866716350046\n"
          ]
        }
      ]
    },
    {
      "cell_type": "code",
      "source": [
        "vis.plot_param_importances(study)"
      ],
      "metadata": {
        "colab": {
          "base_uri": "https://localhost:8080/",
          "height": 542
        },
        "id": "nTHf_BD3Ajl5",
        "outputId": "094bd852-a03b-4506-b9a1-df6d3a617d09"
      },
      "execution_count": null,
      "outputs": [
        {
          "output_type": "display_data",
          "data": {
            "text/html": [
              "<html>\n",
              "<head><meta charset=\"utf-8\" /></head>\n",
              "<body>\n",
              "    <div>            <script src=\"https://cdnjs.cloudflare.com/ajax/libs/mathjax/2.7.5/MathJax.js?config=TeX-AMS-MML_SVG\"></script><script type=\"text/javascript\">if (window.MathJax && window.MathJax.Hub && window.MathJax.Hub.Config) {window.MathJax.Hub.Config({SVG: {font: \"STIX-Web\"}});}</script>                <script type=\"text/javascript\">window.PlotlyConfig = {MathJaxConfig: 'local'};</script>\n",
              "        <script src=\"https://cdn.plot.ly/plotly-2.18.2.min.js\"></script>                <div id=\"6ae763fa-93a8-4e68-8dc2-eea9dc1c6675\" class=\"plotly-graph-div\" style=\"height:525px; width:100%;\"></div>            <script type=\"text/javascript\">                                    window.PLOTLYENV=window.PLOTLYENV || {};                                    if (document.getElementById(\"6ae763fa-93a8-4e68-8dc2-eea9dc1c6675\")) {                    Plotly.newPlot(                        \"6ae763fa-93a8-4e68-8dc2-eea9dc1c6675\",                        [{\"cliponaxis\":false,\"hovertemplate\":[\"weight_decay (FloatDistribution): 0.0013653545994747913<extra></extra>\",\"dropout_rate (FloatDistribution): 0.034419263152317706<extra></extra>\",\"output_seq_length (CategoricalDistribution): 0.0539830281415393<extra></extra>\",\"input_seq_length (CategoricalDistribution): 0.058121835556779<extra></extra>\",\"per_device_eval_batch_size (CategoricalDistribution): 0.06047830741292826<extra></extra>\",\"num_train_epochs (IntDistribution): 0.08942555236253523<extra></extra>\",\"per_device_train_batch_size (CategoricalDistribution): 0.19313160066755747<extra></extra>\",\"learning_rate (FloatDistribution): 0.5090750581068683<extra></extra>\"],\"marker\":{\"color\":\"rgb(66,146,198)\"},\"orientation\":\"h\",\"text\":[\"<0.01\",\"0.03\",\"0.05\",\"0.06\",\"0.06\",\"0.09\",\"0.19\",\"0.51\"],\"textposition\":\"outside\",\"x\":[0.0013653545994747913,0.034419263152317706,0.0539830281415393,0.058121835556779,0.06047830741292826,0.08942555236253523,0.19313160066755747,0.5090750581068683],\"y\":[\"weight_decay\",\"dropout_rate\",\"output_seq_length\",\"input_seq_length\",\"per_device_eval_batch_size\",\"num_train_epochs\",\"per_device_train_batch_size\",\"learning_rate\"],\"type\":\"bar\"}],                        {\"showlegend\":false,\"title\":{\"text\":\"Hyperparameter Importances\"},\"xaxis\":{\"title\":{\"text\":\"Importance for Objective Value\"}},\"yaxis\":{\"title\":{\"text\":\"Hyperparameter\"}},\"template\":{\"data\":{\"histogram2dcontour\":[{\"type\":\"histogram2dcontour\",\"colorbar\":{\"outlinewidth\":0,\"ticks\":\"\"},\"colorscale\":[[0.0,\"#0d0887\"],[0.1111111111111111,\"#46039f\"],[0.2222222222222222,\"#7201a8\"],[0.3333333333333333,\"#9c179e\"],[0.4444444444444444,\"#bd3786\"],[0.5555555555555556,\"#d8576b\"],[0.6666666666666666,\"#ed7953\"],[0.7777777777777778,\"#fb9f3a\"],[0.8888888888888888,\"#fdca26\"],[1.0,\"#f0f921\"]]}],\"choropleth\":[{\"type\":\"choropleth\",\"colorbar\":{\"outlinewidth\":0,\"ticks\":\"\"}}],\"histogram2d\":[{\"type\":\"histogram2d\",\"colorbar\":{\"outlinewidth\":0,\"ticks\":\"\"},\"colorscale\":[[0.0,\"#0d0887\"],[0.1111111111111111,\"#46039f\"],[0.2222222222222222,\"#7201a8\"],[0.3333333333333333,\"#9c179e\"],[0.4444444444444444,\"#bd3786\"],[0.5555555555555556,\"#d8576b\"],[0.6666666666666666,\"#ed7953\"],[0.7777777777777778,\"#fb9f3a\"],[0.8888888888888888,\"#fdca26\"],[1.0,\"#f0f921\"]]}],\"heatmap\":[{\"type\":\"heatmap\",\"colorbar\":{\"outlinewidth\":0,\"ticks\":\"\"},\"colorscale\":[[0.0,\"#0d0887\"],[0.1111111111111111,\"#46039f\"],[0.2222222222222222,\"#7201a8\"],[0.3333333333333333,\"#9c179e\"],[0.4444444444444444,\"#bd3786\"],[0.5555555555555556,\"#d8576b\"],[0.6666666666666666,\"#ed7953\"],[0.7777777777777778,\"#fb9f3a\"],[0.8888888888888888,\"#fdca26\"],[1.0,\"#f0f921\"]]}],\"heatmapgl\":[{\"type\":\"heatmapgl\",\"colorbar\":{\"outlinewidth\":0,\"ticks\":\"\"},\"colorscale\":[[0.0,\"#0d0887\"],[0.1111111111111111,\"#46039f\"],[0.2222222222222222,\"#7201a8\"],[0.3333333333333333,\"#9c179e\"],[0.4444444444444444,\"#bd3786\"],[0.5555555555555556,\"#d8576b\"],[0.6666666666666666,\"#ed7953\"],[0.7777777777777778,\"#fb9f3a\"],[0.8888888888888888,\"#fdca26\"],[1.0,\"#f0f921\"]]}],\"contourcarpet\":[{\"type\":\"contourcarpet\",\"colorbar\":{\"outlinewidth\":0,\"ticks\":\"\"}}],\"contour\":[{\"type\":\"contour\",\"colorbar\":{\"outlinewidth\":0,\"ticks\":\"\"},\"colorscale\":[[0.0,\"#0d0887\"],[0.1111111111111111,\"#46039f\"],[0.2222222222222222,\"#7201a8\"],[0.3333333333333333,\"#9c179e\"],[0.4444444444444444,\"#bd3786\"],[0.5555555555555556,\"#d8576b\"],[0.6666666666666666,\"#ed7953\"],[0.7777777777777778,\"#fb9f3a\"],[0.8888888888888888,\"#fdca26\"],[1.0,\"#f0f921\"]]}],\"surface\":[{\"type\":\"surface\",\"colorbar\":{\"outlinewidth\":0,\"ticks\":\"\"},\"colorscale\":[[0.0,\"#0d0887\"],[0.1111111111111111,\"#46039f\"],[0.2222222222222222,\"#7201a8\"],[0.3333333333333333,\"#9c179e\"],[0.4444444444444444,\"#bd3786\"],[0.5555555555555556,\"#d8576b\"],[0.6666666666666666,\"#ed7953\"],[0.7777777777777778,\"#fb9f3a\"],[0.8888888888888888,\"#fdca26\"],[1.0,\"#f0f921\"]]}],\"mesh3d\":[{\"type\":\"mesh3d\",\"colorbar\":{\"outlinewidth\":0,\"ticks\":\"\"}}],\"scatter\":[{\"fillpattern\":{\"fillmode\":\"overlay\",\"size\":10,\"solidity\":0.2},\"type\":\"scatter\"}],\"parcoords\":[{\"type\":\"parcoords\",\"line\":{\"colorbar\":{\"outlinewidth\":0,\"ticks\":\"\"}}}],\"scatterpolargl\":[{\"type\":\"scatterpolargl\",\"marker\":{\"colorbar\":{\"outlinewidth\":0,\"ticks\":\"\"}}}],\"bar\":[{\"error_x\":{\"color\":\"#2a3f5f\"},\"error_y\":{\"color\":\"#2a3f5f\"},\"marker\":{\"line\":{\"color\":\"#E5ECF6\",\"width\":0.5},\"pattern\":{\"fillmode\":\"overlay\",\"size\":10,\"solidity\":0.2}},\"type\":\"bar\"}],\"scattergeo\":[{\"type\":\"scattergeo\",\"marker\":{\"colorbar\":{\"outlinewidth\":0,\"ticks\":\"\"}}}],\"scatterpolar\":[{\"type\":\"scatterpolar\",\"marker\":{\"colorbar\":{\"outlinewidth\":0,\"ticks\":\"\"}}}],\"histogram\":[{\"marker\":{\"pattern\":{\"fillmode\":\"overlay\",\"size\":10,\"solidity\":0.2}},\"type\":\"histogram\"}],\"scattergl\":[{\"type\":\"scattergl\",\"marker\":{\"colorbar\":{\"outlinewidth\":0,\"ticks\":\"\"}}}],\"scatter3d\":[{\"type\":\"scatter3d\",\"line\":{\"colorbar\":{\"outlinewidth\":0,\"ticks\":\"\"}},\"marker\":{\"colorbar\":{\"outlinewidth\":0,\"ticks\":\"\"}}}],\"scattermapbox\":[{\"type\":\"scattermapbox\",\"marker\":{\"colorbar\":{\"outlinewidth\":0,\"ticks\":\"\"}}}],\"scatterternary\":[{\"type\":\"scatterternary\",\"marker\":{\"colorbar\":{\"outlinewidth\":0,\"ticks\":\"\"}}}],\"scattercarpet\":[{\"type\":\"scattercarpet\",\"marker\":{\"colorbar\":{\"outlinewidth\":0,\"ticks\":\"\"}}}],\"carpet\":[{\"aaxis\":{\"endlinecolor\":\"#2a3f5f\",\"gridcolor\":\"white\",\"linecolor\":\"white\",\"minorgridcolor\":\"white\",\"startlinecolor\":\"#2a3f5f\"},\"baxis\":{\"endlinecolor\":\"#2a3f5f\",\"gridcolor\":\"white\",\"linecolor\":\"white\",\"minorgridcolor\":\"white\",\"startlinecolor\":\"#2a3f5f\"},\"type\":\"carpet\"}],\"table\":[{\"cells\":{\"fill\":{\"color\":\"#EBF0F8\"},\"line\":{\"color\":\"white\"}},\"header\":{\"fill\":{\"color\":\"#C8D4E3\"},\"line\":{\"color\":\"white\"}},\"type\":\"table\"}],\"barpolar\":[{\"marker\":{\"line\":{\"color\":\"#E5ECF6\",\"width\":0.5},\"pattern\":{\"fillmode\":\"overlay\",\"size\":10,\"solidity\":0.2}},\"type\":\"barpolar\"}],\"pie\":[{\"automargin\":true,\"type\":\"pie\"}]},\"layout\":{\"autotypenumbers\":\"strict\",\"colorway\":[\"#636efa\",\"#EF553B\",\"#00cc96\",\"#ab63fa\",\"#FFA15A\",\"#19d3f3\",\"#FF6692\",\"#B6E880\",\"#FF97FF\",\"#FECB52\"],\"font\":{\"color\":\"#2a3f5f\"},\"hovermode\":\"closest\",\"hoverlabel\":{\"align\":\"left\"},\"paper_bgcolor\":\"white\",\"plot_bgcolor\":\"#E5ECF6\",\"polar\":{\"bgcolor\":\"#E5ECF6\",\"angularaxis\":{\"gridcolor\":\"white\",\"linecolor\":\"white\",\"ticks\":\"\"},\"radialaxis\":{\"gridcolor\":\"white\",\"linecolor\":\"white\",\"ticks\":\"\"}},\"ternary\":{\"bgcolor\":\"#E5ECF6\",\"aaxis\":{\"gridcolor\":\"white\",\"linecolor\":\"white\",\"ticks\":\"\"},\"baxis\":{\"gridcolor\":\"white\",\"linecolor\":\"white\",\"ticks\":\"\"},\"caxis\":{\"gridcolor\":\"white\",\"linecolor\":\"white\",\"ticks\":\"\"}},\"coloraxis\":{\"colorbar\":{\"outlinewidth\":0,\"ticks\":\"\"}},\"colorscale\":{\"sequential\":[[0.0,\"#0d0887\"],[0.1111111111111111,\"#46039f\"],[0.2222222222222222,\"#7201a8\"],[0.3333333333333333,\"#9c179e\"],[0.4444444444444444,\"#bd3786\"],[0.5555555555555556,\"#d8576b\"],[0.6666666666666666,\"#ed7953\"],[0.7777777777777778,\"#fb9f3a\"],[0.8888888888888888,\"#fdca26\"],[1.0,\"#f0f921\"]],\"sequentialminus\":[[0.0,\"#0d0887\"],[0.1111111111111111,\"#46039f\"],[0.2222222222222222,\"#7201a8\"],[0.3333333333333333,\"#9c179e\"],[0.4444444444444444,\"#bd3786\"],[0.5555555555555556,\"#d8576b\"],[0.6666666666666666,\"#ed7953\"],[0.7777777777777778,\"#fb9f3a\"],[0.8888888888888888,\"#fdca26\"],[1.0,\"#f0f921\"]],\"diverging\":[[0,\"#8e0152\"],[0.1,\"#c51b7d\"],[0.2,\"#de77ae\"],[0.3,\"#f1b6da\"],[0.4,\"#fde0ef\"],[0.5,\"#f7f7f7\"],[0.6,\"#e6f5d0\"],[0.7,\"#b8e186\"],[0.8,\"#7fbc41\"],[0.9,\"#4d9221\"],[1,\"#276419\"]]},\"xaxis\":{\"gridcolor\":\"white\",\"linecolor\":\"white\",\"ticks\":\"\",\"title\":{\"standoff\":15},\"zerolinecolor\":\"white\",\"automargin\":true,\"zerolinewidth\":2},\"yaxis\":{\"gridcolor\":\"white\",\"linecolor\":\"white\",\"ticks\":\"\",\"title\":{\"standoff\":15},\"zerolinecolor\":\"white\",\"automargin\":true,\"zerolinewidth\":2},\"scene\":{\"xaxis\":{\"backgroundcolor\":\"#E5ECF6\",\"gridcolor\":\"white\",\"linecolor\":\"white\",\"showbackground\":true,\"ticks\":\"\",\"zerolinecolor\":\"white\",\"gridwidth\":2},\"yaxis\":{\"backgroundcolor\":\"#E5ECF6\",\"gridcolor\":\"white\",\"linecolor\":\"white\",\"showbackground\":true,\"ticks\":\"\",\"zerolinecolor\":\"white\",\"gridwidth\":2},\"zaxis\":{\"backgroundcolor\":\"#E5ECF6\",\"gridcolor\":\"white\",\"linecolor\":\"white\",\"showbackground\":true,\"ticks\":\"\",\"zerolinecolor\":\"white\",\"gridwidth\":2}},\"shapedefaults\":{\"line\":{\"color\":\"#2a3f5f\"}},\"annotationdefaults\":{\"arrowcolor\":\"#2a3f5f\",\"arrowhead\":0,\"arrowwidth\":1},\"geo\":{\"bgcolor\":\"white\",\"landcolor\":\"#E5ECF6\",\"subunitcolor\":\"white\",\"showland\":true,\"showlakes\":true,\"lakecolor\":\"white\"},\"title\":{\"x\":0.05},\"mapbox\":{\"style\":\"light\"}}}},                        {\"responsive\": true}                    ).then(function(){\n",
              "                            \n",
              "var gd = document.getElementById('6ae763fa-93a8-4e68-8dc2-eea9dc1c6675');\n",
              "var x = new MutationObserver(function (mutations, observer) {{\n",
              "        var display = window.getComputedStyle(gd).display;\n",
              "        if (!display || display === 'none') {{\n",
              "            console.log([gd, 'removed!']);\n",
              "            Plotly.purge(gd);\n",
              "            observer.disconnect();\n",
              "        }}\n",
              "}});\n",
              "\n",
              "// Listen for the removal of the full notebook cells\n",
              "var notebookContainer = gd.closest('#notebook-container');\n",
              "if (notebookContainer) {{\n",
              "    x.observe(notebookContainer, {childList: true});\n",
              "}}\n",
              "\n",
              "// Listen for the clearing of the current output cell\n",
              "var outputEl = gd.closest('.output');\n",
              "if (outputEl) {{\n",
              "    x.observe(outputEl, {childList: true});\n",
              "}}\n",
              "\n",
              "                        })                };                            </script>        </div>\n",
              "</body>\n",
              "</html>"
            ]
          },
          "metadata": {}
        }
      ]
    },
    {
      "cell_type": "code",
      "source": [
        "# Plot the parallel coordinate plot\n",
        "fig = vis.plot_parallel_coordinate(study)\n",
        "fig.show()"
      ],
      "metadata": {
        "colab": {
          "base_uri": "https://localhost:8080/",
          "height": 542
        },
        "id": "ib1Lyj4tAjuz",
        "outputId": "ee53d524-2bb8-47fe-b207-315b8ee4a581"
      },
      "execution_count": null,
      "outputs": [
        {
          "output_type": "display_data",
          "data": {
            "text/html": [
              "<html>\n",
              "<head><meta charset=\"utf-8\" /></head>\n",
              "<body>\n",
              "    <div>            <script src=\"https://cdnjs.cloudflare.com/ajax/libs/mathjax/2.7.5/MathJax.js?config=TeX-AMS-MML_SVG\"></script><script type=\"text/javascript\">if (window.MathJax && window.MathJax.Hub && window.MathJax.Hub.Config) {window.MathJax.Hub.Config({SVG: {font: \"STIX-Web\"}});}</script>                <script type=\"text/javascript\">window.PlotlyConfig = {MathJaxConfig: 'local'};</script>\n",
              "        <script src=\"https://cdn.plot.ly/plotly-2.18.2.min.js\"></script>                <div id=\"95d3866d-b89b-4e2f-a886-5459a7e7975b\" class=\"plotly-graph-div\" style=\"height:525px; width:100%;\"></div>            <script type=\"text/javascript\">                                    window.PLOTLYENV=window.PLOTLYENV || {};                                    if (document.getElementById(\"95d3866d-b89b-4e2f-a886-5459a7e7975b\")) {                    Plotly.newPlot(                        \"95d3866d-b89b-4e2f-a886-5459a7e7975b\",                        [{\"dimensions\":[{\"label\":\"Objective Value\",\"range\":[0.24383306503295898,1.9138500690460205],\"values\":[0.24480514228343964,0.25525641441345215,0.4446166157722473,0.7032057046890259,0.46964582800865173,1.9138500690460205,0.4564375877380371,0.2685419023036957,0.873521625995636,0.24383306503295898]},{\"label\":\"dropout_rate\",\"range\":[0.02154867810249722,0.4938127374509361],\"values\":[0.08310107385226684,0.02154867810249722,0.39135740912248557,0.16933956649466986,0.41434066315383833,0.16985392181893183,0.4588870612564717,0.1133866716350046,0.4938127374509361,0.07959686668904675]},{\"label\":\"input_seq_length\",\"range\":[0,2],\"ticktext\":[\"64\",\"128\",\"256\"],\"tickvals\":[0,1,2],\"values\":[0,0,0,1,1,1,2,2,2,2]},{\"label\":\"learning_rate\",\"range\":[-4.285485448149093,-2.2879562074578885],\"ticktext\":[\"5.18e-05\",\"0.0001\",\"0.001\",\"0.00515\"],\"tickvals\":[-4.285485448149093,-4,-3,-2.2879562074578885],\"values\":[-3.483338029355209,-3.303749079054481,-3.18223567001807,-2.363265893681122,-2.684430148434551,-2.2879562074578885,-2.548359378668055,-4.276897583865216,-4.285485448149093,-3.210843090440685]},{\"label\":\"num_train_epochs\",\"range\":[18,94],\"values\":[94,32,18,81,22,89,67,19,59,50]},{\"label\":\"output_seq_length\",\"range\":[0,2],\"ticktext\":[\"6\",\"10\",\"14\"],\"tickvals\":[0,1,2],\"values\":[0,1,1,0,1,2,1,2,2,2]},{\"label\":\"per_device_eval_b...\",\"range\":[0,3],\"ticktext\":[\"8\",\"16\",\"32\",\"64\"],\"tickvals\":[0,1,2,3],\"values\":[2,0,3,2,3,2,3,1,1,1]},{\"label\":\"per_device_train_...\",\"range\":[0,4],\"ticktext\":[\"8\",\"16\",\"32\",\"64\",\"128\"],\"tickvals\":[0,1,2,3,4],\"values\":[3,1,0,2,1,1,4,1,2,3]},{\"label\":\"weight_decay\",\"range\":[-4.348178079045193,-2.054959044279721],\"ticktext\":[\"4.49e-05\",\"0.0001\",\"0.001\",\"0.00881\"],\"tickvals\":[-4.348178079045193,-4,-3,-2.054959044279721],\"values\":[-2.18648111164691,-2.4169469893436095,-2.433941141522538,-2.9515913771027775,-3.0969511621381485,-2.567734868517868,-4.348178079045193,-3.587877777514608,-2.8961409988190314,-2.054959044279721]}],\"labelangle\":30,\"labelside\":\"bottom\",\"line\":{\"color\":[0.24480514228343964,0.25525641441345215,0.4446166157722473,0.7032057046890259,0.46964582800865173,1.9138500690460205,0.4564375877380371,0.2685419023036957,0.873521625995636,0.24383306503295898],\"colorbar\":{\"title\":{\"text\":\"Objective Value\"}},\"colorscale\":[[0.0,\"rgb(247,251,255)\"],[0.125,\"rgb(222,235,247)\"],[0.25,\"rgb(198,219,239)\"],[0.375,\"rgb(158,202,225)\"],[0.5,\"rgb(107,174,214)\"],[0.625,\"rgb(66,146,198)\"],[0.75,\"rgb(33,113,181)\"],[0.875,\"rgb(8,81,156)\"],[1.0,\"rgb(8,48,107)\"]],\"reversescale\":true,\"showscale\":true},\"type\":\"parcoords\"}],                        {\"title\":{\"text\":\"Parallel Coordinate Plot\"},\"template\":{\"data\":{\"histogram2dcontour\":[{\"type\":\"histogram2dcontour\",\"colorbar\":{\"outlinewidth\":0,\"ticks\":\"\"},\"colorscale\":[[0.0,\"#0d0887\"],[0.1111111111111111,\"#46039f\"],[0.2222222222222222,\"#7201a8\"],[0.3333333333333333,\"#9c179e\"],[0.4444444444444444,\"#bd3786\"],[0.5555555555555556,\"#d8576b\"],[0.6666666666666666,\"#ed7953\"],[0.7777777777777778,\"#fb9f3a\"],[0.8888888888888888,\"#fdca26\"],[1.0,\"#f0f921\"]]}],\"choropleth\":[{\"type\":\"choropleth\",\"colorbar\":{\"outlinewidth\":0,\"ticks\":\"\"}}],\"histogram2d\":[{\"type\":\"histogram2d\",\"colorbar\":{\"outlinewidth\":0,\"ticks\":\"\"},\"colorscale\":[[0.0,\"#0d0887\"],[0.1111111111111111,\"#46039f\"],[0.2222222222222222,\"#7201a8\"],[0.3333333333333333,\"#9c179e\"],[0.4444444444444444,\"#bd3786\"],[0.5555555555555556,\"#d8576b\"],[0.6666666666666666,\"#ed7953\"],[0.7777777777777778,\"#fb9f3a\"],[0.8888888888888888,\"#fdca26\"],[1.0,\"#f0f921\"]]}],\"heatmap\":[{\"type\":\"heatmap\",\"colorbar\":{\"outlinewidth\":0,\"ticks\":\"\"},\"colorscale\":[[0.0,\"#0d0887\"],[0.1111111111111111,\"#46039f\"],[0.2222222222222222,\"#7201a8\"],[0.3333333333333333,\"#9c179e\"],[0.4444444444444444,\"#bd3786\"],[0.5555555555555556,\"#d8576b\"],[0.6666666666666666,\"#ed7953\"],[0.7777777777777778,\"#fb9f3a\"],[0.8888888888888888,\"#fdca26\"],[1.0,\"#f0f921\"]]}],\"heatmapgl\":[{\"type\":\"heatmapgl\",\"colorbar\":{\"outlinewidth\":0,\"ticks\":\"\"},\"colorscale\":[[0.0,\"#0d0887\"],[0.1111111111111111,\"#46039f\"],[0.2222222222222222,\"#7201a8\"],[0.3333333333333333,\"#9c179e\"],[0.4444444444444444,\"#bd3786\"],[0.5555555555555556,\"#d8576b\"],[0.6666666666666666,\"#ed7953\"],[0.7777777777777778,\"#fb9f3a\"],[0.8888888888888888,\"#fdca26\"],[1.0,\"#f0f921\"]]}],\"contourcarpet\":[{\"type\":\"contourcarpet\",\"colorbar\":{\"outlinewidth\":0,\"ticks\":\"\"}}],\"contour\":[{\"type\":\"contour\",\"colorbar\":{\"outlinewidth\":0,\"ticks\":\"\"},\"colorscale\":[[0.0,\"#0d0887\"],[0.1111111111111111,\"#46039f\"],[0.2222222222222222,\"#7201a8\"],[0.3333333333333333,\"#9c179e\"],[0.4444444444444444,\"#bd3786\"],[0.5555555555555556,\"#d8576b\"],[0.6666666666666666,\"#ed7953\"],[0.7777777777777778,\"#fb9f3a\"],[0.8888888888888888,\"#fdca26\"],[1.0,\"#f0f921\"]]}],\"surface\":[{\"type\":\"surface\",\"colorbar\":{\"outlinewidth\":0,\"ticks\":\"\"},\"colorscale\":[[0.0,\"#0d0887\"],[0.1111111111111111,\"#46039f\"],[0.2222222222222222,\"#7201a8\"],[0.3333333333333333,\"#9c179e\"],[0.4444444444444444,\"#bd3786\"],[0.5555555555555556,\"#d8576b\"],[0.6666666666666666,\"#ed7953\"],[0.7777777777777778,\"#fb9f3a\"],[0.8888888888888888,\"#fdca26\"],[1.0,\"#f0f921\"]]}],\"mesh3d\":[{\"type\":\"mesh3d\",\"colorbar\":{\"outlinewidth\":0,\"ticks\":\"\"}}],\"scatter\":[{\"fillpattern\":{\"fillmode\":\"overlay\",\"size\":10,\"solidity\":0.2},\"type\":\"scatter\"}],\"parcoords\":[{\"type\":\"parcoords\",\"line\":{\"colorbar\":{\"outlinewidth\":0,\"ticks\":\"\"}}}],\"scatterpolargl\":[{\"type\":\"scatterpolargl\",\"marker\":{\"colorbar\":{\"outlinewidth\":0,\"ticks\":\"\"}}}],\"bar\":[{\"error_x\":{\"color\":\"#2a3f5f\"},\"error_y\":{\"color\":\"#2a3f5f\"},\"marker\":{\"line\":{\"color\":\"#E5ECF6\",\"width\":0.5},\"pattern\":{\"fillmode\":\"overlay\",\"size\":10,\"solidity\":0.2}},\"type\":\"bar\"}],\"scattergeo\":[{\"type\":\"scattergeo\",\"marker\":{\"colorbar\":{\"outlinewidth\":0,\"ticks\":\"\"}}}],\"scatterpolar\":[{\"type\":\"scatterpolar\",\"marker\":{\"colorbar\":{\"outlinewidth\":0,\"ticks\":\"\"}}}],\"histogram\":[{\"marker\":{\"pattern\":{\"fillmode\":\"overlay\",\"size\":10,\"solidity\":0.2}},\"type\":\"histogram\"}],\"scattergl\":[{\"type\":\"scattergl\",\"marker\":{\"colorbar\":{\"outlinewidth\":0,\"ticks\":\"\"}}}],\"scatter3d\":[{\"type\":\"scatter3d\",\"line\":{\"colorbar\":{\"outlinewidth\":0,\"ticks\":\"\"}},\"marker\":{\"colorbar\":{\"outlinewidth\":0,\"ticks\":\"\"}}}],\"scattermapbox\":[{\"type\":\"scattermapbox\",\"marker\":{\"colorbar\":{\"outlinewidth\":0,\"ticks\":\"\"}}}],\"scatterternary\":[{\"type\":\"scatterternary\",\"marker\":{\"colorbar\":{\"outlinewidth\":0,\"ticks\":\"\"}}}],\"scattercarpet\":[{\"type\":\"scattercarpet\",\"marker\":{\"colorbar\":{\"outlinewidth\":0,\"ticks\":\"\"}}}],\"carpet\":[{\"aaxis\":{\"endlinecolor\":\"#2a3f5f\",\"gridcolor\":\"white\",\"linecolor\":\"white\",\"minorgridcolor\":\"white\",\"startlinecolor\":\"#2a3f5f\"},\"baxis\":{\"endlinecolor\":\"#2a3f5f\",\"gridcolor\":\"white\",\"linecolor\":\"white\",\"minorgridcolor\":\"white\",\"startlinecolor\":\"#2a3f5f\"},\"type\":\"carpet\"}],\"table\":[{\"cells\":{\"fill\":{\"color\":\"#EBF0F8\"},\"line\":{\"color\":\"white\"}},\"header\":{\"fill\":{\"color\":\"#C8D4E3\"},\"line\":{\"color\":\"white\"}},\"type\":\"table\"}],\"barpolar\":[{\"marker\":{\"line\":{\"color\":\"#E5ECF6\",\"width\":0.5},\"pattern\":{\"fillmode\":\"overlay\",\"size\":10,\"solidity\":0.2}},\"type\":\"barpolar\"}],\"pie\":[{\"automargin\":true,\"type\":\"pie\"}]},\"layout\":{\"autotypenumbers\":\"strict\",\"colorway\":[\"#636efa\",\"#EF553B\",\"#00cc96\",\"#ab63fa\",\"#FFA15A\",\"#19d3f3\",\"#FF6692\",\"#B6E880\",\"#FF97FF\",\"#FECB52\"],\"font\":{\"color\":\"#2a3f5f\"},\"hovermode\":\"closest\",\"hoverlabel\":{\"align\":\"left\"},\"paper_bgcolor\":\"white\",\"plot_bgcolor\":\"#E5ECF6\",\"polar\":{\"bgcolor\":\"#E5ECF6\",\"angularaxis\":{\"gridcolor\":\"white\",\"linecolor\":\"white\",\"ticks\":\"\"},\"radialaxis\":{\"gridcolor\":\"white\",\"linecolor\":\"white\",\"ticks\":\"\"}},\"ternary\":{\"bgcolor\":\"#E5ECF6\",\"aaxis\":{\"gridcolor\":\"white\",\"linecolor\":\"white\",\"ticks\":\"\"},\"baxis\":{\"gridcolor\":\"white\",\"linecolor\":\"white\",\"ticks\":\"\"},\"caxis\":{\"gridcolor\":\"white\",\"linecolor\":\"white\",\"ticks\":\"\"}},\"coloraxis\":{\"colorbar\":{\"outlinewidth\":0,\"ticks\":\"\"}},\"colorscale\":{\"sequential\":[[0.0,\"#0d0887\"],[0.1111111111111111,\"#46039f\"],[0.2222222222222222,\"#7201a8\"],[0.3333333333333333,\"#9c179e\"],[0.4444444444444444,\"#bd3786\"],[0.5555555555555556,\"#d8576b\"],[0.6666666666666666,\"#ed7953\"],[0.7777777777777778,\"#fb9f3a\"],[0.8888888888888888,\"#fdca26\"],[1.0,\"#f0f921\"]],\"sequentialminus\":[[0.0,\"#0d0887\"],[0.1111111111111111,\"#46039f\"],[0.2222222222222222,\"#7201a8\"],[0.3333333333333333,\"#9c179e\"],[0.4444444444444444,\"#bd3786\"],[0.5555555555555556,\"#d8576b\"],[0.6666666666666666,\"#ed7953\"],[0.7777777777777778,\"#fb9f3a\"],[0.8888888888888888,\"#fdca26\"],[1.0,\"#f0f921\"]],\"diverging\":[[0,\"#8e0152\"],[0.1,\"#c51b7d\"],[0.2,\"#de77ae\"],[0.3,\"#f1b6da\"],[0.4,\"#fde0ef\"],[0.5,\"#f7f7f7\"],[0.6,\"#e6f5d0\"],[0.7,\"#b8e186\"],[0.8,\"#7fbc41\"],[0.9,\"#4d9221\"],[1,\"#276419\"]]},\"xaxis\":{\"gridcolor\":\"white\",\"linecolor\":\"white\",\"ticks\":\"\",\"title\":{\"standoff\":15},\"zerolinecolor\":\"white\",\"automargin\":true,\"zerolinewidth\":2},\"yaxis\":{\"gridcolor\":\"white\",\"linecolor\":\"white\",\"ticks\":\"\",\"title\":{\"standoff\":15},\"zerolinecolor\":\"white\",\"automargin\":true,\"zerolinewidth\":2},\"scene\":{\"xaxis\":{\"backgroundcolor\":\"#E5ECF6\",\"gridcolor\":\"white\",\"linecolor\":\"white\",\"showbackground\":true,\"ticks\":\"\",\"zerolinecolor\":\"white\",\"gridwidth\":2},\"yaxis\":{\"backgroundcolor\":\"#E5ECF6\",\"gridcolor\":\"white\",\"linecolor\":\"white\",\"showbackground\":true,\"ticks\":\"\",\"zerolinecolor\":\"white\",\"gridwidth\":2},\"zaxis\":{\"backgroundcolor\":\"#E5ECF6\",\"gridcolor\":\"white\",\"linecolor\":\"white\",\"showbackground\":true,\"ticks\":\"\",\"zerolinecolor\":\"white\",\"gridwidth\":2}},\"shapedefaults\":{\"line\":{\"color\":\"#2a3f5f\"}},\"annotationdefaults\":{\"arrowcolor\":\"#2a3f5f\",\"arrowhead\":0,\"arrowwidth\":1},\"geo\":{\"bgcolor\":\"white\",\"landcolor\":\"#E5ECF6\",\"subunitcolor\":\"white\",\"showland\":true,\"showlakes\":true,\"lakecolor\":\"white\"},\"title\":{\"x\":0.05},\"mapbox\":{\"style\":\"light\"}}}},                        {\"responsive\": true}                    ).then(function(){\n",
              "                            \n",
              "var gd = document.getElementById('95d3866d-b89b-4e2f-a886-5459a7e7975b');\n",
              "var x = new MutationObserver(function (mutations, observer) {{\n",
              "        var display = window.getComputedStyle(gd).display;\n",
              "        if (!display || display === 'none') {{\n",
              "            console.log([gd, 'removed!']);\n",
              "            Plotly.purge(gd);\n",
              "            observer.disconnect();\n",
              "        }}\n",
              "}});\n",
              "\n",
              "// Listen for the removal of the full notebook cells\n",
              "var notebookContainer = gd.closest('#notebook-container');\n",
              "if (notebookContainer) {{\n",
              "    x.observe(notebookContainer, {childList: true});\n",
              "}}\n",
              "\n",
              "// Listen for the clearing of the current output cell\n",
              "var outputEl = gd.closest('.output');\n",
              "if (outputEl) {{\n",
              "    x.observe(outputEl, {childList: true});\n",
              "}}\n",
              "\n",
              "                        })                };                            </script>        </div>\n",
              "</body>\n",
              "</html>"
            ]
          },
          "metadata": {}
        }
      ]
    },
    {
      "cell_type": "code",
      "source": [
        "\n",
        "# Specify the model name\n",
        "model_name = \"t5-base\"\n",
        "# Load the pre-trained T5 model for sequence-to-sequence learning\n",
        "model = AutoModelForSeq2SeqLM.from_pretrained(model_name,dropout_rate=params['dropout_rate'])\n",
        "# Initialize the tokenizer for the T5 model\n",
        "tokenizer = AutoTokenizer.from_pretrained(model_name)\n",
        "\n",
        "# Create a data collator\n",
        "data_collator = DataCollatorForSeq2Seq(tokenizer, model=model)"
      ],
      "metadata": {
        "id": "gCm-XqCqFZmo",
        "colab": {
          "base_uri": "https://localhost:8080/",
          "height": 113,
          "referenced_widgets": [
            "ebcdb94287264cd4bf51ec45fa948583",
            "b1e309fce3614c34bc1cd50a6f52d320",
            "9625d02098b2432ea387b71eacda3065",
            "4bf04e906aa743ba8b073d4a44d68b61",
            "5618da763b3e4d618cdebf1ee9ca2252",
            "2edc006ed6e14a6abd5ae1258cc5b7ba",
            "535f175d42c44fddab26beba8f7bf4fe",
            "0ad7715159b84cdcbd18310ecee7a487",
            "174aa968ef7c4b80ab1aa2a4ee6edbf1",
            "cbcfcfef74af404c968c078782d1d5ee",
            "758a62d6badd4e12ad27557419ff7a72",
            "20690b9e74e04a29a226c69b2e4c438d",
            "4904ce06082642e0bb5bf6afadff54f2",
            "5e16789c3089456fb578b85f03e4b299",
            "a38f15b289db4aebb8141b04262b076a",
            "f2ce8fb039604707b62f3dd3753dd18a",
            "15d54ccb6eb240f39cafa0db50d1cc2b",
            "c0c93c0d9c92455497c6e94486e1375d",
            "20c07d9f5c3c4e5d8766e1a31ac1239f",
            "2b8aa44040eb47e1b3cb8d61c31bef3c",
            "e456366fef144a64a99023a33759da9f",
            "82a68cb481d6490483fe1b9bba294d6f",
            "ab5dc68232454c3a86f7e790277de0b3",
            "498a7f49400c443ca09255059dd8d877",
            "980ff58f908c48e2a4fae1b5af85e986",
            "2423b141af344402927bf225af4bca47",
            "5fe2d8c14cb945adb6e53326e8c69a97",
            "ea4ee18c3edf418b98a6079430557888",
            "18a595e685a940618b73a3bddddadcb3",
            "77827f4464504c179c91482213397a5f",
            "53d9bae36e88463e803d3c651a2810fd",
            "4e6f4a55e78842cc8d731cd40079d602",
            "69842cde2d394c8c82b83d2577cae0df"
          ]
        },
        "outputId": "4617bd18-414a-4d86-ebb1-f6760bdf62f1"
      },
      "execution_count": null,
      "outputs": [
        {
          "output_type": "display_data",
          "data": {
            "text/plain": [
              "Downloading (…)lve/main/config.json:   0%|          | 0.00/1.21k [00:00<?, ?B/s]"
            ],
            "application/vnd.jupyter.widget-view+json": {
              "version_major": 2,
              "version_minor": 0,
              "model_id": "ebcdb94287264cd4bf51ec45fa948583"
            }
          },
          "metadata": {}
        },
        {
          "output_type": "display_data",
          "data": {
            "text/plain": [
              "Downloading (…)ve/main/spiece.model:   0%|          | 0.00/792k [00:00<?, ?B/s]"
            ],
            "application/vnd.jupyter.widget-view+json": {
              "version_major": 2,
              "version_minor": 0,
              "model_id": "20690b9e74e04a29a226c69b2e4c438d"
            }
          },
          "metadata": {}
        },
        {
          "output_type": "display_data",
          "data": {
            "text/plain": [
              "Downloading (…)/main/tokenizer.json:   0%|          | 0.00/1.39M [00:00<?, ?B/s]"
            ],
            "application/vnd.jupyter.widget-view+json": {
              "version_major": 2,
              "version_minor": 0,
              "model_id": "ab5dc68232454c3a86f7e790277de0b3"
            }
          },
          "metadata": {}
        }
      ]
    },
    {
      "cell_type": "code",
      "source": [
        "# Create the training dataset by applying the preprocess function to each row in df_train\n",
        "train_dataset = df_train.apply(lambda row: preprocess(row,params['input_seq_length'],params['output_seq_length'],tokenizer), axis=1)\n",
        "\n",
        "# Create the validation dataset by applying the preprocess function to each row in df_val\n",
        "val_dataset = df_val.apply(lambda row: preprocess(row, params['input_seq_length'],params['output_seq_length'],tokenizer), axis=1)\n",
        "\n",
        "# Convert the train_dataset from a DataFrame to a list\n",
        "train_dataset=train_dataset.to_list()\n",
        "# Convert the val_dataset from a DataFrame to a list\n",
        "val_dataset=val_dataset.to_list()\n",
        "# Create an instance of the MyDataset class for the training dataset\n",
        "train_dataset = MyDataset(train_dataset)\n",
        "\n",
        "# Create an instance of the MyDataset class for the validation dataset\n",
        "val_dataset = MyDataset(val_dataset)"
      ],
      "metadata": {
        "id": "JCgIstdzGiCu"
      },
      "execution_count": null,
      "outputs": []
    },
    {
      "cell_type": "code",
      "source": [
        "dir='/content/drive/MyDrive/MTP Project/out_attr/checkpoints/'\n",
        "\n",
        "training_args = Seq2SeqTrainingArguments(\n",
        "\n",
        "  output_dir=dir,\n",
        "  evaluation_strategy=\"epoch\",\n",
        "  save_strategy=\"epoch\",\n",
        "   logging_strategy='epoch',\n",
        "  learning_rate=params['learning_rate'],\n",
        "  per_device_train_batch_size=params['per_device_train_batch_size'],\n",
        "  per_device_eval_batch_size=params['per_device_eval_batch_size'],\n",
        "  weight_decay=params['weight_decay'],\n",
        "  save_total_limit=1,\n",
        "  num_train_epochs=params['num_train_epochs'],\n",
        "  predict_with_generate=True,\n",
        "  load_best_model_at_end=True,\n",
        "    metric_for_best_model='eval_loss',\n",
        "    greater_is_better=False\n",
        "\n",
        "\n",
        "\n",
        "\n",
        ")"
      ],
      "metadata": {
        "id": "ufqrwqAKG4GU"
      },
      "execution_count": null,
      "outputs": []
    },
    {
      "cell_type": "code",
      "source": [
        "# Import the necessary libraries\n",
        "\n",
        "def post_process(text):\n",
        "    # Convert the text to lowercase\n",
        "    text = text.lower()\n",
        "\n",
        "    # Tokenize the text using NLTK's word_tokenize\n",
        "    tokens = nltk.word_tokenize(text)\n",
        "\n",
        "    # Loop through each token in the list\n",
        "    for i in range(len(tokens)):\n",
        "        w = tokens[i]\n",
        "\n",
        "        # Remove any spaces in the token\n",
        "        w = w.replace(\" \", \"\")\n",
        "\n",
        "        # Replace the token in the list with the modified one\n",
        "        tokens[i] = w\n",
        "\n",
        "    # Get the set of English stopwords\n",
        "    stop_words = set(stopwords.words('english'))\n",
        "\n",
        "    # Filter out the stopwords from the tokens list\n",
        "    filtered_tokens = [word for word in tokens if word not in stop_words]\n",
        "\n",
        "    # Join the tokens back into a preprocessed text string\n",
        "    preprocessed_text = ' '.join(tokens)\n",
        "\n",
        "    # Load the English language model in spaCy\n",
        "    nlp = spacy.load('en_core_web_sm')\n",
        "\n",
        "    # Apply lemmatization to the preprocessed text using spaCy\n",
        "    doc = nlp(preprocessed_text)\n",
        "    lemmatized_text = \" \".join([token.lemma_ for token in doc])\n",
        "\n",
        "    # Remove any non-alphanumeric characters from the lemmatized text using regular expression\n",
        "    text = re.sub('[^a-zA-Z0-9\\s]', '', lemmatized_text)\n",
        "\n",
        "    # Tokenize the text again to get the final list of tokens\n",
        "    tokens = nltk.word_tokenize(text)\n",
        "\n",
        "    # Return the list of tokens\n",
        "    return tokens\n",
        "#function defined to apply postprocessing to predicted and label text\n",
        "def post_process(text):\n",
        "  # Convert the text to lowercase\n",
        "  text = text.lower()\n",
        "  # Tokenize the text using NLTK's word_tokenize\n",
        "  tokens = nltk.word_tokenize(text)\n",
        "  # Loop through each token in the list\n",
        "  for i in range(len(tokens)):\n",
        "     w=tokens[i]\n",
        "      # Remove any spaces in the token\n",
        "     w=w.replace(\" \",\"\")\n",
        "\n",
        "     # Replace the token in the list with the modified one\n",
        "     tokens[i]=w\n",
        "  # Get the set of English stopwords\n",
        "  stop_words = set(stopwords.words('english'))\n",
        "  # Filter out the stopwords from the tokens list\n",
        "  filtered_tokens = [word for word in tokens if word not in stop_words]\n",
        "\n",
        "  # Join the tokens back into a preprocessed text string\n",
        "  preprocessed_text = ' '.join(tokens)\n",
        "\n",
        "  # Apply lemmatization to the preprocessed text using spaCy\n",
        "  doc = nlp(preprocessed_text)\n",
        "\n",
        "  lemmatized_text = \" \".join([token.lemma_ for token in doc])\n",
        "\n",
        "  # Remove any non-alphanumeric characters from the lemmatized text using regular expression\n",
        "  text = re.sub('[^a-zA-Z0-9\\s]', '',  lemmatized_text)\n",
        "  # Tokenize the text again to get the final list of tokens\n",
        "  tokens = nltk.word_tokenize(text)\n",
        "  return tokens"
      ],
      "metadata": {
        "id": "bdNj6XVmT7Zo"
      },
      "execution_count": null,
      "outputs": []
    },
    {
      "cell_type": "code",
      "source": [
        "#function defined to apply postprocessing to predicted and label text\n",
        "def post_process(text):\n",
        "  # Convert the text to lowercase\n",
        "  text = text.lower()\n",
        "  # Tokenize the text using NLTK's word_tokenize\n",
        "  tokens = nltk.word_tokenize(text)\n",
        "  # Loop through each token in the list\n",
        "  for i in range(len(tokens)):\n",
        "     w=tokens[i]\n",
        "      # Remove any spaces in the token\n",
        "     w=w.replace(\" \",\"\")\n",
        "\n",
        "     # Replace the token in the list with the modified one\n",
        "     tokens[i]=w\n",
        "  # Get the set of English stopwords\n",
        "  stop_words = set(stopwords.words('english'))\n",
        "  # Filter out the stopwords from the tokens list\n",
        "  filtered_tokens = [word for word in tokens if word not in stop_words]\n",
        "\n",
        "  # Join the tokens back into a preprocessed text string\n",
        "  preprocessed_text = ' '.join(tokens)\n",
        "\n",
        "  # Apply lemmatization to the preprocessed text using spaCy\n",
        "  doc = nlp(preprocessed_text)\n",
        "\n",
        "  lemmatized_text = \" \".join([token.lemma_ for token in doc])\n",
        "\n",
        "  # Remove any non-alphanumeric characters from the lemmatized text using regular expression\n",
        "  text = re.sub('[^a-zA-Z0-9\\s]', '',  lemmatized_text)\n",
        "  # Tokenize the text again to get the final list of tokens\n",
        "  tokens = nltk.word_tokenize(text)\n",
        "  return tokens"
      ],
      "metadata": {
        "id": "9Lx_w9aMRraN"
      },
      "execution_count": null,
      "outputs": []
    },
    {
      "cell_type": "code",
      "source": [
        "def compute_metrics(eval_pred):\n",
        "  tokenizer = AutoTokenizer.from_pretrained(\"t5-base\")\n",
        "  preds, labels = eval_pred\n",
        "  prec,recall=[],[]\n",
        "  if isinstance(preds, tuple):\n",
        "       preds = preds[0]\n",
        "  decoded_preds = tokenizer.batch_decode(preds, skip_special_tokens=True)\n",
        "   # Replace -100 in the labels as we can't decode them.\n",
        "  labels = np.where(labels != -100, labels, tokenizer.pad_token_id)\n",
        "  decoded_labels = tokenizer.batch_decode(labels, skip_special_tokens=True)\n",
        "\n",
        "  for i in range(len(decoded_preds)):\n",
        "        pred_tokens = post_process(decoded_preds[i])\n",
        "        label_tokens = post_process(decoded_labels[i])\n",
        "\n",
        "         # calculate overlap\n",
        "        overlap = len(set(pred_tokens).intersection(set(label_tokens)))\n",
        "        if(len(pred_tokens)!=0):\n",
        "           rp = overlap / len(pred_tokens)\n",
        "        else:\n",
        "           rp=0\n",
        "        prec.append(rp)\n",
        "        if(len(label_tokens)!=0):\n",
        "    # calculate relaxed recall\n",
        "           rr = overlap / len(label_tokens)\n",
        "        else:\n",
        "             rr=0\n",
        "        recall.append(rr)\n",
        "  print(prec,recall)\n",
        "  precision,recall=np.mean(prec),np.mean(recall)\n",
        "  f1=2*precision*recall / (precision+recall)\n",
        "  res={'Relaxed Precision':precision,'Relaxed Recall':recall,'F1-score':f1}\n",
        "\n",
        "  return res\n",
        "\n",
        "\n",
        "\n"
      ],
      "metadata": {
        "id": "sbepibPlRAqO"
      },
      "execution_count": null,
      "outputs": []
    },
    {
      "cell_type": "code",
      "source": [
        "trainer = Seq2SeqTrainer(\n",
        "    model,\n",
        "    training_args,\n",
        "    train_dataset=train_dataset,\n",
        "    eval_dataset=val_dataset,\n",
        "\n",
        "    data_collator=data_collator,\n",
        "    tokenizer=tokenizer,\n",
        "    compute_metrics=compute_metrics\n",
        "\n",
        ")\n",
        "trainer.train()"
      ],
      "metadata": {
        "id": "VrvG_T9tHi-9"
      },
      "execution_count": null,
      "outputs": []
    },
    {
      "cell_type": "code",
      "source": [
        "trainer.state.log_history"
      ],
      "metadata": {
        "id": "u85oRB1JRxTc"
      },
      "execution_count": null,
      "outputs": []
    },
    {
      "cell_type": "code",
      "source": [
        "logs=trainer.state.log_history"
      ],
      "metadata": {
        "id": "Xjveh_IfQ_ab"
      },
      "execution_count": null,
      "outputs": []
    },
    {
      "cell_type": "code",
      "source": [
        "print(logs)"
      ],
      "metadata": {
        "colab": {
          "base_uri": "https://localhost:8080/"
        },
        "id": "YnznR1DHRO91",
        "outputId": "a5ed1181-e2a4-42bb-8d30-c3faec48ad59"
      },
      "execution_count": null,
      "outputs": [
        {
          "output_type": "stream",
          "name": "stdout",
          "text": [
            "[{'loss': 0.6005, 'learning_rate': 5.0075041776178746e-05, 'epoch': 1.0, 'step': 4863}, {'eval_loss': 0.3017459511756897, 'eval_Relaxed Precision': 0.910667380952381, 'eval_Relaxed Recall': 0.9117305291005291, 'eval_F1-score': 0.9111986449174556, 'eval_runtime': 355.6786, 'eval_samples_per_second': 42.173, 'eval_steps_per_second': 2.637, 'epoch': 1.0, 'step': 4863}, {'loss': 0.299, 'learning_rate': 4.7293095010835485e-05, 'epoch': 2.0, 'step': 9726}, {'eval_loss': 0.25741755962371826, 'eval_Relaxed Precision': 0.9245016666666667, 'eval_Relaxed Recall': 0.9249411375661376, 'eval_F1-score': 0.9247213499021161, 'eval_runtime': 357.2206, 'eval_samples_per_second': 41.991, 'eval_steps_per_second': 2.626, 'epoch': 2.0, 'step': 9726}, {'loss': 0.2168, 'learning_rate': 4.451114824549222e-05, 'epoch': 3.0, 'step': 14589}, {'eval_loss': 0.24358727037906647, 'eval_Relaxed Precision': 0.9315002525252525, 'eval_Relaxed Recall': 0.9352176719576719, 'eval_F1-score': 0.9333552607697361, 'eval_runtime': 361.6279, 'eval_samples_per_second': 41.479, 'eval_steps_per_second': 2.594, 'epoch': 3.0, 'step': 14589}, {'loss': 0.1654, 'learning_rate': 4.172920148014896e-05, 'epoch': 4.0, 'step': 19452}, {'eval_loss': 0.23476430773735046, 'eval_Relaxed Precision': 0.9354429365079365, 'eval_Relaxed Recall': 0.9381359788359788, 'eval_F1-score': 0.9367875222111876, 'eval_runtime': 359.0464, 'eval_samples_per_second': 41.777, 'eval_steps_per_second': 2.612, 'epoch': 4.0, 'step': 19452}, {'loss': 0.1304, 'learning_rate': 3.894725471480569e-05, 'epoch': 5.0, 'step': 24315}, {'eval_loss': 0.24954690039157867, 'eval_Relaxed Precision': 0.9351774891774893, 'eval_Relaxed Recall': 0.9413831216931217, 'eval_F1-score': 0.9382700446756221, 'eval_runtime': 361.3237, 'eval_samples_per_second': 41.514, 'eval_steps_per_second': 2.596, 'epoch': 5.0, 'step': 24315}, {'loss': 0.1031, 'learning_rate': 3.616530794946243e-05, 'epoch': 6.0, 'step': 29178}, {'eval_loss': 0.2548036575317383, 'eval_Relaxed Precision': 0.9368952645502646, 'eval_Relaxed Recall': 0.9442789947089948, 'eval_F1-score': 0.9405726388213517, 'eval_runtime': 359.8283, 'eval_samples_per_second': 41.687, 'eval_steps_per_second': 2.607, 'epoch': 6.0, 'step': 29178}, {'loss': 0.0864, 'learning_rate': 3.338336118411916e-05, 'epoch': 7.0, 'step': 34041}, {'eval_loss': 0.27611875534057617, 'eval_Relaxed Precision': 0.940130622895623, 'eval_Relaxed Recall': 0.943527724867725, 'eval_F1-score': 0.9418261106133742, 'eval_runtime': 358.7484, 'eval_samples_per_second': 41.812, 'eval_steps_per_second': 2.615, 'epoch': 7.0, 'step': 34041}, {'loss': 0.0693, 'learning_rate': 3.06014144187759e-05, 'epoch': 8.0, 'step': 38904}, {'eval_loss': 0.2947790026664734, 'eval_Relaxed Precision': 0.9406539177489178, 'eval_Relaxed Recall': 0.9438686772486772, 'eval_F1-score': 0.9422585555102777, 'eval_runtime': 359.2691, 'eval_samples_per_second': 41.751, 'eval_steps_per_second': 2.611, 'epoch': 8.0, 'step': 38904}, {'loss': 0.0587, 'learning_rate': 2.7819467653432637e-05, 'epoch': 9.0, 'step': 43767}, {'eval_loss': 0.30742162466049194, 'eval_Relaxed Precision': 0.9393978042328042, 'eval_Relaxed Recall': 0.943570582010582, 'eval_F1-score': 0.9414795695511355, 'eval_runtime': 359.3463, 'eval_samples_per_second': 41.742, 'eval_steps_per_second': 2.61, 'epoch': 9.0, 'step': 43767}, {'loss': 0.0489, 'learning_rate': 2.5037520888089373e-05, 'epoch': 10.0, 'step': 48630}, {'eval_loss': 0.31526148319244385, 'eval_Relaxed Precision': 0.9389128715728716, 'eval_Relaxed Recall': 0.9427724603174603, 'eval_F1-score': 0.9408387076783333, 'eval_runtime': 359.8937, 'eval_samples_per_second': 41.679, 'eval_steps_per_second': 2.606, 'epoch': 10.0, 'step': 48630}, {'loss': 0.0408, 'learning_rate': 2.225557412274611e-05, 'epoch': 11.0, 'step': 53493}, {'eval_loss': 0.33908990025520325, 'eval_Relaxed Precision': 0.9405836243386243, 'eval_Relaxed Recall': 0.9461621164021163, 'eval_F1-score': 0.9433646234791675, 'eval_runtime': 359.4955, 'eval_samples_per_second': 41.725, 'eval_steps_per_second': 2.609, 'epoch': 11.0, 'step': 53493}, {'loss': 0.0348, 'learning_rate': 1.9473627357402845e-05, 'epoch': 12.0, 'step': 58356}, {'eval_loss': 0.35120922327041626, 'eval_Relaxed Precision': 0.9407375805675806, 'eval_Relaxed Recall': 0.9451369312169312, 'eval_F1-score': 0.9429321245099674, 'eval_runtime': 360.9828, 'eval_samples_per_second': 41.553, 'eval_steps_per_second': 2.598, 'epoch': 12.0, 'step': 58356}, {'loss': 0.0312, 'learning_rate': 1.669168059205958e-05, 'epoch': 13.0, 'step': 63219}, {'eval_loss': 0.36560800671577454, 'eval_Relaxed Precision': 0.9407376863876865, 'eval_Relaxed Recall': 0.9449224074074074, 'eval_F1-score': 0.942825403459933, 'eval_runtime': 359.9785, 'eval_samples_per_second': 41.669, 'eval_steps_per_second': 2.606, 'epoch': 13.0, 'step': 63219}, {'loss': 0.0263, 'learning_rate': 1.3909733826716318e-05, 'epoch': 14.0, 'step': 68082}, {'eval_loss': 0.3781859278678894, 'eval_Relaxed Precision': 0.9405513371813372, 'eval_Relaxed Recall': 0.9449564814814815, 'eval_F1-score': 0.9427487634242662, 'eval_runtime': 361.2276, 'eval_samples_per_second': 41.525, 'eval_steps_per_second': 2.597, 'epoch': 14.0, 'step': 68082}, {'loss': 0.0236, 'learning_rate': 1.1127787061373054e-05, 'epoch': 15.0, 'step': 72945}, {'eval_loss': 0.38232171535491943, 'eval_Relaxed Precision': 0.9420701996151996, 'eval_Relaxed Recall': 0.9466993121693121, 'eval_F1-score': 0.9443790832352946, 'eval_runtime': 360.6098, 'eval_samples_per_second': 41.596, 'eval_steps_per_second': 2.601, 'epoch': 15.0, 'step': 72945}, {'loss': 0.0207, 'learning_rate': 8.34584029602979e-06, 'epoch': 16.0, 'step': 77808}, {'eval_loss': 0.3953250050544739, 'eval_Relaxed Precision': 0.9420860726310726, 'eval_Relaxed Recall': 0.9457874603174603, 'eval_F1-score': 0.9439331379815296, 'eval_runtime': 358.5965, 'eval_samples_per_second': 41.83, 'eval_steps_per_second': 2.616, 'epoch': 16.0, 'step': 77808}, {'loss': 0.0182, 'learning_rate': 5.563893530686527e-06, 'epoch': 17.0, 'step': 82671}, {'eval_loss': 0.40590700507164, 'eval_Relaxed Precision': 0.9416921837421838, 'eval_Relaxed Recall': 0.9461892857142857, 'eval_F1-score': 0.9439353784793191, 'eval_runtime': 362.8001, 'eval_samples_per_second': 41.345, 'eval_steps_per_second': 2.585, 'epoch': 17.0, 'step': 82671}, {'loss': 0.0166, 'learning_rate': 2.7819467653432636e-06, 'epoch': 18.0, 'step': 87534}, {'eval_loss': 0.40768367052078247, 'eval_Relaxed Precision': 0.9422342063492062, 'eval_Relaxed Recall': 0.9465533333333332, 'eval_F1-score': 0.9443888315256803, 'eval_runtime': 362.0128, 'eval_samples_per_second': 41.435, 'eval_steps_per_second': 2.591, 'epoch': 18.0, 'step': 87534}, {'loss': 0.0159, 'learning_rate': 0.0, 'epoch': 19.0, 'step': 92397}, {'eval_loss': 0.40922123193740845, 'eval_Relaxed Precision': 0.9424171043771044, 'eval_Relaxed Recall': 0.9468888888888889, 'eval_F1-score': 0.9446477045159994, 'eval_runtime': 362.0927, 'eval_samples_per_second': 41.426, 'eval_steps_per_second': 2.59, 'epoch': 19.0, 'step': 92397}, {'train_runtime': 19226.7456, 'train_samples_per_second': 76.879, 'train_steps_per_second': 4.806, 'total_flos': 1.3236557049851904e+17, 'train_loss': 0.10560085907208669, 'epoch': 19.0, 'step': 92397}]\n"
          ]
        }
      ]
    },
    {
      "cell_type": "code",
      "source": [
        "import json\n",
        "with open('/content/drive/MyDrive/MTP Project/out_attr/logs_new.json','w') as f:\n",
        "  json.dump(logs,f)\n"
      ],
      "metadata": {
        "id": "aTWJwS4hQQX9"
      },
      "execution_count": null,
      "outputs": []
    },
    {
      "cell_type": "code",
      "source": [
        "#save the pretrained model\n",
        "model.save_pretrained('/content/drive/MyDrive/MTP Project/out_attr/t5_attr_model')"
      ],
      "metadata": {
        "id": "uwgOhl7vOvaM"
      },
      "execution_count": null,
      "outputs": []
    },
    {
      "cell_type": "code",
      "source": [
        "#save tokenizer\n",
        "tokenizer.save_pretrained('/content/drive/MyDrive/MTP Project/out_attr/t5_attr_tokenizer')"
      ],
      "metadata": {
        "colab": {
          "base_uri": "https://localhost:8080/"
        },
        "id": "P72M8ficQIOV",
        "outputId": "56571acd-c5ce-40c0-f262-2783bfdf0183"
      },
      "execution_count": null,
      "outputs": [
        {
          "output_type": "execute_result",
          "data": {
            "text/plain": [
              "('/content/drive/MyDrive/MTP Project/out_attr/t5_attr_tokenizer/tokenizer_config.json',\n",
              " '/content/drive/MyDrive/MTP Project/out_attr/t5_attr_tokenizer/special_tokens_map.json',\n",
              " '/content/drive/MyDrive/MTP Project/out_attr/t5_attr_tokenizer/spiece.model',\n",
              " '/content/drive/MyDrive/MTP Project/out_attr/t5_attr_tokenizer/added_tokens.json',\n",
              " '/content/drive/MyDrive/MTP Project/out_attr/t5_attr_tokenizer/tokenizer.json')"
            ]
          },
          "metadata": {},
          "execution_count": 19
        }
      ]
    },
    {
      "cell_type": "code",
      "source": [
        "eval_result = trainer.evaluate(eval_dataset=val_dataset)\n",
        "print(eval_result)"
      ],
      "metadata": {
        "id": "m5e0OVQIHqzf"
      },
      "execution_count": null,
      "outputs": []
    },
    {
      "cell_type": "code",
      "source": [
        "print(f\"Evaluation loss : {eval_result['eval_loss']}\")"
      ],
      "metadata": {
        "colab": {
          "base_uri": "https://localhost:8080/"
        },
        "id": "9FDyEM9NHyvh",
        "outputId": "4b71c03b-f372-49ba-ed20-2e9c5a07792e"
      },
      "execution_count": null,
      "outputs": [
        {
          "output_type": "stream",
          "name": "stdout",
          "text": [
            "Evaluation loss : 0.23476430773735046\n"
          ]
        }
      ]
    },
    {
      "cell_type": "code",
      "source": [
        "#load the tokenizer & model\n",
        "tokenizer = AutoTokenizer.from_pretrained('/content/drive/MyDrive/MTP Project/out_attr/t5_attr_tokenizer')\n",
        "model = AutoModelForSeq2SeqLM.from_pretrained('/content/drive/MyDrive/MTP Project/out_attr/t5_attr_model')"
      ],
      "metadata": {
        "id": "mCSozUb0WJiB"
      },
      "execution_count": null,
      "outputs": []
    },
    {
      "cell_type": "code",
      "source": [
        "#load the test data with 25 samples of each seq length\n",
        "with open('/content/drive/MyDrive/MTP Project/t5_data/test_data_100_seperate.json' ) as f:\n",
        "  rule_test=json.load(f)\n",
        "len(rule_test)"
      ],
      "metadata": {
        "colab": {
          "base_uri": "https://localhost:8080/"
        },
        "id": "FK4K-oJ9ANzg",
        "outputId": "7d65a2f6-d877-4eea-e257-945a1ddb103d"
      },
      "execution_count": null,
      "outputs": [
        {
          "output_type": "execute_result",
          "data": {
            "text/plain": [
              "100"
            ]
          },
          "metadata": {},
          "execution_count": 9
        }
      ]
    },
    {
      "cell_type": "code",
      "source": [
        "test_json=[]\n",
        "for i in rule_test:\n",
        "  d={}\n",
        "  inp=i['sentence']+\" \"+ f\"What is the attribute related to entity {i['entity']} with quantity {i['quantity']}?\"\n",
        "\n",
        "  outt=i['measuring attribute']\n",
        "  d['input']=inp\n",
        "  d['output']=outt\n",
        "  d['entity']=i['entity']#rule_test[i][0]\n",
        "  d['quantity']=i['quantity']#rule_test[i][2]\n",
        "  d['sen']=i['sentence']\n",
        "  test_json.append(d)\n",
        "len(test_json)"
      ],
      "metadata": {
        "id": "KUS0XmkQVMIE"
      },
      "execution_count": null,
      "outputs": []
    },
    {
      "cell_type": "code",
      "source": [
        "#predict the attribute given sentence,entity,quantity\n",
        "#list of dictionaries with senetence and attribute as keys\n",
        "res=[]\n",
        "for i in range(len(test_json)):\n",
        "\n",
        "  d=test_json[i]\n",
        "\n",
        "  input=d['input']\n",
        "\n",
        "  tokenized_inputs= tokenizer(input, max_length=256, truncation=True,return_tensors='pt')\n",
        "  tokenized_inputs=tokenized_inputs.to('cuda')\n",
        "  output_sequence = model.generate(**tokenized_inputs\n",
        "                                 )\n",
        "\n",
        "# decode the output sequence into text using the tokenizer\n",
        "  #d=rule_test[i]\n",
        "  u={}\n",
        "  print(d['sen'])\n",
        "  print(\"------------------------------Rule based result-------------------------------\")\n",
        "  print(f\" Entity : {d['entity']}\")\n",
        "  print(f\" Quantity : {d['quantity']} \")\n",
        "  print(f\" Attribute : {d['output']} \")\n",
        "  print(\"-------------------------------- T5 Result------------------------------------\")\n",
        "  output_text = tokenizer.decode(output_sequence[0], skip_special_tokens=True)\n",
        "  print(f\" Attribute : {output_text}\")\n",
        "  print('\\n\\n')\n",
        "  u['sentence']=d['sen']\n",
        "  u['attribute']=output_text\n",
        "  res.append(u)"
      ],
      "metadata": {
        "id": "UwsN3rLEVNkQ"
      },
      "execution_count": null,
      "outputs": []
    },
    {
      "cell_type": "code",
      "source": [
        "import json\n",
        "with open ('/content/drive/MyDrive/MTP Project/out_attr/output_test_100.json','w') as f:\n",
        "  json.dump(res,f)\n",
        "#stored as test_25samples_prediction.json"
      ],
      "metadata": {
        "id": "eyrH7dIDV5RG"
      },
      "execution_count": null,
      "outputs": []
    },
    {
      "cell_type": "code",
      "source": [
        " #load the new test data according to distribution\n",
        " with open('/content/drive/MyDrive/MTP Project/t5_data/new_test_data_100.json' ) as f:\n",
        "  rule_test=json.load(f)\n",
        "len(rule_test)"
      ],
      "metadata": {
        "colab": {
          "base_uri": "https://localhost:8080/"
        },
        "id": "xuZGLSfFrpaM",
        "outputId": "a29caa7e-65f0-40c9-c1e5-349e35e54f58"
      },
      "execution_count": null,
      "outputs": [
        {
          "output_type": "execute_result",
          "data": {
            "text/plain": [
              "100"
            ]
          },
          "metadata": {},
          "execution_count": 20
        }
      ]
    },
    {
      "cell_type": "code",
      "source": [
        "test_json=[]\n",
        "for i in rule_test:\n",
        "  d={}\n",
        "  inp=i['sentence']+\" \"+ f\"What is the attribute related to entity {i['entity']} with quantity {i['quantity']}?\"\n",
        "\n",
        "\n",
        "  outt=i['measuring attribute']\n",
        "  d['input']=inp\n",
        "  d['output']=outt\n",
        "  d['entity']=rule_test[i][0]\n",
        "  d['quantity']=rule_test[i][2]\n",
        "  d['sen']=i\n",
        "  test_json.append(d)\n",
        "len(test_json)"
      ],
      "metadata": {
        "id": "Bb6meAKmtQe_"
      },
      "execution_count": null,
      "outputs": []
    },
    {
      "cell_type": "code",
      "source": [
        "res=[]\n",
        "for i in range(len(test_json)):\n",
        "\n",
        "  d=test_json[i]\n",
        "\n",
        "  input=d['input']\n",
        "\n",
        "  tokenized_inputs= tokenizer(input, max_length=256, truncation=True,return_tensors='pt')\n",
        "  tokenized_inputs=tokenized_inputs.to('cuda')\n",
        "  output_sequence = model.generate(**tokenized_inputs\n",
        "                                 )\n",
        "\n",
        "# decode the output sequence into text using the tokenizer\n",
        "  #d=rule_test[i]\n",
        "  u={}\n",
        "  print(d['sen'])\n",
        "  print(\"------------------------------Rule based result-------------------------------\")\n",
        "  print(f\" Entity : {d['entity']}\")\n",
        "  print(f\" Quantity : {d['quantity']} \")\n",
        "  print(f\" Attribute : {d['output']} \")\n",
        "  print(\"-------------------------------- T5 Result------------------------------------\")\n",
        "  output_text = tokenizer.decode(output_sequence[0], skip_special_tokens=True)\n",
        "  print(f\" Attribute : {output_text}\")\n",
        "  print('\\n\\n')\n",
        "  u['sentence']=d['sen']\n",
        "  u['attribute']=output_text\n",
        "  res.append(u)"
      ],
      "metadata": {
        "colab": {
          "base_uri": "https://localhost:8080/"
        },
        "id": "Jvu3jz1JxE2N",
        "outputId": "abc970d2-b92f-4738-d012-8d33f684b40b"
      },
      "execution_count": null,
      "outputs": [
        {
          "output_type": "execute_result",
          "data": {
            "text/plain": [
              "100"
            ]
          },
          "metadata": {},
          "execution_count": 23
        }
      ]
    },
    {
      "cell_type": "code",
      "source": [
        "import json\n",
        "with open ('/content/drive/MyDrive/MTP Project/out_attr/output_new_test_100.json','w') as f:\n",
        "  json.dump(res,f)\n",
        "#stored as test_distribution_prediction.json"
      ],
      "metadata": {
        "id": "z9ZjJ75cYmQf"
      },
      "execution_count": null,
      "outputs": []
    }
  ]
}